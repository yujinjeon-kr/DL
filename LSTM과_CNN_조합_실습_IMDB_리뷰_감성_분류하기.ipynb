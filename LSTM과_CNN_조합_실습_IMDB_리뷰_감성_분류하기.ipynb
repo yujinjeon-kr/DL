{
  "nbformat": 4,
  "nbformat_minor": 0,
  "metadata": {
    "colab": {
      "provenance": []
    },
    "kernelspec": {
      "name": "python3",
      "display_name": "Python 3"
    },
    "language_info": {
      "name": "python"
    }
  },
  "cells": [
    {
      "cell_type": "markdown",
      "source": [
        "## 모두의 딥러닝 개정 3판\n",
        "### 다섯째마당. 딥러닝 활용하기\n",
        "\n",
        "https://wikidocs.net/24586"
      ],
      "metadata": {
        "id": "7F1oDMeRn4ls"
      }
    },
    {
      "cell_type": "markdown",
      "source": [
        "### 2 LSTM과 CNN의 조합을 이용한 영화 리뷰 분류하기  \n",
        " - IMDB(Internet Movie DataBase, IMDB)  \n",
        "  영화와 관련된 정보와 출연진 정보, 개봉 정보, 영화 훅, 평점까지 폭넓은 데이터가 저장된 자료  \n",
        " - 영화에 관한 2만5천여 개의 영화 리뷰. 해당 영화에 대해, 긍정/부정 평가인지도 포함.   \n",
        " - 각 단어에 대한 전처리 마친 상태  \n",
        " - 데이터셋에서 나타나는 빈도에 따라 번호가 정해지므로 빈도가 높은 데이터를 불러와 학습시킬 수 있음."
      ],
      "metadata": {
        "id": "avzJohgVoU36"
      }
    },
    {
      "cell_type": "code",
      "execution_count": null,
      "metadata": {
        "id": "nb3I40mUWQKz"
      },
      "outputs": [],
      "source": [
        "from tensorflow.keras.models import Sequential\n",
        "from tensorflow.keras.layers import Dense, Dropout, Activation,Embedding, LSTM, Conv1D, MaxPooling1D\n",
        "from tensorflow.keras.datasets import imdb\n",
        "from tensorflow.keras.preprocessing import sequence\n",
        "from tensorflow.keras.callbacks import EarlyStopping\n",
        "\n",
        "import numpy as np\n",
        "import matplotlib.pyplot as plt"
      ]
    },
    {
      "cell_type": "code",
      "source": [
        "# 데이터 불러와 학습셋, 테스트셋으로 나눔\n",
        "# 클래스가 긍정/부정 2가지뿐ㅇ라 one-hot-encoding 과정이 없음\n",
        "\n",
        "(X_train, y_train), (X_test, y_test) = imdb.load_data(num_words=5000)"
      ],
      "metadata": {
        "id": "WiCWRzLKZOU5"
      },
      "execution_count": null,
      "outputs": []
    },
    {
      "cell_type": "code",
      "source": [
        "# 단어 수 맞추기\n",
        "X_train = sequence.pad_sequences(X_train, maxlen=500)\n",
        "X_test = sequence.pad_sequences(X_test, maxlen=500)"
      ],
      "metadata": {
        "id": "-QQnqkrsZeny"
      },
      "execution_count": null,
      "outputs": []
    },
    {
      "cell_type": "code",
      "source": [
        "# 모델 구조 설정\n",
        "model = Sequential()\n",
        "model.add(Embedding(5000,100))\n",
        "model.add(Dropout(0,5))\n",
        "model.add(Conv1D(64, 5, padding='valid', activation='relu', strides=1))         # Conv1D: 1차원 배열의 데이터. Conv2D의 개념을 1차원으로 옮긴 것.\n",
        "model.add(MaxPooling1D(pool_size=4))                                            # MaxPooling1D: 2차원 배열을 1차원으로 바꾸어 정해진 구역 안에서 가장 큰 값을 다음 층으로 넘기고 나머지는 버림.\n",
        "model.add(LSTM(55))\n",
        "model.add(Dense(1))\n",
        "model.add(Activation('sigmoid'))\n",
        "\n",
        "# 현재 설정된 모델 구조 보기\n",
        "model.summary()"
      ],
      "metadata": {
        "colab": {
          "base_uri": "https://localhost:8080/"
        },
        "id": "Tcj2E32qaDKY",
        "outputId": "2bc9ea28-1027-443e-ad0d-b682f2e34604"
      },
      "execution_count": null,
      "outputs": [
        {
          "output_type": "stream",
          "name": "stdout",
          "text": [
            "Model: \"sequential_1\"\n",
            "_________________________________________________________________\n",
            " Layer (type)                Output Shape              Param #   \n",
            "=================================================================\n",
            " embedding_1 (Embedding)     (None, None, 100)         500000    \n",
            "                                                                 \n",
            " dropout_1 (Dropout)         (None, None, 100)         0         \n",
            "                                                                 \n",
            " conv1d_1 (Conv1D)           (None, None, 64)          32064     \n",
            "                                                                 \n",
            " max_pooling1d_1 (MaxPoolin  (None, None, 64)          0         \n",
            " g1D)                                                            \n",
            "                                                                 \n",
            " lstm_1 (LSTM)               (None, 55)                26400     \n",
            "                                                                 \n",
            " dense_1 (Dense)             (None, 1)                 56        \n",
            "                                                                 \n",
            " activation_1 (Activation)   (None, 1)                 0         \n",
            "                                                                 \n",
            "=================================================================\n",
            "Total params: 558520 (2.13 MB)\n",
            "Trainable params: 558520 (2.13 MB)\n",
            "Non-trainable params: 0 (0.00 Byte)\n",
            "_________________________________________________________________\n"
          ]
        }
      ]
    },
    {
      "cell_type": "code",
      "source": [
        "# 실행 옵션 설정\n",
        "model.compile(loss='binary_crossentropy', optimizer='adam', metrics=['accuracy'])"
      ],
      "metadata": {
        "id": "K-dRlKMqaDHQ"
      },
      "execution_count": null,
      "outputs": []
    },
    {
      "cell_type": "code",
      "source": [
        "# 학습의 조기중단 설정\n",
        "early_stopping_callback = EarlyStopping(monitor='val_loss', patience=3)\n",
        "\n",
        "# 모델 실행\n",
        "history = model.fit(X_train, y_train, batch_size=40, epochs=100, validation_split=0.25, callbacks=[early_stopping_callback])"
      ],
      "metadata": {
        "colab": {
          "base_uri": "https://localhost:8080/"
        },
        "id": "E8UG62mHjasT",
        "outputId": "3e3ceabe-130c-4bc6-85f7-de350224197d"
      },
      "execution_count": null,
      "outputs": [
        {
          "output_type": "stream",
          "name": "stdout",
          "text": [
            "Epoch 1/100\n",
            "469/469 [==============================] - 115s 239ms/step - loss: 0.3802 - accuracy: 0.8159 - val_loss: 0.3175 - val_accuracy: 0.8629\n",
            "Epoch 2/100\n",
            "469/469 [==============================] - 136s 290ms/step - loss: 0.2182 - accuracy: 0.9177 - val_loss: 0.2707 - val_accuracy: 0.8842\n",
            "Epoch 3/100\n",
            "469/469 [==============================] - 109s 232ms/step - loss: 0.1515 - accuracy: 0.9446 - val_loss: 0.2906 - val_accuracy: 0.8781\n",
            "Epoch 4/100\n",
            "469/469 [==============================] - 105s 225ms/step - loss: 0.1038 - accuracy: 0.9666 - val_loss: 0.3398 - val_accuracy: 0.8786\n",
            "Epoch 5/100\n",
            "469/469 [==============================] - 126s 269ms/step - loss: 0.0629 - accuracy: 0.9807 - val_loss: 0.3894 - val_accuracy: 0.8816\n"
          ]
        }
      ]
    },
    {
      "cell_type": "code",
      "source": [
        "# 5번째 에포크에서 학습이 자동 중단되었고, 그 때의 테스트셋 정확도는 87.50%\n",
        "# 학습이 중단되는 시점은 실행마다 달라질 수 있음."
      ],
      "metadata": {
        "id": "yXz5_fFSqSYy"
      },
      "execution_count": null,
      "outputs": []
    },
    {
      "cell_type": "code",
      "source": [
        "# 테스트 정확도 출력\n",
        "print(\"\\n Test Accuracy: %.4f\" % (model.evaluate(X_test, y_test)[1]))\n",
        "\n",
        "# 학습셋과 테스트셋의 오차 저장\n",
        "y_vloss = history.history['val_loss']\n",
        "y_loss = history.history['loss']"
      ],
      "metadata": {
        "colab": {
          "base_uri": "https://localhost:8080/"
        },
        "id": "LA9uYACMaDEl",
        "outputId": "3cc7b474-aeb6-4868-ac7b-632fefadf355"
      },
      "execution_count": null,
      "outputs": [
        {
          "output_type": "stream",
          "name": "stdout",
          "text": [
            "782/782 [==============================] - 35s 45ms/step - loss: 0.4093 - accuracy: 0.8750\n",
            "\n",
            " Test Accuracy: 0.8750\n"
          ]
        }
      ]
    },
    {
      "cell_type": "code",
      "source": [
        "# 그래프로 표현\n",
        "x_len = np.arange(len(y_loss))\n",
        "plt.plot(x_len, y_vloss, marker='.', c='red', label='Testset_loss')\n",
        "plt.plot(x_len, y_loss, marker='.', c='blue', label='Trainset_loss')\n",
        "\n",
        "plt.plot(x_len, y_vloss, marker='.', c='red', label='Testset_loss')\n",
        "\n",
        "# 그래프에 그리드를 주고 레이블을 표시\n",
        "plt.legend(loc='upper right')\n",
        "plt.grid()\n",
        "plt.xlabel('epoch')\n",
        "plt.ylabel('loss')\n",
        "plt.show()"
      ],
      "metadata": {
        "colab": {
          "base_uri": "https://localhost:8080/",
          "height": 449
        },
        "id": "zZA7MG0raDB2",
        "outputId": "7dabee28-7bc1-48ae-c6be-fbae9e0656e3"
      },
      "execution_count": null,
      "outputs": [
        {
          "output_type": "display_data",
          "data": {
            "text/plain": [
              "<Figure size 640x480 with 1 Axes>"
            ],
            "image/png": "[encoded data removed]"
          },
          "metadata": {}
        }
      ]
    }
  ]
}