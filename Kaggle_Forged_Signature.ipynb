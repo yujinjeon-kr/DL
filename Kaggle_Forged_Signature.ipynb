{
  "cells": [
    {
      "cell_type": "markdown",
      "metadata": {
        "id": "LifiF3erJSuu"
      },
      "source": [
        "\n",
        "## 9.4 합성곱 신경망과 LSTM을 사용하는 시계열 데이터 인식 실습 (p375)\n",
        "#### 9.4.1 데이터 개요  \n",
        "  - http://www.cse.ust.hk/svc2004/download.html 에서 Task1 다운로드\n",
        "  - 총 1600개 서명: 40명이 20회씩 진서명 800개, 각 위조서명 800개\n",
        "  - 첫째 줄은 좌표의 갯수, 데이터의 1, 2번째 열은 각각 x,y 좌표, 3,4번째 열은 각각 좌표가 기록된 시간과 펜이 태블릿과 접촉되었는지 여부.   \n",
        "    \n",
        "#### 9.4.2 학습/데이터 파일 분리와 정답 정보 만들기  \n",
        "  - 1600개 서명 데이터 순서섞기 & 파일명 변환  \n",
        "  - 서명의 진/위조 여부 정답 파일 만들기\n",
        "\n",
        "#### 9.4.3 데이터 읽기 및 전처리  \n",
        "  - 사용자 정의 함수 생성  \n",
        "  - 함수를 이용하여 데이터 읽어오기  \n",
        "  - 정규화 이전의 데이터 구성 확인  \n",
        "  - 데이터 정규화  \n",
        "  - 정규화 이후의 서명 데이터 확인\n",
        "  - 데이터의 진/위조 서명여부 확인 & 학습/테스트용 값 분리\n",
        "\n",
        "#### 9.4.4 모델 구조 지정, 학습 및 테스트"
      ]
    },
    {
      "cell_type": "markdown",
      "metadata": {
        "id": "NJ0B3Z68JFw0"
      },
      "source": [
        "### 9.4.2 학습/데이터 파일 분리와 정답 정보 만들기\n",
        "- 데이터 파일 형태: U[사용자이름]S[서명번호].TXT  \n",
        "- 서명번호 1 ~ 20번은 진 서명 / 21 ~ 40번은 위조서명  \n",
        "- 학습/테스트를 위해 데이터의 순서를 섞고, 각 데이터가 진/위조서명인지 나타내는 별도 파일 생성"
      ]
    },
    {
      "cell_type": "code",
      "execution_count": null,
      "metadata": {
        "colab": {
          "base_uri": "https://localhost:8080/"
        },
        "id": "WxvJ2M1kn58B",
        "outputId": "edbe57b0-3fa9-4957-b5b7-61db316ab718"
      },
      "outputs": [
        {
          "output_type": "stream",
          "name": "stdout",
          "text": [
            "Drive already mounted at /content/drive; to attempt to forcibly remount, call drive.mount(\"/content/drive\", force_remount=True).\n"
          ]
        }
      ],
      "source": [
        "from google.colab import drive\n",
        "drive.mount('/content/drive')"
      ]
    },
    {
      "cell_type": "code",
      "execution_count": null,
      "metadata": {
        "colab": {
          "base_uri": "https://localhost:8080/",
          "height": 140
        },
        "id": "27EgAf1V-h5K",
        "outputId": "b24894ac-578b-410f-c8d6-e0c8e691ec02"
      },
      "outputs": [
        {
          "output_type": "error",
          "ename": "SyntaxError",
          "evalue": "ignored",
          "traceback": [
            "\u001b[0;36m  File \u001b[0;32m\"<ipython-input-2-7977376546d4>\"\u001b[0;36m, line \u001b[0;32m1\u001b[0m\n\u001b[0;31m    ls '/content/drive/MyDrive/Colab Notebooks/svc2004' | wc -l\u001b[0m\n\u001b[0m       ^\u001b[0m\n\u001b[0;31mSyntaxError\u001b[0m\u001b[0;31m:\u001b[0m invalid syntax\n"
          ]
        }
      ],
      "source": [
        "ls '/content/drive/MyDrive/Colab Notebooks/svc2004' | wc -l\n",
        "\n",
        "\n",
        "# !ls : 파일 출력 명령\n",
        "# wc -l: 줄 수 세는 명령\n",
        "# | (Vertical Bar): 합집합, 또는"
      ]
    },
    {
      "cell_type": "code",
      "execution_count": null,
      "metadata": {
        "colab": {
          "base_uri": "https://localhost:8080/"
        },
        "id": "bZoC2BJM9Ld1",
        "outputId": "ad4bebba-7fcf-475e-9bfe-02184a600323"
      },
      "outputs": [
        {
          "output_type": "stream",
          "name": "stdout",
          "text": [
            "Number of files and directories: 1600\n"
          ]
        }
      ],
      "source": [
        "import subprocess\n",
        "\n",
        "# Run the ls command and count the number of lines in the output\n",
        "result = subprocess.run(['ls', '/content/drive/MyDrive/Colab Notebooks/svc2004'], stdout=subprocess.PIPE)\n",
        "file_count = len(result.stdout.decode().splitlines())\n",
        "\n",
        "print(\"Number of files and directories:\", file_count)"
      ]
    },
    {
      "cell_type": "code",
      "execution_count": null,
      "metadata": {
        "id": "X8n0HJ4--h10"
      },
      "outputs": [],
      "source": [
        "# 학습/테스트 데이터 분할을 위해 폴더 2개 생성\n",
        "!mkdir '/content/drive/MyDrive/Colab Notebooks/svc2004/train'\n",
        "!mkdir '/content/drive/MyDrive/Colab Notebooks/svc2004/test'"
      ]
    },
    {
      "cell_type": "markdown",
      "metadata": {
        "id": "Z-Y0heljRFdf"
      },
      "source": [
        "#### 1600개 서명 데이터 순서섞기 & 파일명 변환\n",
        "- 0부터 1599까지의 숫자 섞어 배열에 저장\n",
        "- 전체 서명을 순서대로 하나씩 이름 바꾸기"
      ]
    },
    {
      "cell_type": "code",
      "execution_count": null,
      "metadata": {
        "id": "iesd9vQXt7Rm"
      },
      "outputs": [],
      "source": [
        "import numpy as np\n",
        "import shutil\n",
        "import random\n",
        "folderpath = '/content/drive/MyDrive/Colab Notebooks/svc2004'\n",
        "\n",
        "# 0 ~ 1599 값을 가지는 배열(rand_number)을 생성 & 셔플\n",
        "rand_number = np.array(range(1600))                                             # [   0    1    2 ... 1597 1598 1599]\n",
        "random.seed(100)                                                                # 랜덤섞기 값 고정\n",
        "np.random.shuffle(rand_number)\n",
        "\n",
        "n_train = 1200\n",
        "n_test = 400"
      ]
    },
    {
      "cell_type": "code",
      "execution_count": null,
      "metadata": {
        "colab": {
          "base_uri": "https://localhost:8080/"
        },
        "id": "FDrY4ZmmL3zB",
        "outputId": "3a351b55-8a5d-435a-f27e-ca5dcb8d44b8"
      },
      "outputs": [
        {
          "output_type": "execute_result",
          "data": {
            "text/plain": [
              "array([  95,  623, 1541, ..., 1492,  750, 1239])"
            ]
          },
          "metadata": {},
          "execution_count": 6
        }
      ],
      "source": [
        "rand_number"
      ]
    },
    {
      "cell_type": "code",
      "source": [
        "rand_number"
      ],
      "metadata": {
        "colab": {
          "base_uri": "https://localhost:8080/"
        },
        "id": "obOhmBZGi1rk",
        "outputId": "5db9ebda-4779-47c6-899d-6300a6605c4b"
      },
      "execution_count": null,
      "outputs": [
        {
          "output_type": "execute_result",
          "data": {
            "text/plain": [
              "array([  95,  623, 1541, ..., 1492,  750, 1239])"
            ]
          },
          "metadata": {},
          "execution_count": 7
        }
      ]
    },
    {
      "cell_type": "code",
      "execution_count": null,
      "metadata": {
        "colab": {
          "base_uri": "https://localhost:8080/",
          "height": 70
        },
        "id": "vbNWNRSg-hy8",
        "outputId": "c467530e-f93f-4647-e155-95f540d9aa60"
      },
      "outputs": [
        {
          "output_type": "execute_result",
          "data": {
            "text/plain": [
              "'\\n/U1S1.TXT\\nrand_number[0] = 248\\n/train/248.TXT\\n\\n/U1S2.TXT\\nrand_number[1] = 792\\n/train/792.TXT\\n\\n/U1S3.TXT\\nrand_number[2] = 860\\n/train/860.TXT\\n\\n. . .\\n\\nU40S38.TXT\\nrand_number[1597] = 638\\n/train/638.TXT\\n\\nU40S39.TXT\\nrand_number[1598] = 1211\\n/test/1211.TXT\\n\\nU40S40.TXT\\nrand_number[1599] = 500\\n/train/500.TXT\\n'"
            ],
            "application/vnd.google.colaboratory.intrinsic+json": {
              "type": "string"
            }
          },
          "metadata": {},
          "execution_count": 8
        }
      ],
      "source": [
        "# 서명 파일 이름 변환 : U1S1 ~ U40S40 ---> 0 ~ 1599\n",
        "# train(0~1199) / test(1200~1599) 폴더에 저장\n",
        "\n",
        "cnt = 0\n",
        "for u_id in range(1,41):      # 1~40\n",
        "  for s_id in range(1,41):    # 1~40\n",
        "    filepath_from = f'{folderpath}/U{u_id}S{s_id}.TXT'\n",
        "\n",
        "                                                                                # 파일의 번호에 따라 학습용/테스트용 데이터로 나눔. rand_number[0] ~ rand_number[1599]\n",
        "    if rand_number[cnt] < n_train:                                              # 1200 보다 작으면 train폴더로\n",
        "      filepath_to = f'{folderpath}/train/{rand_number[cnt]}.TXT'                # 파일의 이름 rand_number로 변경\n",
        "    else:                                                                       # 1200 보다 작으면 test폴더로\n",
        "      filepath_to = f'{folderpath}/test/{rand_number[cnt]}.TXT'                 # 파일의 이름 rand_number로 변경\n",
        "    shutil.move(filepath_from, filepath_to)                                     # shutil.move(src, dest) \"src\"파일 또는 디렉토리를 \"dest\"로 이동\n",
        "    cnt = cnt + 1\n",
        "\n",
        "'''\n",
        "/U1S1.TXT\n",
        "rand_number[0] = 95\n",
        "/train/95.TXT\n",
        "\n",
        "/U1S2.TXT\n",
        "rand_number[1] = 623\n",
        "/train/623.TXT\n",
        "\n",
        "/U1S3.TXT\n",
        "rand_number[2] = 1541\n",
        "/train/1451.TXT\n",
        "'''"
      ]
    },
    {
      "cell_type": "markdown",
      "metadata": {
        "id": "nzNUN2kOMo_T"
      },
      "source": [
        "#### 서명의 진/위조 여부 정답 파일 만들기"
      ]
    },
    {
      "cell_type": "code",
      "execution_count": null,
      "metadata": {
        "colab": {
          "base_uri": "https://localhost:8080/",
          "height": 53
        },
        "id": "_wA9Pkuu-hwQ",
        "outputId": "b6d6074e-eeec-4e93-a8ee-062d266b531b"
      },
      "outputs": [
        {
          "output_type": "execute_result",
          "data": {
            "text/plain": [
              "'\\narray([[   0.,    0.],\\n       [   1.,    0.],\\n       [   2.,    0.],\\n       ...,\\n       [1597.,    0.],\\n       [1598.,    0.],\\n       [1599.,    0.]])\\n'"
            ],
            "application/vnd.google.colaboratory.intrinsic+json": {
              "type": "string"
            }
          },
          "metadata": {},
          "execution_count": 9
        }
      ],
      "source": [
        "# 각 서명의 진/위조 서명 여부를 저장한다.\n",
        "b_genuine = np.zeros((1600,2))\n",
        "b_genuine[:,0] = range(1600)\n",
        "b_genuine\n",
        "\n",
        "'''\n",
        "array([[   0.,    0.],\n",
        "       [   1.,    0.],\n",
        "       [   2.,    0.],\n",
        "       ...,\n",
        "       [1597.,    0.],\n",
        "       [1598.,    0.],\n",
        "       [1599.,    0.]])\n",
        "'''"
      ]
    },
    {
      "cell_type": "code",
      "execution_count": null,
      "metadata": {
        "colab": {
          "base_uri": "https://localhost:8080/",
          "height": 70
        },
        "id": "rWqXZNh80iX5",
        "outputId": "2c1f88e9-fa50-47da-ba02-1d3210bbdb15"
      },
      "outputs": [
        {
          "output_type": "execute_result",
          "data": {
            "text/plain": [
              "'\\nU1S\"1\"\\nb_genuine[rand_number[0],1] = 1\\nb_genuine[248,1] = 1\\n\\nU1S\"2\"\\nb_genuine[rand_number[1],1] = 1\\nb_genuine[792,1] = 1\\n\\nU1S\"3\"\\nb_genuine[rand_number[2],1] = 1\\nb_genuine[860,1] = 1\\n.\\n.\\n.\\nU40S\"38\"\\nb_genuine[rand_number[1597],1] = 0\\nb_genuine[638,1] = 0\\n\\nU40S\"39\"\\nb_genuine[rand_number[1598],1] = 0\\nb_genuine[1211,1] = 0\\n\\nU40S\"40\"\\nb_genuine[rand_number[1599],1] = 0\\nb_genuine[500,1] = 0\\n'"
            ],
            "application/vnd.google.colaboratory.intrinsic+json": {
              "type": "string"
            }
          },
          "metadata": {},
          "execution_count": 10
        }
      ],
      "source": [
        "# 정답 정보 구성\n",
        "# s_id가 20 이하이면 진서명으로 값을 1로 지정\n",
        "# s_id가 21 이상이면 위조서명으로 값을 1로 지정\n",
        "\n",
        "cnt = 0\n",
        "for u_id in range(1,41):                                                        # U1S1 ~ U40S40 : 1600번 반복 -> cnt 0 ~ 1599\n",
        "  for s_id in range(1,41):\n",
        "    if s_id < 21:                                                               # 절반은 진짜\n",
        "      b_genuine[rand_number[cnt],1] = 1 #진서명\n",
        "    else:                                                                       # 절반은 위조\n",
        "      b_genuine[rand_number[cnt],1] = 0 #위조서명\n",
        "    cnt = cnt + 1\n",
        "\n",
        "\n",
        "'''\n",
        "U1S\"1\"\n",
        "b_genuine[rand_number[0],1] = 1\n",
        "b_genuine[248,1] = 1\n",
        "\n",
        "U1S\"2\"\n",
        "b_genuine[rand_number[1],1] = 1\n",
        "b_genuine[792,1] = 1\n",
        "\n",
        "U1S\"3\"\n",
        "b_genuine[rand_number[2],1] = 1\n",
        "b_genuine[860,1] = 1\n",
        ".\n",
        ".\n",
        ".\n",
        "U40S\"38\"\n",
        "b_genuine[rand_number[1597],1] = 0\n",
        "b_genuine[638,1] = 0\n",
        "\n",
        "U40S\"39\"\n",
        "b_genuine[rand_number[1598],1] = 0\n",
        "b_genuine[1211,1] = 0\n",
        "\n",
        "U40S\"40\"\n",
        "b_genuine[rand_number[1599],1] = 0\n",
        "b_genuine[500,1] = 0\n",
        "'''\n"
      ]
    },
    {
      "cell_type": "code",
      "execution_count": null,
      "metadata": {
        "id": "5MIfvs16-htX"
      },
      "outputs": [],
      "source": [
        "import pandas as pd\n",
        "\n",
        "#진/위조서명 여부를 csv 파일로 저장한다.\n",
        "\n",
        "# array 배열을 데이터프레임으로 저장\n",
        "df_genuine = pd.DataFrame(b_genuine)\n",
        "\n",
        "# 컬럼명 부여\n",
        "df_genuine.columns = ['ID','bGenuine']\n",
        "\n",
        "# 자료형 정수형으로 지정\n",
        "df_genuine = df_genuine.astype('int32')\n",
        "\n",
        "# 데이터프레임을 지정경로에 csv파일로 저장\n",
        "df_genuine.to_csv(f'{folderpath}/train_info.csv', index=False)"
      ]
    },
    {
      "cell_type": "code",
      "execution_count": null,
      "metadata": {
        "colab": {
          "base_uri": "https://localhost:8080/",
          "height": 423
        },
        "id": "ftQvI17IsD49",
        "outputId": "256d6154-4f81-4169-e19a-64d95587c36a"
      },
      "outputs": [
        {
          "output_type": "execute_result",
          "data": {
            "text/plain": [
              "        ID  bGenuine\n",
              "0        0         1\n",
              "1        1         1\n",
              "2        2         0\n",
              "3        3         0\n",
              "4        4         1\n",
              "...    ...       ...\n",
              "1595  1595         0\n",
              "1596  1596         1\n",
              "1597  1597         1\n",
              "1598  1598         1\n",
              "1599  1599         0\n",
              "\n",
              "[1600 rows x 2 columns]"
            ],
            "text/html": [
              "\n",
              "  <div id=\"df-7b7946ee-1b52-46bf-bd99-945d865cdd57\" class=\"colab-df-container\">\n",
              "    <div>\n",
              "<style scoped>\n",
              "    .dataframe tbody tr th:only-of-type {\n",
              "        vertical-align: middle;\n",
              "    }\n",
              "\n",
              "    .dataframe tbody tr th {\n",
              "        vertical-align: top;\n",
              "    }\n",
              "\n",
              "    .dataframe thead th {\n",
              "        text-align: right;\n",
              "    }\n",
              "</style>\n",
              "<table border=\"1\" class=\"dataframe\">\n",
              "  <thead>\n",
              "    <tr style=\"text-align: right;\">\n",
              "      <th></th>\n",
              "      <th>ID</th>\n",
              "      <th>bGenuine</th>\n",
              "    </tr>\n",
              "  </thead>\n",
              "  <tbody>\n",
              "    <tr>\n",
              "      <th>0</th>\n",
              "      <td>0</td>\n",
              "      <td>1</td>\n",
              "    </tr>\n",
              "    <tr>\n",
              "      <th>1</th>\n",
              "      <td>1</td>\n",
              "      <td>1</td>\n",
              "    </tr>\n",
              "    <tr>\n",
              "      <th>2</th>\n",
              "      <td>2</td>\n",
              "      <td>0</td>\n",
              "    </tr>\n",
              "    <tr>\n",
              "      <th>3</th>\n",
              "      <td>3</td>\n",
              "      <td>0</td>\n",
              "    </tr>\n",
              "    <tr>\n",
              "      <th>4</th>\n",
              "      <td>4</td>\n",
              "      <td>1</td>\n",
              "    </tr>\n",
              "    <tr>\n",
              "      <th>...</th>\n",
              "      <td>...</td>\n",
              "      <td>...</td>\n",
              "    </tr>\n",
              "    <tr>\n",
              "      <th>1595</th>\n",
              "      <td>1595</td>\n",
              "      <td>0</td>\n",
              "    </tr>\n",
              "    <tr>\n",
              "      <th>1596</th>\n",
              "      <td>1596</td>\n",
              "      <td>1</td>\n",
              "    </tr>\n",
              "    <tr>\n",
              "      <th>1597</th>\n",
              "      <td>1597</td>\n",
              "      <td>1</td>\n",
              "    </tr>\n",
              "    <tr>\n",
              "      <th>1598</th>\n",
              "      <td>1598</td>\n",
              "      <td>1</td>\n",
              "    </tr>\n",
              "    <tr>\n",
              "      <th>1599</th>\n",
              "      <td>1599</td>\n",
              "      <td>0</td>\n",
              "    </tr>\n",
              "  </tbody>\n",
              "</table>\n",
              "<p>1600 rows × 2 columns</p>\n",
              "</div>\n",
              "    <div class=\"colab-df-buttons\">\n",
              "\n",
              "  <div class=\"colab-df-container\">\n",
              "    <button class=\"colab-df-convert\" onclick=\"convertToInteractive('df-7b7946ee-1b52-46bf-bd99-945d865cdd57')\"\n",
              "            title=\"Convert this dataframe to an interactive table.\"\n",
              "            style=\"display:none;\">\n",
              "\n",
              "  <svg xmlns=\"http://www.w3.org/2000/svg\" height=\"24px\" viewBox=\"0 -960 960 960\">\n",
              "    <path d=\"M120-120v-720h720v720H120Zm60-500h600v-160H180v160Zm220 220h160v-160H400v160Zm0 220h160v-160H400v160ZM180-400h160v-160H180v160Zm440 0h160v-160H620v160ZM180-180h160v-160H180v160Zm440 0h160v-160H620v160Z\"/>\n",
              "  </svg>\n",
              "    </button>\n",
              "\n",
              "  <style>\n",
              "    .colab-df-container {\n",
              "      display:flex;\n",
              "      gap: 12px;\n",
              "    }\n",
              "\n",
              "    .colab-df-convert {\n",
              "      background-color: #E8F0FE;\n",
              "      border: none;\n",
              "      border-radius: 50%;\n",
              "      cursor: pointer;\n",
              "      display: none;\n",
              "      fill: #1967D2;\n",
              "      height: 32px;\n",
              "      padding: 0 0 0 0;\n",
              "      width: 32px;\n",
              "    }\n",
              "\n",
              "    .colab-df-convert:hover {\n",
              "      background-color: #E2EBFA;\n",
              "      box-shadow: 0px 1px 2px rgba(60, 64, 67, 0.3), 0px 1px 3px 1px rgba(60, 64, 67, 0.15);\n",
              "      fill: #174EA6;\n",
              "    }\n",
              "\n",
              "    .colab-df-buttons div {\n",
              "      margin-bottom: 4px;\n",
              "    }\n",
              "\n",
              "    [theme=dark] .colab-df-convert {\n",
              "      background-color: #3B4455;\n",
              "      fill: #D2E3FC;\n",
              "    }\n",
              "\n",
              "    [theme=dark] .colab-df-convert:hover {\n",
              "      background-color: #434B5C;\n",
              "      box-shadow: 0px 1px 3px 1px rgba(0, 0, 0, 0.15);\n",
              "      filter: drop-shadow(0px 1px 2px rgba(0, 0, 0, 0.3));\n",
              "      fill: #FFFFFF;\n",
              "    }\n",
              "  </style>\n",
              "\n",
              "    <script>\n",
              "      const buttonEl =\n",
              "        document.querySelector('#df-7b7946ee-1b52-46bf-bd99-945d865cdd57 button.colab-df-convert');\n",
              "      buttonEl.style.display =\n",
              "        google.colab.kernel.accessAllowed ? 'block' : 'none';\n",
              "\n",
              "      async function convertToInteractive(key) {\n",
              "        const element = document.querySelector('#df-7b7946ee-1b52-46bf-bd99-945d865cdd57');\n",
              "        const dataTable =\n",
              "          await google.colab.kernel.invokeFunction('convertToInteractive',\n",
              "                                                    [key], {});\n",
              "        if (!dataTable) return;\n",
              "\n",
              "        const docLinkHtml = 'Like what you see? Visit the ' +\n",
              "          '<a target=\"_blank\" href=https://colab.research.google.com/notebooks/data_table.ipynb>data table notebook</a>'\n",
              "          + ' to learn more about interactive tables.';\n",
              "        element.innerHTML = '';\n",
              "        dataTable['output_type'] = 'display_data';\n",
              "        await google.colab.output.renderOutput(dataTable, element);\n",
              "        const docLink = document.createElement('div');\n",
              "        docLink.innerHTML = docLinkHtml;\n",
              "        element.appendChild(docLink);\n",
              "      }\n",
              "    </script>\n",
              "  </div>\n",
              "\n",
              "\n",
              "<div id=\"df-10a70bd8-1cd8-4b4d-a741-7abbf7ca659a\">\n",
              "  <button class=\"colab-df-quickchart\" onclick=\"quickchart('df-10a70bd8-1cd8-4b4d-a741-7abbf7ca659a')\"\n",
              "            title=\"Suggest charts.\"\n",
              "            style=\"display:none;\">\n",
              "\n",
              "<svg xmlns=\"http://www.w3.org/2000/svg\" height=\"24px\"viewBox=\"0 0 24 24\"\n",
              "     width=\"24px\">\n",
              "    <g>\n",
              "        <path d=\"M19 3H5c-1.1 0-2 .9-2 2v14c0 1.1.9 2 2 2h14c1.1 0 2-.9 2-2V5c0-1.1-.9-2-2-2zM9 17H7v-7h2v7zm4 0h-2V7h2v10zm4 0h-2v-4h2v4z\"/>\n",
              "    </g>\n",
              "</svg>\n",
              "  </button>\n",
              "\n",
              "<style>\n",
              "  .colab-df-quickchart {\n",
              "      --bg-color: #E8F0FE;\n",
              "      --fill-color: #1967D2;\n",
              "      --hover-bg-color: #E2EBFA;\n",
              "      --hover-fill-color: #174EA6;\n",
              "      --disabled-fill-color: #AAA;\n",
              "      --disabled-bg-color: #DDD;\n",
              "  }\n",
              "\n",
              "  [theme=dark] .colab-df-quickchart {\n",
              "      --bg-color: #3B4455;\n",
              "      --fill-color: #D2E3FC;\n",
              "      --hover-bg-color: #434B5C;\n",
              "      --hover-fill-color: #FFFFFF;\n",
              "      --disabled-bg-color: #3B4455;\n",
              "      --disabled-fill-color: #666;\n",
              "  }\n",
              "\n",
              "  .colab-df-quickchart {\n",
              "    background-color: var(--bg-color);\n",
              "    border: none;\n",
              "    border-radius: 50%;\n",
              "    cursor: pointer;\n",
              "    display: none;\n",
              "    fill: var(--fill-color);\n",
              "    height: 32px;\n",
              "    padding: 0;\n",
              "    width: 32px;\n",
              "  }\n",
              "\n",
              "  .colab-df-quickchart:hover {\n",
              "    background-color: var(--hover-bg-color);\n",
              "    box-shadow: 0 1px 2px rgba(60, 64, 67, 0.3), 0 1px 3px 1px rgba(60, 64, 67, 0.15);\n",
              "    fill: var(--button-hover-fill-color);\n",
              "  }\n",
              "\n",
              "  .colab-df-quickchart-complete:disabled,\n",
              "  .colab-df-quickchart-complete:disabled:hover {\n",
              "    background-color: var(--disabled-bg-color);\n",
              "    fill: var(--disabled-fill-color);\n",
              "    box-shadow: none;\n",
              "  }\n",
              "\n",
              "  .colab-df-spinner {\n",
              "    border: 2px solid var(--fill-color);\n",
              "    border-color: transparent;\n",
              "    border-bottom-color: var(--fill-color);\n",
              "    animation:\n",
              "      spin 1s steps(1) infinite;\n",
              "  }\n",
              "\n",
              "  @keyframes spin {\n",
              "    0% {\n",
              "      border-color: transparent;\n",
              "      border-bottom-color: var(--fill-color);\n",
              "      border-left-color: var(--fill-color);\n",
              "    }\n",
              "    20% {\n",
              "      border-color: transparent;\n",
              "      border-left-color: var(--fill-color);\n",
              "      border-top-color: var(--fill-color);\n",
              "    }\n",
              "    30% {\n",
              "      border-color: transparent;\n",
              "      border-left-color: var(--fill-color);\n",
              "      border-top-color: var(--fill-color);\n",
              "      border-right-color: var(--fill-color);\n",
              "    }\n",
              "    40% {\n",
              "      border-color: transparent;\n",
              "      border-right-color: var(--fill-color);\n",
              "      border-top-color: var(--fill-color);\n",
              "    }\n",
              "    60% {\n",
              "      border-color: transparent;\n",
              "      border-right-color: var(--fill-color);\n",
              "    }\n",
              "    80% {\n",
              "      border-color: transparent;\n",
              "      border-right-color: var(--fill-color);\n",
              "      border-bottom-color: var(--fill-color);\n",
              "    }\n",
              "    90% {\n",
              "      border-color: transparent;\n",
              "      border-bottom-color: var(--fill-color);\n",
              "    }\n",
              "  }\n",
              "</style>\n",
              "\n",
              "  <script>\n",
              "    async function quickchart(key) {\n",
              "      const quickchartButtonEl =\n",
              "        document.querySelector('#' + key + ' button');\n",
              "      quickchartButtonEl.disabled = true;  // To prevent multiple clicks.\n",
              "      quickchartButtonEl.classList.add('colab-df-spinner');\n",
              "      try {\n",
              "        const charts = await google.colab.kernel.invokeFunction(\n",
              "            'suggestCharts', [key], {});\n",
              "      } catch (error) {\n",
              "        console.error('Error during call to suggestCharts:', error);\n",
              "      }\n",
              "      quickchartButtonEl.classList.remove('colab-df-spinner');\n",
              "      quickchartButtonEl.classList.add('colab-df-quickchart-complete');\n",
              "    }\n",
              "    (() => {\n",
              "      let quickchartButtonEl =\n",
              "        document.querySelector('#df-10a70bd8-1cd8-4b4d-a741-7abbf7ca659a button');\n",
              "      quickchartButtonEl.style.display =\n",
              "        google.colab.kernel.accessAllowed ? 'block' : 'none';\n",
              "    })();\n",
              "  </script>\n",
              "</div>\n",
              "    </div>\n",
              "  </div>\n"
            ]
          },
          "metadata": {},
          "execution_count": 12
        }
      ],
      "source": [
        "df_genuine"
      ]
    },
    {
      "cell_type": "markdown",
      "metadata": {
        "id": "fksckx6AZMuO"
      },
      "source": [
        "### 9.4.3 데이터 읽기 및 전처리\n",
        "서명 데이터의 길이가 상이한 문제를 해결하기 위해, 3개 함수를 사용.  \n",
        "  \n",
        "1) get_max_len 함수: 전체 서명에서 가장 긴 서명의 길이 반환.   \n",
        "2) load_data 함수: 주어진 폴더 전체의 서명을 읽고 저장.   \n",
        "3) load_a_sig 함수: 서명 1개의 데이터를 읽어 반환.    "
      ]
    },
    {
      "cell_type": "code",
      "execution_count": null,
      "metadata": {
        "id": "VQeCcaauonjA"
      },
      "outputs": [],
      "source": [
        "import numpy as np\n",
        "import os"
      ]
    },
    {
      "cell_type": "markdown",
      "metadata": {
        "id": "2sXxN8zcoqXz"
      },
      "source": [
        "#### 1) get_max_len 함수\n",
        " - 파라미터로 학습 및 테스트 폴더의 모든 서명데이터를 읽고,\n",
        " - 전체 서명의 길이 중 가장 긴 길이의 값을 반환한다.  \n",
        " - n_max_len: 전체 서명 데이터들 중 가장 긴 서명의 길이"
      ]
    },
    {
      "cell_type": "code",
      "execution_count": null,
      "metadata": {
        "id": "0mI0D1OU-hq0"
      },
      "outputs": [],
      "source": [
        "# folderpath = '/content/drive/MyDrive/Colab Notebooks/svc2004'\n",
        "\n",
        "def get_max_len(folderpath_train, folderpath_test):\n",
        "  n_max_len = 0\n",
        "  for filename in os.listdir(folderpath_train):                                 # os.listdir 지정한 디렉토리 내의 모든 파일과 디렉토리의 리스트를 리턴 # 0~1199\n",
        "    filepath = f'{folderpath_train}/{filename}'\n",
        "    d, tmp = load_a_sig(filepath)\n",
        "\n",
        "    if d.shape[0] > n_max_len:\n",
        "      n_max_len = d.shape[0]                                                    # n_max_len = 9040\n",
        "\n",
        "    for filename in os.listdir(folderpath_test):                                # 1200~1599\n",
        "      filepath = f'{folderpath_test}/{filename}'\n",
        "      d, tmp = load_a_sig(filepath)\n",
        "\n",
        "      if d.shape[0] > n_max_len:\n",
        "        n_max_len = d.shape[0]                                                  # n_max_len = 11964\n",
        "  return n_max_len"
      ]
    },
    {
      "cell_type": "code",
      "execution_count": null,
      "metadata": {
        "colab": {
          "base_uri": "https://localhost:8080/"
        },
        "id": "Zl8aBF4EQYBA",
        "outputId": "96b68dc8-ef1f-4dbd-a264-70973f314833"
      },
      "outputs": [
        {
          "output_type": "execute_result",
          "data": {
            "text/plain": [
              "793"
            ]
          },
          "metadata": {},
          "execution_count": 18
        }
      ],
      "source": [
        "n_max_len = get_max_len( f'{folderpath}/train', f'{folderpath}/test')\n",
        "n_max_len"
      ]
    },
    {
      "cell_type": "markdown",
      "metadata": {
        "id": "UPQMMmKloGgF"
      },
      "source": [
        "#### 2) load_data 함수\n",
        "- 파라미터로 주어진 폴더에 들어 있는 서명파일 전체를 읽고,\n",
        "- n_files x n_max_len x 2 크기의 numpy 배열로 만들어 반환한다.\n",
        "- 파라미터 n_max_len 은 전체 서명 데이터들 중 가장 긴 서명의 길이를 의미한다.\n",
        "- 데이터와 함께 반환하는 len_sign는 각 서명의 실제 길이를 의미한다."
      ]
    },
    {
      "cell_type": "code",
      "execution_count": null,
      "metadata": {
        "id": "XsnNo9v4AAWB"
      },
      "outputs": [],
      "source": [
        "                                                                                # for example\n",
        "                                                                                # 3개의 파라미터\n",
        "def load_data(folderpath, n_max_len, sig_ids):                                  # train, 793, range(n_train)\n",
        "  filelist = os.listdir(folderpath)                                             # 폴더 내 파일 리스트 불러오기                  # 0.TXT ~ 1199.TXT\n",
        "  n_files = len(filelist)                                                       # 파일의 개수를 n_files 변수에 저장             # 1200\n",
        "  d = np.zeros((n_files,n_max_len,2))                                           # np.zeros 배열 생성: n_files x n_max_len x 2   # 1200 x 793 x 2\n",
        "  len_sign = np.zeros(n_files)                                                  # np.zeros 배열 생성: n_files x 1               # 1200 x 1\n",
        "\n",
        "                                                                                # 각 서명의 실제 길이 저장\n",
        "  for i in sig_ids :                                                            # 0 ~ 1199 / 1200 ~ 1599\n",
        "    filepath = f'{folderpath}/{i}.TXT'                                          # 파일이름을 지정한다.\n",
        "    d_tmp, len_sign[i-sig_ids[0]] = load_a_sig(filepath)                        # load_a_sig 함수로 서명데이터 읽은 후,\n",
        "    d[i-sig_ids[0],:d_tmp.shape[0],:] = d_tmp                                   # 임시 변수에 저장한다. # 준비한 배열(d)에 저장한다.\n",
        "  return d, len_sign\n"
      ]
    },
    {
      "cell_type": "markdown",
      "metadata": {
        "id": "eVMp0YZ5oXBz"
      },
      "source": [
        "#### 3) load_a_sig 함수\n",
        "- 파라미터로 주어진 서명파일을 읽고, nPoint x 2 크기의 numpy 배열로 만들어 반환한다.  \n",
        "  \n",
        "관련 함수와 메소드\n",
        "1. 객체 = open(\"파일경로.확장자명\",'rt') : 읽기모드로 파일 열기/ 'wt' 쓰기모드  \n",
        "R\t파일이 읽기 모드  \n",
        "W\t파일에 쓰기 모드  \n",
        "a\t파일이 쓰기 모드로 열리고 내용이 끝에 추가  \n",
        "rb\t이진 데이터 읽기를 위해 파일 열기  \n",
        "wb\t이진 데이터를 쓰기 위해 파일 열기    \n",
        "\n",
        "2. 읽기 시리즈  \n",
        ".readline() : 파일의 첫번째 줄을 읽어 문자열로 반환  \n",
        ".readlines() : 파일의 모든 라인을 읽어서 각각의 요소를 갖는 리스트로 반환    \n",
        ".read() : 파일의 내용 전체를 문자열로 반환한다   \n",
        "\n"
      ]
    },
    {
      "cell_type": "code",
      "execution_count": null,
      "metadata": {
        "id": "VsL13KfW_y6B"
      },
      "outputs": [],
      "source": [
        "def load_a_sig(filepath):\n",
        "  f = open(filepath,'rt')                                                       # 파일열기 읽기모드\n",
        "  nPoints = int(f.readline())                                                   # 데이터의 첫 줄을 nPoint 변수에 저장 233\n",
        "  d = np.zeros((nPoints,2))                                                     # nPoints x 2 크기의 numpy 배열 만들기 233x2\n",
        "\n",
        "  for i in range(nPoints):                                                      # 포인트의 개수만큼 반복하면서 (0 ~ nPoints-1) 0 ~ 232\n",
        "    line = f.readline()                                                         # 각각의 줄을 읽고,\n",
        "    toks = line.split(' ')                                                      # x,y 좌표를 분리하여\n",
        "    d[i,:] = [int(toks[0]), int(toks[1])]                                       # 저장한다.\n",
        "  f.close()\n",
        "\n",
        "  return d, nPoints"
      ]
    },
    {
      "cell_type": "markdown",
      "metadata": {
        "id": "gvhyG1JXHq4W"
      },
      "source": [
        "#### [부록] .readline 메소드 사용법 살펴보기"
      ]
    },
    {
      "cell_type": "code",
      "execution_count": null,
      "metadata": {
        "colab": {
          "base_uri": "https://localhost:8080/"
        },
        "id": "iGA3Cc2bsoQ9",
        "outputId": "3122fb9c-b432-4849-e8a1-ab38c180c10b"
      },
      "outputs": [
        {
          "data": {
            "text/plain": [
              "<_io.TextIOWrapper name='/content/drive/MyDrive/Colab Notebooks/svc2004/train/0.TXT' mode='rt' encoding='UTF-8'>"
            ]
          },
          "execution_count": 17,
          "metadata": {},
          "output_type": "execute_result"
        }
      ],
      "source": [
        "a = open('/content/drive/MyDrive/Colab Notebooks/svc2004/train/0.TXT', 'rt')\n",
        "a"
      ]
    },
    {
      "cell_type": "code",
      "execution_count": null,
      "metadata": {
        "colab": {
          "base_uri": "https://localhost:8080/",
          "height": 35
        },
        "id": "4qJz1a5lvzJu",
        "outputId": "0b3f3662-9d4b-453a-de17-0fc3e918f775"
      },
      "outputs": [
        {
          "data": {
            "application/vnd.google.colaboratory.intrinsic+json": {
              "type": "string"
            },
            "text/plain": [
              "'233\\n'"
            ]
          },
          "execution_count": 18,
          "metadata": {},
          "output_type": "execute_result"
        }
      ],
      "source": [
        "ini = a.readline()\n",
        "ini"
      ]
    },
    {
      "cell_type": "code",
      "execution_count": null,
      "metadata": {
        "colab": {
          "base_uri": "https://localhost:8080/"
        },
        "id": "cBQtzonnfZPv",
        "outputId": "daa2d593-9bfc-4d34-a513-23aff6c8bce0"
      },
      "outputs": [
        {
          "data": {
            "text/plain": [
              "<_io.TextIOWrapper name='/content/drive/MyDrive/Colab Notebooks/svc2004/train/0.TXT' mode='rt' encoding='UTF-8'>"
            ]
          },
          "execution_count": 21,
          "metadata": {},
          "output_type": "execute_result"
        }
      ],
      "source": [
        "b = open('/content/drive/MyDrive/Colab Notebooks/svc2004/train/0.TXT', 'rt')\n",
        "b"
      ]
    },
    {
      "cell_type": "code",
      "execution_count": null,
      "metadata": {
        "colab": {
          "base_uri": "https://localhost:8080/",
          "height": 35
        },
        "id": "Lvk-fj-d3nc5",
        "outputId": "6bdd3a43-d959-45ac-ac8a-bcbcd64632a5"
      },
      "outputs": [
        {
          "data": {
            "application/vnd.google.colaboratory.intrinsic+json": {
              "type": "string"
            },
            "text/plain": [
              "'233'"
            ]
          },
          "execution_count": 22,
          "metadata": {},
          "output_type": "execute_result"
        }
      ],
      "source": [
        "ini = b.readline().strip()\n",
        "ini"
      ]
    },
    {
      "cell_type": "code",
      "execution_count": null,
      "metadata": {
        "colab": {
          "base_uri": "https://localhost:8080/",
          "height": 35
        },
        "id": "DgytTnPNfujO",
        "outputId": "b42c3b73-be93-4a1d-d14f-d25b96247081"
      },
      "outputs": [
        {
          "data": {
            "application/vnd.google.colaboratory.intrinsic+json": {
              "type": "string"
            },
            "text/plain": [
              "'4671 6572 1077319 0'"
            ]
          },
          "execution_count": 23,
          "metadata": {},
          "output_type": "execute_result"
        }
      ],
      "source": [
        "ini = b.readline().strip()\n",
        "ini"
      ]
    },
    {
      "cell_type": "code",
      "execution_count": null,
      "metadata": {
        "id": "n8MwDmMjIK6_"
      },
      "outputs": [],
      "source": [
        "toks = ini.split(' ')"
      ]
    },
    {
      "cell_type": "code",
      "execution_count": null,
      "metadata": {
        "colab": {
          "base_uri": "https://localhost:8080/",
          "height": 35
        },
        "id": "tuLleCYy5bs5",
        "outputId": "e9e9369b-4a72-4068-aa1b-35e31fb21bcb"
      },
      "outputs": [
        {
          "data": {
            "application/vnd.google.colaboratory.intrinsic+json": {
              "type": "string"
            },
            "text/plain": [
              "'4671'"
            ]
          },
          "execution_count": 25,
          "metadata": {},
          "output_type": "execute_result"
        }
      ],
      "source": [
        "toks[0]"
      ]
    },
    {
      "cell_type": "code",
      "execution_count": null,
      "metadata": {
        "colab": {
          "base_uri": "https://localhost:8080/",
          "height": 35
        },
        "id": "cZUcvEd65geE",
        "outputId": "832f2538-e726-4d64-f689-7795ddb7fa6a"
      },
      "outputs": [
        {
          "data": {
            "application/vnd.google.colaboratory.intrinsic+json": {
              "type": "string"
            },
            "text/plain": [
              "'6572'"
            ]
          },
          "execution_count": 26,
          "metadata": {},
          "output_type": "execute_result"
        }
      ],
      "source": [
        "toks[1]"
      ]
    },
    {
      "cell_type": "code",
      "execution_count": null,
      "metadata": {
        "colab": {
          "base_uri": "https://localhost:8080/"
        },
        "id": "LlReLBrus4u6",
        "outputId": "328e81f2-5d1b-47ff-ad1f-602cee698ebc"
      },
      "outputs": [
        {
          "data": {
            "text/plain": [
              "array([[4671., 6572.],\n",
              "       [   0.,    0.],\n",
              "       [   0.,    0.],\n",
              "       [   0.,    0.],\n",
              "       [   0.,    0.],\n",
              "       [   0.,    0.],\n",
              "       [   0.,    0.],\n",
              "       [   0.,    0.],\n",
              "       [   0.,    0.],\n",
              "       [   0.,    0.]])"
            ]
          },
          "execution_count": 30,
          "metadata": {},
          "output_type": "execute_result"
        }
      ],
      "source": [
        "e = np.zeros((233,2))\n",
        "e[0,:] = [int(toks[0]), int(toks[1])]\n",
        "e[:10,:]"
      ]
    },
    {
      "cell_type": "markdown",
      "metadata": {
        "id": "OOu8dURejlIs"
      },
      "source": [
        "#### [부록] load_a_sig 함수 결과 예시 보기"
      ]
    },
    {
      "cell_type": "code",
      "execution_count": null,
      "metadata": {
        "id": "i36nkrVbh8uG"
      },
      "outputs": [],
      "source": [
        "d1, nPoints1 = load_a_sig('/content/drive/MyDrive/Colab Notebooks/svc2004/train/1.TXT')  #185, 2408 4733 64509870 0"
      ]
    },
    {
      "cell_type": "code",
      "execution_count": null,
      "metadata": {
        "colab": {
          "base_uri": "https://localhost:8080/"
        },
        "id": "elLAFoUmjMQ5",
        "outputId": "57d27954-8e40-4b9c-f13c-1969d85acfd2"
      },
      "outputs": [
        {
          "data": {
            "text/plain": [
              "array([[2408., 4733.],\n",
              "       [2379., 4705.],\n",
              "       [2288., 4722.],\n",
              "       [2249., 4757.],\n",
              "       [2249., 4777.],\n",
              "       [2232., 4801.],\n",
              "       [2222., 4827.],\n",
              "       [2238., 4853.],\n",
              "       [2271., 4900.],\n",
              "       [2356., 4960.]])"
            ]
          },
          "execution_count": 34,
          "metadata": {},
          "output_type": "execute_result"
        }
      ],
      "source": [
        "d1[:10,:]"
      ]
    },
    {
      "cell_type": "code",
      "execution_count": null,
      "metadata": {
        "colab": {
          "base_uri": "https://localhost:8080/"
        },
        "id": "KX8zdmGOjWfx",
        "outputId": "38cd5ce8-425a-4dd2-9d4d-c940602f27f8"
      },
      "outputs": [
        {
          "data": {
            "text/plain": [
              "185"
            ]
          },
          "execution_count": 36,
          "metadata": {},
          "output_type": "execute_result"
        }
      ],
      "source": [
        "nPoints1"
      ]
    },
    {
      "cell_type": "markdown",
      "metadata": {
        "id": "x0WnTgSI5cLR"
      },
      "source": [
        "#### 위 함수를 이용하여 데이터 읽어오기"
      ]
    },
    {
      "cell_type": "code",
      "source": [
        "# 각 데이터의 길이를 체크하고 최대길이 확인\n",
        "n_max_len = get_max_len( f'{folderpath}/train', f'{folderpath}/test')                # get_max_len 함수 : n_max_len 반환"
      ],
      "metadata": {
        "id": "sPfRcxYHqkFr"
      },
      "execution_count": null,
      "outputs": []
    },
    {
      "cell_type": "code",
      "execution_count": null,
      "metadata": {
        "colab": {
          "base_uri": "https://localhost:8080/"
        },
        "id": "u2dTQ8Az-hjE",
        "outputId": "397e3f8b-6989-4619-d608-9a01e2e80186"
      },
      "outputs": [
        {
          "output_type": "execute_result",
          "data": {
            "text/plain": [
              "array([349., 266., 400., ..., 147., 264., 298.])"
            ]
          },
          "metadata": {},
          "execution_count": 34
        }
      ],
      "source": [
        "# 학습용 데이터 load\n",
        "x_train, x_train_len = load_data(f'{folderpath}/train', n_max_len, range(n_train))   # load_data 함수 : d와 len_sign 반환 / d 1200x11946x2, len_sign 1200x1\n",
        "x_train_len"
      ]
    },
    {
      "cell_type": "code",
      "source": [
        "x_train"
      ],
      "metadata": {
        "colab": {
          "base_uri": "https://localhost:8080/"
        },
        "id": "cVJ1zLbDqvfe",
        "outputId": "1fe7aad7-dcdd-44f7-f87f-a7c897de3a90"
      },
      "execution_count": null,
      "outputs": [
        {
          "output_type": "execute_result",
          "data": {
            "text/plain": [
              "array([[[2051., 4210.],\n",
              "        [2051., 4210.],\n",
              "        [2058., 4236.],\n",
              "        ...,\n",
              "        [   0.,    0.],\n",
              "        [   0.,    0.],\n",
              "        [   0.,    0.]],\n",
              "\n",
              "       [[6335., 4436.],\n",
              "        [6372., 4571.],\n",
              "        [6354., 4598.],\n",
              "        ...,\n",
              "        [   0.,    0.],\n",
              "        [   0.,    0.],\n",
              "        [   0.,    0.]],\n",
              "\n",
              "       [[1304., 6679.],\n",
              "        [1252., 6594.],\n",
              "        [1224., 6609.],\n",
              "        ...,\n",
              "        [   0.,    0.],\n",
              "        [   0.,    0.],\n",
              "        [   0.,    0.]],\n",
              "\n",
              "       ...,\n",
              "\n",
              "       [[2347., 4992.],\n",
              "        [2318., 4998.],\n",
              "        [2282., 5024.],\n",
              "        ...,\n",
              "        [   0.,    0.],\n",
              "        [   0.,    0.],\n",
              "        [   0.,    0.]],\n",
              "\n",
              "       [[3722., 4080.],\n",
              "        [3722., 4080.],\n",
              "        [3698., 4107.],\n",
              "        ...,\n",
              "        [   0.,    0.],\n",
              "        [   0.,    0.],\n",
              "        [   0.,    0.]],\n",
              "\n",
              "       [[1993., 6689.],\n",
              "        [1910., 6584.],\n",
              "        [1841., 6605.],\n",
              "        ...,\n",
              "        [   0.,    0.],\n",
              "        [   0.,    0.],\n",
              "        [   0.,    0.]]])"
            ]
          },
          "metadata": {},
          "execution_count": 35
        }
      ]
    },
    {
      "cell_type": "code",
      "source": [
        "x_train.shape"
      ],
      "metadata": {
        "colab": {
          "base_uri": "https://localhost:8080/"
        },
        "id": "2Wci5U4NAJ_7",
        "outputId": "639e51b6-322b-4906-b98c-5f4799d522f3"
      },
      "execution_count": null,
      "outputs": [
        {
          "output_type": "execute_result",
          "data": {
            "text/plain": [
              "(1200, 793, 2)"
            ]
          },
          "metadata": {},
          "execution_count": 50
        }
      ]
    },
    {
      "cell_type": "code",
      "source": [
        "# 테스트용 데이터 load 400\n",
        "x_test, x_test_len = load_data(f'{folderpath}/test', n_max_len, range(n_train,1600)) # load_data 함수 : d와 len_sign 반환\n",
        "x_test_len"
      ],
      "metadata": {
        "colab": {
          "base_uri": "https://localhost:8080/"
        },
        "id": "lmEaCqe9qb1M",
        "outputId": "bb4a6938-93f6-4cba-dff9-966a74c3b5f7"
      },
      "execution_count": null,
      "outputs": [
        {
          "output_type": "execute_result",
          "data": {
            "text/plain": [
              "array([208., 134., 215., 172., 304., 329., 161., 252., 245., 289., 224.,\n",
              "       250., 111., 359., 214., 314., 326., 149., 223., 201., 267., 640.,\n",
              "       408., 147., 121., 118., 274., 323., 195., 233., 476., 154., 122.,\n",
              "       186., 425., 140., 138., 416., 158., 302., 312., 127., 359., 326.,\n",
              "       129., 200., 201., 236., 202., 260., 419., 123., 204., 236., 192.,\n",
              "       371., 111., 233., 227., 368., 147., 221., 191., 159., 146., 357.,\n",
              "       136., 225., 188., 306., 211., 218., 347., 168., 177., 142., 130.,\n",
              "       246., 196., 292., 229., 235., 230., 337., 283., 187., 206., 355.,\n",
              "       218., 168., 290., 239., 126., 221., 480., 151., 113., 335., 240.,\n",
              "       203., 350., 193., 210., 116., 212., 247., 276., 230., 127., 217.,\n",
              "       474., 120., 273., 359., 182., 230., 519., 115., 261., 340., 321.,\n",
              "       281., 425., 252., 508., 595., 121., 312., 327., 239., 406., 214.,\n",
              "       126., 339., 217., 294., 197., 255., 182., 457., 334., 154., 163.,\n",
              "       254., 201., 177., 194., 148., 472., 331., 206., 146., 275., 270.,\n",
              "       295., 246., 217., 186., 459., 109., 115., 498., 115., 208., 292.,\n",
              "       328., 173., 541., 279., 250., 504., 286., 239., 260., 183., 259.,\n",
              "       344., 287., 496., 173., 263., 253., 227., 220., 253.,  95., 158.,\n",
              "       245., 284., 110., 267., 264., 216., 220., 116., 104., 344., 375.,\n",
              "       209., 148., 196., 210., 146., 261., 337., 183., 124., 263., 241.,\n",
              "       326., 326., 501., 294., 153., 323., 178., 186., 221., 332., 345.,\n",
              "       199., 226., 199., 341., 349., 339., 215., 304., 154., 207., 305.,\n",
              "       233., 703., 149., 269., 219., 234., 161., 106., 123., 120., 278.,\n",
              "       470.,  91., 186., 209., 305., 166., 261., 121., 267., 258., 279.,\n",
              "       178., 391., 269., 323., 211., 244., 286., 218., 140., 262., 335.,\n",
              "       134., 208., 324., 457., 559., 179., 313., 316., 281., 127., 203.,\n",
              "       263., 208., 113., 232., 309., 128., 176., 246., 390., 114., 101.,\n",
              "       289., 227., 229., 162., 202., 379., 238., 136., 450., 332., 121.,\n",
              "       218., 152., 172., 201., 236., 190., 215., 254., 148., 388., 155.,\n",
              "       189., 482., 230., 199., 179., 211., 182., 526., 270., 191., 233.,\n",
              "       322., 209., 351., 290., 706., 305., 260., 370., 313., 342., 171.,\n",
              "       157., 218., 144., 166., 246., 233., 333., 169., 399., 276., 245.,\n",
              "       128., 356., 367., 359., 252., 381., 126., 266., 177., 212., 269.,\n",
              "       284., 175., 364., 209., 368., 390., 725., 246., 256., 210., 227.,\n",
              "       312., 115., 123., 422., 312., 316., 180., 248., 220., 238., 223.,\n",
              "       117., 167., 240., 303., 195., 109., 161., 162., 267., 215., 217.,\n",
              "       710., 243., 266., 304., 236., 197., 206., 266., 334., 262., 168.,\n",
              "       324., 185., 190., 728.])"
            ]
          },
          "metadata": {},
          "execution_count": 36
        }
      ]
    },
    {
      "cell_type": "code",
      "source": [
        "x_test.shape"
      ],
      "metadata": {
        "colab": {
          "base_uri": "https://localhost:8080/"
        },
        "id": "TEzl9h8uAd4O",
        "outputId": "0506bf3e-cd53-4d0b-df65-8cd2458a4eaf"
      },
      "execution_count": null,
      "outputs": [
        {
          "output_type": "execute_result",
          "data": {
            "text/plain": [
              "(400, 793, 2)"
            ]
          },
          "metadata": {},
          "execution_count": 53
        }
      ]
    },
    {
      "cell_type": "markdown",
      "metadata": {
        "id": "yZUaFtXR5jGf"
      },
      "source": [
        "#### 정규화 이전의 데이터 구성 확인"
      ]
    },
    {
      "cell_type": "code",
      "execution_count": null,
      "metadata": {
        "id": "vzqULga9-hgv",
        "colab": {
          "base_uri": "https://localhost:8080/",
          "height": 447
        },
        "outputId": "daaf22d0-76ac-445f-941f-6772108af8a3"
      },
      "outputs": [
        {
          "output_type": "execute_result",
          "data": {
            "text/plain": [
              "[<matplotlib.lines.Line2D at 0x7fa8c364e200>]"
            ]
          },
          "metadata": {},
          "execution_count": 40
        },
        {
          "output_type": "display_data",
          "data": {
            "text/plain": [
              "<Figure size 640x480 with 1 Axes>"
            ],
            "image/png": "[encoded data removed]"
          },
          "metadata": {}
        }
      ],
      "source": [
        "import matplotlib.pyplot as plt\n",
        "\n",
        "s_id = 0\n",
        "len_sig = int(x_train_len[s_id])\n",
        "plt.plot(x_train[s_id,:len_sig,0],x_train[s_id,:len_sig,1])\n",
        "\n",
        "'''\n",
        "len_sig = int(x_train_len[0])\n",
        "len_sig = int(349)\n",
        "len_sig = 349\n",
        "\n",
        "plt.plot(x_train[0,:349,0],x_train[0,:349,1])\n",
        "'''"
      ]
    },
    {
      "cell_type": "markdown",
      "metadata": {
        "id": "ySHO0x4151T3"
      },
      "source": [
        "#### 데이터 정규화\n",
        " - 서명 데이터의 값을 0에서 1 사이 값으로 정규화  \n",
        " - 각 데이터에 대해 너비/높이의 최솟/최댓값을 구하고, 0과 1사이 값으로 정규화  \n",
        " - 높이/너비 비율이 중요하므로, 이 비율을 미리 계산해두고 마지막에 곱하여 y 보정"
      ]
    },
    {
      "cell_type": "code",
      "execution_count": null,
      "metadata": {
        "id": "tJTbo2lN-hef"
      },
      "outputs": [],
      "source": [
        "# 학습용 데이터 정규화\n",
        "for i in range(x_train.shape[0]):                                               # range(1200)\n",
        "  len_tmp = int(x_train_len[i])                                                 # i=0 일 때, len_tmp = 349\n",
        "  h_min = np.min(x_train[i,:len_tmp,0])                                         # np.min(x_train[0, :349, 0])\n",
        "  h_max = np.max(x_train[i,:len_tmp,0])                                         # np.max(x_train[0, :349, 0])\n",
        "  v_min = np.min(x_train[i,:len_tmp,1])                                         # np.min(x_train[0, :349, 1])\n",
        "  v_max = np.max(x_train[i,:len_tmp,1])                                         # np.max(x_train[0, :349, 1])\n",
        "\n",
        "  w_h_ratio = (v_max - v_min)/ (h_max - h_min)                                  # height / width 비율\n",
        "\n",
        "  x_train[i,:len_tmp,0] = (x_train[i,:len_tmp,0] - h_min) / (h_max - h_min)\n",
        "  x_train[i,:len_tmp,1] = (x_train[i,:len_tmp,1] - v_min) / (v_max - v_min) * w_h_ratio\n",
        "\n",
        "  '''\n",
        "for i in range(1200):\n",
        "  len_tmp = int(x_train_len[0])\n",
        "  len_tmp = int(349)                                                            # i=0 일 때, len_tmp = 349, i=1일 때 len_tmp = 266, i=2일 때 len_tmp = 400\n",
        "  h_min = np.min(x_train[0, :349, 0])                                           # 가로 최솟값\n",
        "  h_max = np.max(x_train[0, :349, 0])                                           # 가로 최댓값\n",
        "  v_min = np.min(x_train[0, :349, 1])                                           # 세로 최솟값\n",
        "  v_max = np.max(x_train[0, :349, 1])                                           # 세로 최댓값\n",
        "\n",
        "  w_h_ratio = (v_max - v_min)/ (h_max - h_min)                                  # 높이/너비 비율\n",
        "\n",
        "  x_train[0,:349,0] = (x_train[0,:349,0] - 세로 최솟값) / (높이)\n",
        "  x_train[0,:349,1] = (x_train[i,:349,1] - 가로 최솟값) / (너비) * 높이/너비 비율 # y값 보정\n",
        "  '''"
      ]
    },
    {
      "cell_type": "code",
      "execution_count": null,
      "metadata": {
        "id": "7i4mqtMW-hb1"
      },
      "outputs": [],
      "source": [
        "# 테스트 데이터 정규화\n",
        "for i in range(x_test.shape[0]):\n",
        "  len_tmp = int(x_test_len[i])\n",
        "  h_min = np.min(x_test[i,:len_tmp,0])\n",
        "  h_max = np.max(x_test[i,:len_tmp,0])\n",
        "  v_min = np.min(x_test[i,:len_tmp,1])\n",
        "  v_max = np.max(x_test[i,:len_tmp,1])\n",
        "  w_h_ratio = (v_max - v_min)/ (h_max - h_min)\n",
        "  x_test[i,:len_tmp,0] = (x_test[i,:len_tmp,0] - h_min) / (h_max - h_min)\n",
        "  x_test[i,:len_tmp,1] = (x_test[i,:len_tmp,1] - v_min) / (v_max - v_min) * w_h_ratio"
      ]
    },
    {
      "cell_type": "markdown",
      "metadata": {
        "id": "PHXeKAhF6uc-"
      },
      "source": [
        "#### 정규화 이후의 서명 데이터 확인"
      ]
    },
    {
      "cell_type": "code",
      "execution_count": null,
      "metadata": {
        "id": "47aDTSLYn5iV",
        "colab": {
          "base_uri": "https://localhost:8080/",
          "height": 447
        },
        "outputId": "ae47a235-4222-41dd-99d3-4bf6613416f1"
      },
      "outputs": [
        {
          "output_type": "execute_result",
          "data": {
            "text/plain": [
              "[<matplotlib.lines.Line2D at 0x7fa8c35c38e0>]"
            ]
          },
          "metadata": {},
          "execution_count": 43
        },
        {
          "output_type": "display_data",
          "data": {
            "text/plain": [
              "<Figure size 640x480 with 1 Axes>"
            ],
            "image/png": "[encoded data removed]"
          },
          "metadata": {}
        }
      ],
      "source": [
        "import matplotlib.pyplot as plt\n",
        "s_id = 0\n",
        "plt.plot(x_train[s_id,:,0],x_train[s_id,:,1])\n",
        "\n",
        "# plt.plot(x_train[0,:,0],x_train[0,:,1])"
      ]
    },
    {
      "cell_type": "markdown",
      "metadata": {
        "id": "lxl2826W62fb"
      },
      "source": [
        "#### 데이터의 진/위조 서명여부 확인 & 학습/테스트용 값 분리"
      ]
    },
    {
      "cell_type": "code",
      "execution_count": null,
      "metadata": {
        "id": "REXIRmJtn68F"
      },
      "outputs": [],
      "source": [
        "import pandas as pd\n",
        "from tensorflow import keras\n",
        "\n",
        "#파일에서 정답(출력) 정보 획득\n",
        "#train_info.csv 파일은 9.4.2절의 마지막 코드에서 만든 파일\n",
        "y_pd = pd.read_csv(f'{folderpath}/train_info.csv')\n",
        "y_all = np.array(y_pd['bGenuine'])\n",
        "\n",
        "#학습/테스트 데이터 분할 및 원-핫 인코딩\n",
        "y_train = y_all[:n_train]\n",
        "y_train_cat = keras.utils.to_categorical(y_train)\n",
        "y_test = y_all[n_train:]"
      ]
    },
    {
      "cell_type": "code",
      "source": [
        "y_pd"
      ],
      "metadata": {
        "colab": {
          "base_uri": "https://localhost:8080/",
          "height": 423
        },
        "id": "48dgM6hin5lP",
        "outputId": "50313c39-58c4-4b4f-bb48-5a1e97e621b9"
      },
      "execution_count": null,
      "outputs": [
        {
          "output_type": "execute_result",
          "data": {
            "text/plain": [
              "        ID  bGenuine\n",
              "0        0         1\n",
              "1        1         1\n",
              "2        2         0\n",
              "3        3         0\n",
              "4        4         1\n",
              "...    ...       ...\n",
              "1595  1595         0\n",
              "1596  1596         1\n",
              "1597  1597         1\n",
              "1598  1598         1\n",
              "1599  1599         0\n",
              "\n",
              "[1600 rows x 2 columns]"
            ],
            "text/html": [
              "\n",
              "  <div id=\"df-58986d51-1d52-4b84-bd94-9ee5b78f85e6\" class=\"colab-df-container\">\n",
              "    <div>\n",
              "<style scoped>\n",
              "    .dataframe tbody tr th:only-of-type {\n",
              "        vertical-align: middle;\n",
              "    }\n",
              "\n",
              "    .dataframe tbody tr th {\n",
              "        vertical-align: top;\n",
              "    }\n",
              "\n",
              "    .dataframe thead th {\n",
              "        text-align: right;\n",
              "    }\n",
              "</style>\n",
              "<table border=\"1\" class=\"dataframe\">\n",
              "  <thead>\n",
              "    <tr style=\"text-align: right;\">\n",
              "      <th></th>\n",
              "      <th>ID</th>\n",
              "      <th>bGenuine</th>\n",
              "    </tr>\n",
              "  </thead>\n",
              "  <tbody>\n",
              "    <tr>\n",
              "      <th>0</th>\n",
              "      <td>0</td>\n",
              "      <td>1</td>\n",
              "    </tr>\n",
              "    <tr>\n",
              "      <th>1</th>\n",
              "      <td>1</td>\n",
              "      <td>1</td>\n",
              "    </tr>\n",
              "    <tr>\n",
              "      <th>2</th>\n",
              "      <td>2</td>\n",
              "      <td>0</td>\n",
              "    </tr>\n",
              "    <tr>\n",
              "      <th>3</th>\n",
              "      <td>3</td>\n",
              "      <td>0</td>\n",
              "    </tr>\n",
              "    <tr>\n",
              "      <th>4</th>\n",
              "      <td>4</td>\n",
              "      <td>1</td>\n",
              "    </tr>\n",
              "    <tr>\n",
              "      <th>...</th>\n",
              "      <td>...</td>\n",
              "      <td>...</td>\n",
              "    </tr>\n",
              "    <tr>\n",
              "      <th>1595</th>\n",
              "      <td>1595</td>\n",
              "      <td>0</td>\n",
              "    </tr>\n",
              "    <tr>\n",
              "      <th>1596</th>\n",
              "      <td>1596</td>\n",
              "      <td>1</td>\n",
              "    </tr>\n",
              "    <tr>\n",
              "      <th>1597</th>\n",
              "      <td>1597</td>\n",
              "      <td>1</td>\n",
              "    </tr>\n",
              "    <tr>\n",
              "      <th>1598</th>\n",
              "      <td>1598</td>\n",
              "      <td>1</td>\n",
              "    </tr>\n",
              "    <tr>\n",
              "      <th>1599</th>\n",
              "      <td>1599</td>\n",
              "      <td>0</td>\n",
              "    </tr>\n",
              "  </tbody>\n",
              "</table>\n",
              "<p>1600 rows × 2 columns</p>\n",
              "</div>\n",
              "    <div class=\"colab-df-buttons\">\n",
              "\n",
              "  <div class=\"colab-df-container\">\n",
              "    <button class=\"colab-df-convert\" onclick=\"convertToInteractive('df-58986d51-1d52-4b84-bd94-9ee5b78f85e6')\"\n",
              "            title=\"Convert this dataframe to an interactive table.\"\n",
              "            style=\"display:none;\">\n",
              "\n",
              "  <svg xmlns=\"http://www.w3.org/2000/svg\" height=\"24px\" viewBox=\"0 -960 960 960\">\n",
              "    <path d=\"M120-120v-720h720v720H120Zm60-500h600v-160H180v160Zm220 220h160v-160H400v160Zm0 220h160v-160H400v160ZM180-400h160v-160H180v160Zm440 0h160v-160H620v160ZM180-180h160v-160H180v160Zm440 0h160v-160H620v160Z\"/>\n",
              "  </svg>\n",
              "    </button>\n",
              "\n",
              "  <style>\n",
              "    .colab-df-container {\n",
              "      display:flex;\n",
              "      gap: 12px;\n",
              "    }\n",
              "\n",
              "    .colab-df-convert {\n",
              "      background-color: #E8F0FE;\n",
              "      border: none;\n",
              "      border-radius: 50%;\n",
              "      cursor: pointer;\n",
              "      display: none;\n",
              "      fill: #1967D2;\n",
              "      height: 32px;\n",
              "      padding: 0 0 0 0;\n",
              "      width: 32px;\n",
              "    }\n",
              "\n",
              "    .colab-df-convert:hover {\n",
              "      background-color: #E2EBFA;\n",
              "      box-shadow: 0px 1px 2px rgba(60, 64, 67, 0.3), 0px 1px 3px 1px rgba(60, 64, 67, 0.15);\n",
              "      fill: #174EA6;\n",
              "    }\n",
              "\n",
              "    .colab-df-buttons div {\n",
              "      margin-bottom: 4px;\n",
              "    }\n",
              "\n",
              "    [theme=dark] .colab-df-convert {\n",
              "      background-color: #3B4455;\n",
              "      fill: #D2E3FC;\n",
              "    }\n",
              "\n",
              "    [theme=dark] .colab-df-convert:hover {\n",
              "      background-color: #434B5C;\n",
              "      box-shadow: 0px 1px 3px 1px rgba(0, 0, 0, 0.15);\n",
              "      filter: drop-shadow(0px 1px 2px rgba(0, 0, 0, 0.3));\n",
              "      fill: #FFFFFF;\n",
              "    }\n",
              "  </style>\n",
              "\n",
              "    <script>\n",
              "      const buttonEl =\n",
              "        document.querySelector('#df-58986d51-1d52-4b84-bd94-9ee5b78f85e6 button.colab-df-convert');\n",
              "      buttonEl.style.display =\n",
              "        google.colab.kernel.accessAllowed ? 'block' : 'none';\n",
              "\n",
              "      async function convertToInteractive(key) {\n",
              "        const element = document.querySelector('#df-58986d51-1d52-4b84-bd94-9ee5b78f85e6');\n",
              "        const dataTable =\n",
              "          await google.colab.kernel.invokeFunction('convertToInteractive',\n",
              "                                                    [key], {});\n",
              "        if (!dataTable) return;\n",
              "\n",
              "        const docLinkHtml = 'Like what you see? Visit the ' +\n",
              "          '<a target=\"_blank\" href=https://colab.research.google.com/notebooks/data_table.ipynb>data table notebook</a>'\n",
              "          + ' to learn more about interactive tables.';\n",
              "        element.innerHTML = '';\n",
              "        dataTable['output_type'] = 'display_data';\n",
              "        await google.colab.output.renderOutput(dataTable, element);\n",
              "        const docLink = document.createElement('div');\n",
              "        docLink.innerHTML = docLinkHtml;\n",
              "        element.appendChild(docLink);\n",
              "      }\n",
              "    </script>\n",
              "  </div>\n",
              "\n",
              "\n",
              "<div id=\"df-091bf993-185c-4de4-b999-c89b2e648dca\">\n",
              "  <button class=\"colab-df-quickchart\" onclick=\"quickchart('df-091bf993-185c-4de4-b999-c89b2e648dca')\"\n",
              "            title=\"Suggest charts.\"\n",
              "            style=\"display:none;\">\n",
              "\n",
              "<svg xmlns=\"http://www.w3.org/2000/svg\" height=\"24px\"viewBox=\"0 0 24 24\"\n",
              "     width=\"24px\">\n",
              "    <g>\n",
              "        <path d=\"M19 3H5c-1.1 0-2 .9-2 2v14c0 1.1.9 2 2 2h14c1.1 0 2-.9 2-2V5c0-1.1-.9-2-2-2zM9 17H7v-7h2v7zm4 0h-2V7h2v10zm4 0h-2v-4h2v4z\"/>\n",
              "    </g>\n",
              "</svg>\n",
              "  </button>\n",
              "\n",
              "<style>\n",
              "  .colab-df-quickchart {\n",
              "      --bg-color: #E8F0FE;\n",
              "      --fill-color: #1967D2;\n",
              "      --hover-bg-color: #E2EBFA;\n",
              "      --hover-fill-color: #174EA6;\n",
              "      --disabled-fill-color: #AAA;\n",
              "      --disabled-bg-color: #DDD;\n",
              "  }\n",
              "\n",
              "  [theme=dark] .colab-df-quickchart {\n",
              "      --bg-color: #3B4455;\n",
              "      --fill-color: #D2E3FC;\n",
              "      --hover-bg-color: #434B5C;\n",
              "      --hover-fill-color: #FFFFFF;\n",
              "      --disabled-bg-color: #3B4455;\n",
              "      --disabled-fill-color: #666;\n",
              "  }\n",
              "\n",
              "  .colab-df-quickchart {\n",
              "    background-color: var(--bg-color);\n",
              "    border: none;\n",
              "    border-radius: 50%;\n",
              "    cursor: pointer;\n",
              "    display: none;\n",
              "    fill: var(--fill-color);\n",
              "    height: 32px;\n",
              "    padding: 0;\n",
              "    width: 32px;\n",
              "  }\n",
              "\n",
              "  .colab-df-quickchart:hover {\n",
              "    background-color: var(--hover-bg-color);\n",
              "    box-shadow: 0 1px 2px rgba(60, 64, 67, 0.3), 0 1px 3px 1px rgba(60, 64, 67, 0.15);\n",
              "    fill: var(--button-hover-fill-color);\n",
              "  }\n",
              "\n",
              "  .colab-df-quickchart-complete:disabled,\n",
              "  .colab-df-quickchart-complete:disabled:hover {\n",
              "    background-color: var(--disabled-bg-color);\n",
              "    fill: var(--disabled-fill-color);\n",
              "    box-shadow: none;\n",
              "  }\n",
              "\n",
              "  .colab-df-spinner {\n",
              "    border: 2px solid var(--fill-color);\n",
              "    border-color: transparent;\n",
              "    border-bottom-color: var(--fill-color);\n",
              "    animation:\n",
              "      spin 1s steps(1) infinite;\n",
              "  }\n",
              "\n",
              "  @keyframes spin {\n",
              "    0% {\n",
              "      border-color: transparent;\n",
              "      border-bottom-color: var(--fill-color);\n",
              "      border-left-color: var(--fill-color);\n",
              "    }\n",
              "    20% {\n",
              "      border-color: transparent;\n",
              "      border-left-color: var(--fill-color);\n",
              "      border-top-color: var(--fill-color);\n",
              "    }\n",
              "    30% {\n",
              "      border-color: transparent;\n",
              "      border-left-color: var(--fill-color);\n",
              "      border-top-color: var(--fill-color);\n",
              "      border-right-color: var(--fill-color);\n",
              "    }\n",
              "    40% {\n",
              "      border-color: transparent;\n",
              "      border-right-color: var(--fill-color);\n",
              "      border-top-color: var(--fill-color);\n",
              "    }\n",
              "    60% {\n",
              "      border-color: transparent;\n",
              "      border-right-color: var(--fill-color);\n",
              "    }\n",
              "    80% {\n",
              "      border-color: transparent;\n",
              "      border-right-color: var(--fill-color);\n",
              "      border-bottom-color: var(--fill-color);\n",
              "    }\n",
              "    90% {\n",
              "      border-color: transparent;\n",
              "      border-bottom-color: var(--fill-color);\n",
              "    }\n",
              "  }\n",
              "</style>\n",
              "\n",
              "  <script>\n",
              "    async function quickchart(key) {\n",
              "      const quickchartButtonEl =\n",
              "        document.querySelector('#' + key + ' button');\n",
              "      quickchartButtonEl.disabled = true;  // To prevent multiple clicks.\n",
              "      quickchartButtonEl.classList.add('colab-df-spinner');\n",
              "      try {\n",
              "        const charts = await google.colab.kernel.invokeFunction(\n",
              "            'suggestCharts', [key], {});\n",
              "      } catch (error) {\n",
              "        console.error('Error during call to suggestCharts:', error);\n",
              "      }\n",
              "      quickchartButtonEl.classList.remove('colab-df-spinner');\n",
              "      quickchartButtonEl.classList.add('colab-df-quickchart-complete');\n",
              "    }\n",
              "    (() => {\n",
              "      let quickchartButtonEl =\n",
              "        document.querySelector('#df-091bf993-185c-4de4-b999-c89b2e648dca button');\n",
              "      quickchartButtonEl.style.display =\n",
              "        google.colab.kernel.accessAllowed ? 'block' : 'none';\n",
              "    })();\n",
              "  </script>\n",
              "</div>\n",
              "    </div>\n",
              "  </div>\n"
            ]
          },
          "metadata": {},
          "execution_count": 58
        }
      ]
    },
    {
      "cell_type": "code",
      "source": [
        "y_all"
      ],
      "metadata": {
        "colab": {
          "base_uri": "https://localhost:8080/"
        },
        "id": "PVgK5Cjhn8e7",
        "outputId": "431f1239-2757-4a83-d1dc-d49797f87657"
      },
      "execution_count": null,
      "outputs": [
        {
          "output_type": "execute_result",
          "data": {
            "text/plain": [
              "array([1, 1, 0, ..., 1, 1, 0])"
            ]
          },
          "metadata": {},
          "execution_count": 59
        }
      ]
    },
    {
      "cell_type": "markdown",
      "metadata": {
        "id": "BZcr2VPDceib"
      },
      "source": [
        "### 9.4.4 모델 구조 지정, 학습 및 테스트\n",
        "#### 학습을 위해 모델의 기본 구조 지정\n",
        "##### 네트워크 구조:\n",
        "\n",
        "*   합성곱층 6개\n",
        "*   MaxPooling층 3개\n",
        "*   LSTM층 1개  \n",
        "*   [추가] 드롭아웃층 - 오버피팅 방지 효과\n",
        "*   완전연결층 1개\n",
        "\n",
        "\n",
        "\n",
        "\n",
        "\n",
        "\n"
      ]
    },
    {
      "cell_type": "markdown",
      "source": [
        "### 9.3.2 합성곱층의 파라미터\n",
        "\n",
        "model.add(Conv1D(filters, kernel_size, activation))  \n",
        " - 시계열 데이터에서 사용하는 1차원 합성곱층  \n",
        "\n",
        "1) filter  \n",
        " - 합성곱을 수행하는 가중치의 세트.\n",
        " - 필터의 갯수가 많을수록 보다 다양한 특징 추출.\n",
        " - 필터 수가 클수록 올바르게 학습된 네트워크의 성능은 향상되지만, 네트워크를 학습시키는 것은 더욱 어려워짐.\n",
        " - 과도한 수의 필터를 사용하여 학습을 시도한 후 크기를 조금씩 줄여나가거나, 여러 개의 합성곱층을 사용하면서 필터수를 조금씩 늘려나가는 방식으로 해결.여러개의 합성곱층을 사용할 때에는 일반적으로 필터 수를 2의 배수로 증가시킨다.  \n",
        "\n",
        "2) padding  \n",
        " - 출력 크기를 보정하기 위해 입력 데이터의 사방을 특정값으로 채우는 것.  \n",
        " - padding='same' 출력 크기를 입력 크기와 동일하게 유지. 입력데이터 (Hi,Wi)와 (F,F) 사이즈의 필터가 있을 때, same padding 의 폭 P는 (F-1)/2. 입력데이터의 크기는 (Hi+2*P,Wi+2*P)  \n",
        " - padding='valid' 패딩을 추가하지 않은 상태. valid padding을 통과하면 그 결과는 항상 입력사이즈보다 작게 된다.\n",
        "\n",
        "3) kernel_size  \n",
        " - 가중치 배열의 크기.\n",
        " - kernel_size = 3 이면 커널의 크기가 (3,3).\n",
        " - 커널 크기가 클수록 넓은 범위를 포괄하는 특징을 찾고, 작을수록 지엽적인 특징을 추출하는 필터가 만듦\n",
        "   \n",
        "4) activation  \n",
        " - 각 층에서 발생하는 출력을 변형시키는 역할.   \n",
        " - sigmoid: 출력값 0 ~ 1  \n",
        " - ReLU: 출력값 0보다 작은 값은 0, 다른 것은 그대로.\n",
        " - Tanh: 출력값 -1 ~ 1  \n",
        " - Softmax: 출력 노드들의 값의 합이 1이 되도록 출력 조정. 분류 모델에서 마지막 층에 사용  \n",
        "  \n",
        "5) pooling층의 파라미터  \n",
        "- 노드의 수(특징의 갯수)를 줄이기 위해 사용.  \n",
        "- pool/stride의 크기가 클수록 특징의 갯수 대폭 감소, 학습 난이도 감소, 정보 손실 증가.  \n",
        "- 딥 네트워크: 여러개의 합성곱층과 풀링층을 같이 사용. n:1 비율로 구성하기도 함.  \n"
      ],
      "metadata": {
        "id": "nD2ptHHKdi7b"
      }
    },
    {
      "cell_type": "code",
      "execution_count": null,
      "metadata": {
        "id": "mk-3Wk2Wn_VF"
      },
      "outputs": [],
      "source": [
        "from tensorflow.keras.layers import *\n",
        "from tensorflow.keras import Sequential\n",
        "\n",
        "#모델 구조 지정\n",
        "model = Sequential()                                                            # 시계열 모델 생성\n",
        "model.add(Conv1D(8, kernel_size=3, padding='same', activation='relu'))          # 1차원 합성곱층: 시계열 데이터에서 사용. 여러개의 합성곱층을 사용하면서 필터수를 조금씩 늘림(2배수)\n",
        "model.add(Conv1D(8, kernel_size=3, padding='same', activation='relu'))          # ReLU 활성화함수 사용. 합성곱층과 완전연결층에서 주로 사용.\n",
        "model.add(MaxPooling1D(pool_size=3, strides=2))                                 # MaxPooling층: 이미지 데이터 네트워크에서 사용. 2:1로 합성곱과 풀링층 세트를 3개 연속 구성.\n",
        "model.add(Conv1D(16, kernel_size=3, padding='same', activation='relu'))\n",
        "model.add(Conv1D(16, kernel_size=3, padding='same', activation='relu'))\n",
        "model.add(MaxPooling1D(pool_size=3, strides=2, input_dim=2))\n",
        "model.add(Conv1D(32, kernel_size=3, padding='same', activation='relu'))\n",
        "model.add(Conv1D(32, kernel_size=3, padding='same', activation='relu'))\n",
        "model.add(MaxPooling1D(pool_size=3, strides=2, input_dim=2))\n",
        "model.add(Bidirectional(LSTM(128)))                                             # LSTM층: 단일출력 가능하나, 합성곱층과 함께 사용하여 성능 향상.\n",
        "model.add(Dropout(0.3))                                                         # 드롭아웃층: 오버피팅 방지 효과\n",
        "model.add(Dense(units=2, activation='softmax'))                                 # 완전연결층: 완전연결층을 지나게 되면 데이터 순서사라짐. 출력 직전에 사용. 출력노드 값의 합이 1이 되는 소프트맥스 함수 사용. 2개(진/위)로 분류하기 위해 units=2\n"
      ]
    },
    {
      "cell_type": "markdown",
      "source": [
        "### 9.3.6 학습 파라미터와 오버피팅\n",
        "1) epochs  \n",
        " - 전체 데이터를 몇 번 반복해서 학습 시킬 것인가.  \n",
        "\n",
        "2) batch_size  \n",
        " - 몇 개의 데이터 샘플을 한 번에 학습시킬 것인가.   \n",
        "  \n",
        "3) validataion_split (검증데이터 비율)    \n",
        " - 학습/검증 데이터 나누는 비율"
      ],
      "metadata": {
        "id": "tTlDL9e3pdP8"
      }
    },
    {
      "cell_type": "code",
      "execution_count": null,
      "metadata": {
        "id": "yy8SbS4dn_Sl"
      },
      "outputs": [],
      "source": [
        "# 실행을 위한 코드 추가\n",
        "from keras.optimizers import Adam"
      ]
    },
    {
      "cell_type": "code",
      "execution_count": null,
      "metadata": {
        "id": "CfIc055cn_Jt",
        "colab": {
          "base_uri": "https://localhost:8080/"
        },
        "outputId": "2c4d2e2d-b6c7-4219-b5cb-114131b11780"
      },
      "outputs": [
        {
          "output_type": "stream",
          "name": "stderr",
          "text": [
            "WARNING:absl:`lr` is deprecated in Keras optimizer, please use `learning_rate` or use the legacy optimizer, e.g.,tf.keras.optimizers.legacy.Adam.\n"
          ]
        },
        {
          "output_type": "stream",
          "name": "stdout",
          "text": [
            "Epoch 1/80\n",
            "53/53 [==============================] - 10s 111ms/step - loss: 0.1338 - accuracy: 0.9464 - val_loss: 0.6159 - val_accuracy: 0.8167\n",
            "Epoch 2/80\n",
            "53/53 [==============================] - 6s 112ms/step - loss: 0.0890 - accuracy: 0.9702 - val_loss: 0.7094 - val_accuracy: 0.7972\n",
            "Epoch 3/80\n",
            "53/53 [==============================] - 6s 104ms/step - loss: 0.0606 - accuracy: 0.9774 - val_loss: 0.7180 - val_accuracy: 0.8028\n",
            "Epoch 4/80\n",
            "53/53 [==============================] - 5s 97ms/step - loss: 0.0867 - accuracy: 0.9714 - val_loss: 0.6742 - val_accuracy: 0.8306\n",
            "Epoch 5/80\n",
            "53/53 [==============================] - 6s 119ms/step - loss: 0.0411 - accuracy: 0.9881 - val_loss: 0.6974 - val_accuracy: 0.8278\n",
            "Epoch 6/80\n",
            "53/53 [==============================] - 5s 98ms/step - loss: 0.0514 - accuracy: 0.9845 - val_loss: 0.7279 - val_accuracy: 0.8083\n",
            "Epoch 7/80\n",
            "53/53 [==============================] - 6s 121ms/step - loss: 0.0720 - accuracy: 0.9702 - val_loss: 0.9188 - val_accuracy: 0.7917\n",
            "Epoch 8/80\n",
            "53/53 [==============================] - 5s 98ms/step - loss: 0.1320 - accuracy: 0.9536 - val_loss: 0.7638 - val_accuracy: 0.7917\n",
            "Epoch 9/80\n",
            "53/53 [==============================] - 6s 120ms/step - loss: 0.1199 - accuracy: 0.9524 - val_loss: 0.6459 - val_accuracy: 0.8278\n",
            "Epoch 10/80\n",
            "53/53 [==============================] - 5s 98ms/step - loss: 0.0729 - accuracy: 0.9762 - val_loss: 0.6863 - val_accuracy: 0.8139\n",
            "Epoch 11/80\n",
            "53/53 [==============================] - 6s 105ms/step - loss: 0.0400 - accuracy: 0.9881 - val_loss: 0.6632 - val_accuracy: 0.8222\n",
            "Epoch 12/80\n",
            "53/53 [==============================] - 6s 112ms/step - loss: 0.0258 - accuracy: 0.9929 - val_loss: 0.7268 - val_accuracy: 0.8278\n",
            "Epoch 13/80\n",
            "53/53 [==============================] - 5s 98ms/step - loss: 0.0191 - accuracy: 0.9929 - val_loss: 0.7841 - val_accuracy: 0.8167\n",
            "Epoch 14/80\n",
            "53/53 [==============================] - 6s 120ms/step - loss: 0.0206 - accuracy: 0.9940 - val_loss: 0.7949 - val_accuracy: 0.8306\n",
            "Epoch 15/80\n",
            "53/53 [==============================] - 5s 99ms/step - loss: 0.0350 - accuracy: 0.9881 - val_loss: 0.9622 - val_accuracy: 0.8000\n",
            "Epoch 16/80\n",
            "53/53 [==============================] - 6s 120ms/step - loss: 0.1548 - accuracy: 0.9464 - val_loss: 0.7101 - val_accuracy: 0.8056\n",
            "Epoch 17/80\n",
            "53/53 [==============================] - 5s 98ms/step - loss: 0.3325 - accuracy: 0.8702 - val_loss: 0.6344 - val_accuracy: 0.7833\n",
            "Epoch 18/80\n",
            "53/53 [==============================] - 6s 116ms/step - loss: 0.3031 - accuracy: 0.8726 - val_loss: 0.5089 - val_accuracy: 0.8111\n",
            "Epoch 19/80\n",
            "53/53 [==============================] - 5s 100ms/step - loss: 0.1462 - accuracy: 0.9345 - val_loss: 0.5157 - val_accuracy: 0.8389\n",
            "Epoch 20/80\n",
            "53/53 [==============================] - 5s 98ms/step - loss: 0.0707 - accuracy: 0.9750 - val_loss: 0.5189 - val_accuracy: 0.8472\n",
            "Epoch 21/80\n",
            "53/53 [==============================] - 6s 118ms/step - loss: 0.0421 - accuracy: 0.9881 - val_loss: 0.5982 - val_accuracy: 0.8361\n",
            "Epoch 22/80\n",
            "53/53 [==============================] - 5s 102ms/step - loss: 0.0392 - accuracy: 0.9869 - val_loss: 0.6094 - val_accuracy: 0.8417\n",
            "Epoch 23/80\n",
            "53/53 [==============================] - 6s 120ms/step - loss: 0.0199 - accuracy: 0.9952 - val_loss: 0.6866 - val_accuracy: 0.8306\n",
            "Epoch 24/80\n",
            "53/53 [==============================] - 5s 98ms/step - loss: 0.0156 - accuracy: 0.9964 - val_loss: 0.6524 - val_accuracy: 0.8639\n",
            "Epoch 25/80\n",
            "53/53 [==============================] - 6s 120ms/step - loss: 0.0140 - accuracy: 0.9976 - val_loss: 0.6660 - val_accuracy: 0.8611\n",
            "Epoch 26/80\n",
            "53/53 [==============================] - 5s 98ms/step - loss: 0.0102 - accuracy: 0.9988 - val_loss: 0.6843 - val_accuracy: 0.8667\n",
            "Epoch 27/80\n",
            "53/53 [==============================] - 6s 109ms/step - loss: 0.0108 - accuracy: 0.9976 - val_loss: 0.7207 - val_accuracy: 0.8278\n",
            "Epoch 28/80\n",
            "53/53 [==============================] - 6s 105ms/step - loss: 0.0074 - accuracy: 0.9988 - val_loss: 0.7499 - val_accuracy: 0.8306\n",
            "Epoch 29/80\n",
            "53/53 [==============================] - 5s 98ms/step - loss: 0.0060 - accuracy: 1.0000 - val_loss: 0.7163 - val_accuracy: 0.8556\n",
            "Epoch 30/80\n",
            "53/53 [==============================] - 6s 120ms/step - loss: 0.0051 - accuracy: 0.9988 - val_loss: 0.7379 - val_accuracy: 0.8583\n",
            "Epoch 31/80\n",
            "53/53 [==============================] - 5s 98ms/step - loss: 0.0039 - accuracy: 0.9988 - val_loss: 0.7522 - val_accuracy: 0.8583\n",
            "Epoch 32/80\n",
            "53/53 [==============================] - 6s 119ms/step - loss: 0.0039 - accuracy: 1.0000 - val_loss: 0.7483 - val_accuracy: 0.8778\n",
            "Epoch 33/80\n",
            "53/53 [==============================] - 5s 98ms/step - loss: 0.0028 - accuracy: 1.0000 - val_loss: 0.7681 - val_accuracy: 0.8639\n",
            "Epoch 34/80\n",
            "53/53 [==============================] - 6s 118ms/step - loss: 0.0031 - accuracy: 0.9988 - val_loss: 0.7813 - val_accuracy: 0.8639\n",
            "Epoch 35/80\n",
            "53/53 [==============================] - 5s 98ms/step - loss: 0.0016 - accuracy: 1.0000 - val_loss: 0.7947 - val_accuracy: 0.8583\n",
            "Epoch 36/80\n",
            "53/53 [==============================] - 5s 102ms/step - loss: 0.0023 - accuracy: 1.0000 - val_loss: 0.8111 - val_accuracy: 0.8639\n",
            "Epoch 37/80\n",
            "53/53 [==============================] - 6s 115ms/step - loss: 0.0019 - accuracy: 1.0000 - val_loss: 0.8219 - val_accuracy: 0.8611\n",
            "Epoch 38/80\n",
            "53/53 [==============================] - 5s 99ms/step - loss: 0.0013 - accuracy: 1.0000 - val_loss: 0.8395 - val_accuracy: 0.8556\n",
            "Epoch 39/80\n",
            "53/53 [==============================] - 6s 121ms/step - loss: 0.0014 - accuracy: 1.0000 - val_loss: 0.8593 - val_accuracy: 0.8556\n",
            "Epoch 40/80\n",
            "53/53 [==============================] - 5s 98ms/step - loss: 0.0011 - accuracy: 1.0000 - val_loss: 0.8607 - val_accuracy: 0.8583\n",
            "Epoch 41/80\n",
            "53/53 [==============================] - 6s 120ms/step - loss: 0.0011 - accuracy: 1.0000 - val_loss: 0.8765 - val_accuracy: 0.8583\n",
            "Epoch 42/80\n",
            "53/53 [==============================] - 5s 98ms/step - loss: 7.2297e-04 - accuracy: 1.0000 - val_loss: 0.8784 - val_accuracy: 0.8611\n",
            "Epoch 43/80\n",
            "53/53 [==============================] - 6s 115ms/step - loss: 8.5085e-04 - accuracy: 1.0000 - val_loss: 0.8904 - val_accuracy: 0.8583\n",
            "Epoch 44/80\n",
            "53/53 [==============================] - 5s 102ms/step - loss: 6.9565e-04 - accuracy: 1.0000 - val_loss: 0.8989 - val_accuracy: 0.8583\n",
            "Epoch 45/80\n",
            "53/53 [==============================] - 5s 102ms/step - loss: 0.0011 - accuracy: 1.0000 - val_loss: 0.9146 - val_accuracy: 0.8472\n",
            "Epoch 46/80\n",
            "53/53 [==============================] - 6s 116ms/step - loss: 7.4883e-04 - accuracy: 1.0000 - val_loss: 0.9115 - val_accuracy: 0.8556\n",
            "Epoch 47/80\n",
            "53/53 [==============================] - 5s 97ms/step - loss: 6.2490e-04 - accuracy: 1.0000 - val_loss: 0.9171 - val_accuracy: 0.8528\n",
            "Epoch 48/80\n",
            "53/53 [==============================] - 6s 120ms/step - loss: 4.7084e-04 - accuracy: 1.0000 - val_loss: 0.9272 - val_accuracy: 0.8556\n",
            "Epoch 49/80\n",
            "53/53 [==============================] - 5s 98ms/step - loss: 4.1372e-04 - accuracy: 1.0000 - val_loss: 0.9436 - val_accuracy: 0.8528\n",
            "Epoch 50/80\n",
            "53/53 [==============================] - 6s 120ms/step - loss: 7.1574e-04 - accuracy: 1.0000 - val_loss: 0.9730 - val_accuracy: 0.8500\n",
            "Epoch 51/80\n",
            "53/53 [==============================] - 5s 99ms/step - loss: 4.7974e-04 - accuracy: 1.0000 - val_loss: 0.9697 - val_accuracy: 0.8444\n",
            "Epoch 52/80\n",
            "53/53 [==============================] - 6s 113ms/step - loss: 6.3234e-04 - accuracy: 1.0000 - val_loss: 0.9480 - val_accuracy: 0.8583\n",
            "Epoch 53/80\n",
            "53/53 [==============================] - 6s 104ms/step - loss: 4.4918e-04 - accuracy: 1.0000 - val_loss: 0.9765 - val_accuracy: 0.8556\n",
            "Epoch 54/80\n",
            "53/53 [==============================] - 5s 98ms/step - loss: 5.4029e-04 - accuracy: 1.0000 - val_loss: 1.0833 - val_accuracy: 0.8444\n",
            "Epoch 55/80\n",
            "53/53 [==============================] - 6s 120ms/step - loss: 8.4162e-04 - accuracy: 1.0000 - val_loss: 0.9690 - val_accuracy: 0.8528\n",
            "Epoch 56/80\n",
            "53/53 [==============================] - 5s 98ms/step - loss: 3.6242e-04 - accuracy: 1.0000 - val_loss: 0.9742 - val_accuracy: 0.8583\n",
            "Epoch 57/80\n",
            "53/53 [==============================] - 6s 121ms/step - loss: 2.3593e-04 - accuracy: 1.0000 - val_loss: 0.9888 - val_accuracy: 0.8583\n",
            "Epoch 58/80\n",
            "53/53 [==============================] - 5s 98ms/step - loss: 2.9587e-04 - accuracy: 1.0000 - val_loss: 0.9952 - val_accuracy: 0.8611\n",
            "Epoch 59/80\n",
            "53/53 [==============================] - 6s 120ms/step - loss: 2.9739e-04 - accuracy: 1.0000 - val_loss: 1.0049 - val_accuracy: 0.8583\n",
            "Epoch 60/80\n",
            "53/53 [==============================] - 5s 98ms/step - loss: 2.7144e-04 - accuracy: 1.0000 - val_loss: 0.9907 - val_accuracy: 0.8583\n",
            "Epoch 61/80\n",
            "53/53 [==============================] - 6s 106ms/step - loss: 2.2046e-04 - accuracy: 1.0000 - val_loss: 1.0022 - val_accuracy: 0.8611\n",
            "Epoch 62/80\n",
            "53/53 [==============================] - 6s 110ms/step - loss: 3.2387e-04 - accuracy: 1.0000 - val_loss: 1.0045 - val_accuracy: 0.8611\n",
            "Epoch 63/80\n",
            "53/53 [==============================] - 5s 98ms/step - loss: 1.9594e-04 - accuracy: 1.0000 - val_loss: 1.0122 - val_accuracy: 0.8611\n",
            "Epoch 64/80\n",
            "53/53 [==============================] - 6s 120ms/step - loss: 2.0997e-04 - accuracy: 1.0000 - val_loss: 1.0266 - val_accuracy: 0.8556\n",
            "Epoch 65/80\n",
            "53/53 [==============================] - 5s 98ms/step - loss: 1.7967e-04 - accuracy: 1.0000 - val_loss: 1.0332 - val_accuracy: 0.8583\n",
            "Epoch 66/80\n",
            "53/53 [==============================] - 6s 120ms/step - loss: 1.8173e-04 - accuracy: 1.0000 - val_loss: 1.0461 - val_accuracy: 0.8583\n",
            "Epoch 67/80\n",
            "53/53 [==============================] - 5s 98ms/step - loss: 1.4164e-04 - accuracy: 1.0000 - val_loss: 1.0443 - val_accuracy: 0.8556\n",
            "Epoch 68/80\n",
            "53/53 [==============================] - 6s 117ms/step - loss: 1.6821e-04 - accuracy: 1.0000 - val_loss: 1.0550 - val_accuracy: 0.8583\n",
            "Epoch 69/80\n",
            "53/53 [==============================] - 5s 99ms/step - loss: 2.3047e-04 - accuracy: 1.0000 - val_loss: 1.0760 - val_accuracy: 0.8472\n",
            "Epoch 70/80\n",
            "53/53 [==============================] - 5s 101ms/step - loss: 1.7474e-04 - accuracy: 1.0000 - val_loss: 1.0549 - val_accuracy: 0.8556\n",
            "Epoch 71/80\n",
            "53/53 [==============================] - 6s 116ms/step - loss: 1.2597e-04 - accuracy: 1.0000 - val_loss: 1.0575 - val_accuracy: 0.8556\n",
            "Epoch 72/80\n",
            "53/53 [==============================] - 5s 98ms/step - loss: 1.3436e-04 - accuracy: 1.0000 - val_loss: 1.0733 - val_accuracy: 0.8528\n",
            "Epoch 73/80\n",
            "53/53 [==============================] - 6s 120ms/step - loss: 1.9644e-04 - accuracy: 1.0000 - val_loss: 1.0679 - val_accuracy: 0.8556\n",
            "Epoch 74/80\n",
            "53/53 [==============================] - 5s 98ms/step - loss: 1.2691e-04 - accuracy: 1.0000 - val_loss: 1.0843 - val_accuracy: 0.8583\n",
            "Epoch 75/80\n",
            "53/53 [==============================] - 6s 121ms/step - loss: 1.3053e-04 - accuracy: 1.0000 - val_loss: 1.1057 - val_accuracy: 0.8472\n",
            "Epoch 76/80\n",
            "53/53 [==============================] - 5s 98ms/step - loss: 1.0764e-04 - accuracy: 1.0000 - val_loss: 1.1000 - val_accuracy: 0.8500\n",
            "Epoch 77/80\n",
            "53/53 [==============================] - 6s 114ms/step - loss: 1.1703e-04 - accuracy: 1.0000 - val_loss: 1.1025 - val_accuracy: 0.8528\n",
            "Epoch 78/80\n",
            "53/53 [==============================] - 6s 104ms/step - loss: 2.5869e-04 - accuracy: 1.0000 - val_loss: 1.1642 - val_accuracy: 0.8389\n",
            "Epoch 79/80\n",
            "53/53 [==============================] - 5s 98ms/step - loss: 1.4923e-04 - accuracy: 1.0000 - val_loss: 1.1166 - val_accuracy: 0.8528\n",
            "Epoch 80/80\n",
            "53/53 [==============================] - 6s 120ms/step - loss: 1.5822e-04 - accuracy: 1.0000 - val_loss: 1.0935 - val_accuracy: 0.8639\n"
          ]
        }
      ],
      "source": [
        "#모델 컴파일\n",
        "model.compile(loss='categorical_crossentropy', optimizer=Adam(learning_rate=0.001), metrics=['accuracy'])\n",
        "\n",
        "#학습\n",
        "hist = model.fit(x=x_train, y=y_train_cat, epochs=80, validation_split=0.3, batch_size=16)"
      ]
    },
    {
      "cell_type": "code",
      "execution_count": null,
      "metadata": {
        "id": "rhSv3x5Mn_FG",
        "colab": {
          "base_uri": "https://localhost:8080/"
        },
        "outputId": "2e4d8a50-f37c-4200-dfc5-76b4857814fe"
      },
      "outputs": [
        {
          "output_type": "stream",
          "name": "stdout",
          "text": [
            "13/13 [==============================] - 1s 39ms/step\n"
          ]
        },
        {
          "output_type": "execute_result",
          "data": {
            "text/plain": [
              "0.85"
            ]
          },
          "metadata": {},
          "execution_count": 57
        }
      ],
      "source": [
        "# 테스트 데이터를 사용하여 예측(결과 추정)\n",
        "o = model.predict(x_test)\n",
        "\n",
        "# 정확도 체크 (딥러닝 학습의 랜덤성을 고려하여 대체로 85%내외의 정확도 획득)\n",
        "o = np.argmax(o,1)\n",
        "sum(np.equal(y_test,o))/len(y_test)\n"
      ]
    }
  ],
  "metadata": {
    "colab": {
      "provenance": []
    },
    "kernelspec": {
      "display_name": "Python 3",
      "name": "python3"
    },
    "language_info": {
      "name": "python"
    }
  },
  "nbformat": 4,
  "nbformat_minor": 0
}