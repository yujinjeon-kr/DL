{
  "nbformat": 4,
  "nbformat_minor": 0,
  "metadata": {
    "colab": {
      "provenance": []
    },
    "kernelspec": {
      "name": "python3",
      "display_name": "Python 3"
    },
    "language_info": {
      "name": "python"
    }
  },
  "cells": [
    {
      "cell_type": "markdown",
      "source": [
        "## 모두의 딥러닝 개정 3판\n",
        "### 다섯째마당. 딥러닝 활용하기"
      ],
      "metadata": {
        "id": "Yol4rgTl-7EL"
      }
    },
    {
      "cell_type": "markdown",
      "source": [
        "### 2 LSTM과 CNN의 조합을 이용한 영화 리뷰 분류하기  \n",
        " - 긴 텍스트를 읽고 데이터의 의미를 카테고리로 분류.  \n",
        " - 로이터 뉴스 데이터는 총 1만 1,228개의 뉴스 기사, 46개의 카테고리로 이루어진 대용량 텍스트 데이터.  \n",
        "  "
      ],
      "metadata": {
        "id": "SdtFrIei-_8S"
      }
    },
    {
      "cell_type": "code",
      "execution_count": null,
      "metadata": {
        "id": "m4zYN4Cw-u-h"
      },
      "outputs": [],
      "source": [
        "# 로이터 뉴스 데이터셋 불러오기\n",
        "from tensorflow.keras.models import Sequential\n",
        "from tensorflow.keras.layers import Dense, LSTM, Embedding\n",
        "from tensorflow.keras.utils import to_categorical\n",
        "from tensorflow.keras.preprocessing import sequence\n",
        "from tensorflow.keras.datasets import reuters\n",
        "from tensorflow.keras.callbacks import EarlyStopping\n",
        "\n",
        "import numpy as np\n",
        "import matplotlib.pyplot as plt"
      ]
    },
    {
      "cell_type": "code",
      "source": [
        "# 불러온 데이터를 학습셋과 데이터셋으로 나누기\n",
        "(X_train, y_train), (X_test, y_test) = reuters.load_data(num_words=1000, test_split=0.2)"
      ],
      "metadata": {
        "colab": {
          "base_uri": "https://localhost:8080/"
        },
        "id": "l4Z3ZpO9_jLD",
        "outputId": "d6a63edb-5477-4256-ce00-18f1f624332d"
      },
      "execution_count": null,
      "outputs": [
        {
          "output_type": "stream",
          "name": "stdout",
          "text": [
            "Downloading data from https://storage.googleapis.com/tensorflow/tf-keras-datasets/reuters.npz\n",
            "2110848/2110848 [==============================] - 0s 0us/step\n"
          ]
        }
      ]
    },
    {
      "cell_type": "code",
      "source": [
        "# 데이터 확인 후, 출력\n",
        "category = np.max(y_train) + 1\n",
        "print(category, '카테고리')\n",
        "print(len(X_train), '학습용 뉴스 기사')\n",
        "print(len(X_test), '테스트용 뉴스 기사')\n",
        "print(X_train[0])                                                               # 첫 번째 기사 출력, 빈도에 따라 번호 붙임"
      ],
      "metadata": {
        "colab": {
          "base_uri": "https://localhost:8080/"
        },
        "id": "QVYzUUDo_jIL",
        "outputId": "6e38e1ba-f815-4132-cb39-6e2df37dc6cb"
      },
      "execution_count": null,
      "outputs": [
        {
          "output_type": "stream",
          "name": "stdout",
          "text": [
            "46 카테고리\n",
            "8982 학습용 뉴스 기사\n",
            "2246 테스트용 뉴스 기사\n",
            "[1, 2, 2, 8, 43, 10, 447, 5, 25, 207, 270, 5, 2, 111, 16, 369, 186, 90, 67, 7, 89, 5, 19, 102, 6, 19, 124, 15, 90, 67, 84, 22, 482, 26, 7, 48, 4, 49, 8, 864, 39, 209, 154, 6, 151, 6, 83, 11, 15, 22, 155, 11, 15, 7, 48, 9, 2, 2, 504, 6, 258, 6, 272, 11, 15, 22, 134, 44, 11, 15, 16, 8, 197, 2, 90, 67, 52, 29, 209, 30, 32, 132, 6, 109, 15, 17, 12]\n"
          ]
        }
      ]
    },
    {
      "cell_type": "code",
      "source": [
        "from tensorflow.keras.preprocessing import sequence                             # 데이터 전처리 함수 sequence()\n",
        "\n",
        "# 단어의 수를 맞춰줌\n",
        "X_train = sequence.pad_sequences(X_train, maxlen=100)\n",
        "X_test = sequence.pad_sequences(X_test, maxlen=100)"
      ],
      "metadata": {
        "id": "HW0gg6uRBohh"
      },
      "execution_count": null,
      "outputs": []
    },
    {
      "cell_type": "code",
      "source": [
        "# y 데이터에 원-핫 인코딩 처리를 하여 데이터 전처리\n",
        "from tensorflow import keras\n",
        "\n",
        "y_train = keras.utils.to_categorical(y_train)\n",
        "y_test = keras.utils.to_categorical(y_test)"
      ],
      "metadata": {
        "id": "9x1E5mxZAUfx"
      },
      "execution_count": null,
      "outputs": []
    },
    {
      "cell_type": "markdown",
      "source": [
        "네트워크 구조:  \n",
        "1) Embedding 층  \n",
        " - 데이터 전처리 과정을 통해 입력된 값을 받아 다음 층이 알 수 있는 형태로 변환.  \n",
        " - Embedding('불러온 단어 총 갯수','기사당 단어 갯수') 형식. 모델 설정 부분의 가장 앞에 위치.   \n",
        "   \n",
        "2) LSTM 층  \n",
        " - RNN에서 기억 값에 대한 가중치를 제어.  \n",
        " - LSTM(기사당 단어수, 기타옵션)  \n",
        " - 주로 활성화 함수 tanh 사용.  \n",
        "   \n",
        "3) 완전연결층"
      ],
      "metadata": {
        "id": "vSB22VaaDfSZ"
      }
    },
    {
      "cell_type": "code",
      "source": [
        "# 모델 구조 설정\n",
        "model = Sequential()\n",
        "model.add(Embedding(1000,100))\n",
        "model.add(LSTM(100, activation='tanh'))\n",
        "model.add(Dense(46, activation='softmax'))"
      ],
      "metadata": {
        "id": "1XJXgrlCATGi"
      },
      "execution_count": null,
      "outputs": []
    },
    {
      "cell_type": "code",
      "source": [
        "# 모델의 실행 옵션 설정\n",
        "model.compile(loss='categorical_crossentropy', optimizer='adam', metrics=['accuracy'])\n",
        "\n",
        "# 학습의 조기 중단 설정 EarlyStopping\n",
        "early_stopping_callback = EarlyStopping(monitor='val_loss', patience=5)         # monitor='모니터링할 지표', patience='개선없음을 판단하기 전 대기할 에폭 수'\n",
        "\n",
        "# 모델 실행\n",
        "history = model.fit(X_train, y_train, batch_size=20, epochs=200, validation_data = (X_test, y_test), callbacks=[early_stopping_callback])\n",
        "\n",
        "# 23번째 에포크에서 학습 자동 중단. 정확도 71.50%."
      ],
      "metadata": {
        "colab": {
          "base_uri": "https://localhost:8080/"
        },
        "id": "DHKYjC87_jEh",
        "outputId": "6ec4a023-c78c-4a7d-e49a-76f3f4236772"
      },
      "execution_count": null,
      "outputs": [
        {
          "output_type": "stream",
          "name": "stdout",
          "text": [
            "Epoch 1/200\n",
            "450/450 [==============================] - 36s 75ms/step - loss: 2.1807 - accuracy: 0.4560 - val_loss: 2.3972 - val_accuracy: 0.3976\n",
            "Epoch 2/200\n",
            "450/450 [==============================] - 34s 76ms/step - loss: 1.9116 - accuracy: 0.5138 - val_loss: 1.7634 - val_accuracy: 0.5632\n",
            "Epoch 3/200\n",
            "450/450 [==============================] - 34s 76ms/step - loss: 1.7411 - accuracy: 0.5561 - val_loss: 1.7048 - val_accuracy: 0.5744\n",
            "Epoch 4/200\n",
            "450/450 [==============================] - 34s 76ms/step - loss: 1.6911 - accuracy: 0.5677 - val_loss: 1.7287 - val_accuracy: 0.5583\n",
            "Epoch 5/200\n",
            "450/450 [==============================] - 34s 76ms/step - loss: 1.6054 - accuracy: 0.5904 - val_loss: 1.7347 - val_accuracy: 0.5775\n",
            "Epoch 6/200\n",
            "450/450 [==============================] - 36s 80ms/step - loss: 1.5774 - accuracy: 0.6098 - val_loss: 1.5943 - val_accuracy: 0.6082\n",
            "Epoch 7/200\n",
            "450/450 [==============================] - 37s 82ms/step - loss: 1.4675 - accuracy: 0.6345 - val_loss: 1.5523 - val_accuracy: 0.6189\n",
            "Epoch 8/200\n",
            "450/450 [==============================] - 35s 79ms/step - loss: 1.3886 - accuracy: 0.6566 - val_loss: 1.4764 - val_accuracy: 0.6322\n",
            "Epoch 9/200\n",
            "450/450 [==============================] - 35s 78ms/step - loss: 1.3100 - accuracy: 0.6739 - val_loss: 1.4451 - val_accuracy: 0.6327\n",
            "Epoch 10/200\n",
            "450/450 [==============================] - 47s 105ms/step - loss: 1.2251 - accuracy: 0.6904 - val_loss: 1.3426 - val_accuracy: 0.6612\n",
            "Epoch 11/200\n",
            "450/450 [==============================] - 40s 88ms/step - loss: 1.1557 - accuracy: 0.7063 - val_loss: 1.3248 - val_accuracy: 0.6585\n",
            "Epoch 12/200\n",
            "450/450 [==============================] - 34s 76ms/step - loss: 1.1003 - accuracy: 0.7218 - val_loss: 1.2764 - val_accuracy: 0.6768\n",
            "Epoch 13/200\n",
            "450/450 [==============================] - 35s 78ms/step - loss: 1.0551 - accuracy: 0.7330 - val_loss: 1.2450 - val_accuracy: 0.6897\n",
            "Epoch 14/200\n",
            "450/450 [==============================] - 36s 81ms/step - loss: 1.0037 - accuracy: 0.7445 - val_loss: 1.2411 - val_accuracy: 0.6888\n",
            "Epoch 15/200\n",
            "450/450 [==============================] - 34s 75ms/step - loss: 0.9515 - accuracy: 0.7606 - val_loss: 1.2222 - val_accuracy: 0.6923\n",
            "Epoch 16/200\n",
            "450/450 [==============================] - 34s 76ms/step - loss: 0.9024 - accuracy: 0.7715 - val_loss: 1.1920 - val_accuracy: 0.7030\n",
            "Epoch 17/200\n",
            "450/450 [==============================] - 34s 76ms/step - loss: 0.8469 - accuracy: 0.7860 - val_loss: 1.2010 - val_accuracy: 0.7039\n",
            "Epoch 18/200\n",
            "450/450 [==============================] - 34s 75ms/step - loss: 0.8029 - accuracy: 0.7958 - val_loss: 1.1685 - val_accuracy: 0.7182\n",
            "Epoch 19/200\n",
            "450/450 [==============================] - 35s 77ms/step - loss: 0.7560 - accuracy: 0.8072 - val_loss: 1.1987 - val_accuracy: 0.7119\n",
            "Epoch 20/200\n",
            "450/450 [==============================] - 37s 81ms/step - loss: 0.7097 - accuracy: 0.8224 - val_loss: 1.1710 - val_accuracy: 0.7235\n",
            "Epoch 21/200\n",
            "450/450 [==============================] - 43s 97ms/step - loss: 0.6582 - accuracy: 0.8373 - val_loss: 1.1970 - val_accuracy: 0.7231\n",
            "Epoch 22/200\n",
            "450/450 [==============================] - 40s 89ms/step - loss: 0.6123 - accuracy: 0.8477 - val_loss: 1.2043 - val_accuracy: 0.7248\n",
            "Epoch 23/200\n",
            "450/450 [==============================] - 34s 76ms/step - loss: 0.5670 - accuracy: 0.8566 - val_loss: 1.2702 - val_accuracy: 0.7150\n"
          ]
        }
      ]
    },
    {
      "cell_type": "code",
      "source": [
        "# 테스트 정확도 출력\n",
        "print(\"\\n Test Accuracy: %.4f\" % (model.evaluate(X_test, y_test)[1]))\n",
        "\n",
        "# 학습셋과 테스트셋의 오차 저장\n",
        "y_vloss = history.history['val_loss']\n",
        "y_loss = history.history['loss']\n",
        "\n",
        "# 그래프로 표현\n",
        "x_len = np.arange(len(y_loss))\n",
        "plt.plot(x_len, y_vloss, marker='.', c='red', label='Testset_loss')\n",
        "plt.plot(x_len, y_loss, marker='.', c='blue', label='Trainset_loss')\n",
        "\n",
        "# 그래프에 그리드, 레이블 추가\n",
        "plt.legend(loc='upper right')\n",
        "plt.grid()\n",
        "plt.xlabel('epoch')\n",
        "plt.ylabel('loss')\n",
        "plt.show()\n",
        "\n",
        "# 그래프를 통해 테스트셋의 오차가 상승할 때 학습이 멈추었음을 알 수 있음.\n",
        "# 학습 시 정확도는 계속 상승하는데, 검증 데이터를 사용하였을 때의 정확도가 지속적으로 하강한다면 오버피팅 발생한 것."
      ],
      "metadata": {
        "colab": {
          "base_uri": "https://localhost:8080/",
          "height": 504
        },
        "id": "f3QWiUNu_i6Y",
        "outputId": "7bb2b45f-d5b8-497e-ecfc-64534fb15a85"
      },
      "execution_count": null,
      "outputs": [
        {
          "output_type": "stream",
          "name": "stdout",
          "text": [
            "71/71 [==============================] - 2s 23ms/step - loss: 1.2702 - accuracy: 0.7150\n",
            "\n",
            " Test Accuracy: 0.7150\n"
          ]
        },
        {
          "output_type": "display_data",
          "data": {
            "text/plain": [
              "<Figure size 640x480 with 1 Axes>"
            ],
            "image/png": "[encoded data removed]"
          },
          "metadata": {}
        }
      ]
    }
  ]
}