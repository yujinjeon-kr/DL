{
  "nbformat": 4,
  "nbformat_minor": 0,
  "metadata": {
    "colab": {
      "provenance": []
    },
    "kernelspec": {
      "name": "python3",
      "display_name": "Python 3"
    },
    "language_info": {
      "name": "python"
    }
  },
  "cells": [
    {
      "cell_type": "markdown",
      "source": [
        "# 타이타닉 데이터 학습 목차\n",
        "4.2 구글 코랩과 캐글의 연동  \n",
        "4.3 구글 코랩과 타이타닉 데이터  \n",
        "4.4 파이썬 코드로 타이타닉 데이터 분석하기  \n",
        "  \n",
        "5.2 네트워크의 입력과 출력을 위한 데이터의 변환  \n",
        "  \n",
        "6.6 완전 연결층과 타이타닉 데이터"
      ],
      "metadata": {
        "id": "Ql2vMNdjeDDy"
      }
    },
    {
      "cell_type": "markdown",
      "source": [
        "# 4.2 구글 코랩과 캐글의 연동\n"
      ],
      "metadata": {
        "id": "lI0jqpgB9ORl"
      }
    },
    {
      "cell_type": "code",
      "source": [
        "from google.colab import drive\n",
        "drive.mount('/content/drive')"
      ],
      "metadata": {
        "id": "jFnCejIWYM7Y",
        "colab": {
          "base_uri": "https://localhost:8080/"
        },
        "outputId": "36e6d8af-c617-4f65-fa06-0d98adaffaea"
      },
      "execution_count": null,
      "outputs": [
        {
          "output_type": "stream",
          "name": "stdout",
          "text": [
            "Drive already mounted at /content/drive; to attempt to forcibly remount, call drive.mount(\"/content/drive\", force_remount=True).\n"
          ]
        }
      ]
    },
    {
      "cell_type": "code",
      "source": [
        "!pip install kaggle"
      ],
      "metadata": {
        "colab": {
          "base_uri": "https://localhost:8080/"
        },
        "id": "uG-W8gBnZQaO",
        "outputId": "a33148cc-98dd-4520-b274-a43541dab5e3"
      },
      "execution_count": null,
      "outputs": [
        {
          "output_type": "stream",
          "name": "stdout",
          "text": [
            "Requirement already satisfied: kaggle in /usr/local/lib/python3.10/dist-packages (1.5.16)\n",
            "Requirement already satisfied: six>=1.10 in /usr/local/lib/python3.10/dist-packages (from kaggle) (1.16.0)\n",
            "Requirement already satisfied: certifi in /usr/local/lib/python3.10/dist-packages (from kaggle) (2023.7.22)\n",
            "Requirement already satisfied: python-dateutil in /usr/local/lib/python3.10/dist-packages (from kaggle) (2.8.2)\n",
            "Requirement already satisfied: requests in /usr/local/lib/python3.10/dist-packages (from kaggle) (2.31.0)\n",
            "Requirement already satisfied: tqdm in /usr/local/lib/python3.10/dist-packages (from kaggle) (4.66.1)\n",
            "Requirement already satisfied: python-slugify in /usr/local/lib/python3.10/dist-packages (from kaggle) (8.0.1)\n",
            "Requirement already satisfied: urllib3 in /usr/local/lib/python3.10/dist-packages (from kaggle) (2.0.7)\n",
            "Requirement already satisfied: bleach in /usr/local/lib/python3.10/dist-packages (from kaggle) (6.1.0)\n",
            "Requirement already satisfied: webencodings in /usr/local/lib/python3.10/dist-packages (from bleach->kaggle) (0.5.1)\n",
            "Requirement already satisfied: text-unidecode>=1.3 in /usr/local/lib/python3.10/dist-packages (from python-slugify->kaggle) (1.3)\n",
            "Requirement already satisfied: charset-normalizer<4,>=2 in /usr/local/lib/python3.10/dist-packages (from requests->kaggle) (3.3.0)\n",
            "Requirement already satisfied: idna<4,>=2.5 in /usr/local/lib/python3.10/dist-packages (from requests->kaggle) (3.4)\n"
          ]
        }
      ]
    },
    {
      "cell_type": "code",
      "source": [
        "cd 'content/gdrive/My Drive/Colab Notebooks/titanic_data'"
      ],
      "metadata": {
        "colab": {
          "base_uri": "https://localhost:8080/"
        },
        "id": "5JdcoR-axtA5",
        "outputId": "48ecf63f-086f-499a-c618-26318e21f1db"
      },
      "execution_count": null,
      "outputs": [
        {
          "output_type": "stream",
          "name": "stdout",
          "text": [
            "[Errno 2] No such file or directory: 'content/gdrive/My Drive/Colab Notebooks/titanic_data'\n",
            "/content\n"
          ]
        }
      ]
    },
    {
      "cell_type": "code",
      "source": [
        "# API 토큰 업로드 (json파일)\n",
        "from google.colab import files\n",
        "files.upload()"
      ],
      "metadata": {
        "colab": {
          "base_uri": "https://localhost:8080/",
          "height": 93
        },
        "id": "kHbO-BlH5a3j",
        "outputId": "ab7f0c35-6c60-4fce-a559-28019de0b867"
      },
      "execution_count": null,
      "outputs": [
        {
          "output_type": "display_data",
          "data": {
            "text/plain": [
              "<IPython.core.display.HTML object>"
            ],
            "text/html": [
              "\n",
              "     <input type=\"file\" id=\"files-c6e9c5dd-5a79-4cf7-a577-5bb154f115ab\" name=\"files[]\" multiple disabled\n",
              "        style=\"border:none\" />\n",
              "     <output id=\"result-c6e9c5dd-5a79-4cf7-a577-5bb154f115ab\">\n",
              "      Upload widget is only available when the cell has been executed in the\n",
              "      current browser session. Please rerun this cell to enable.\n",
              "      </output>\n",
              "      <script>// Copyright 2017 Google LLC\n",
              "//\n",
              "// Licensed under the Apache License, Version 2.0 (the \"License\");\n",
              "// you may not use this file except in compliance with the License.\n",
              "// You may obtain a copy of the License at\n",
              "//\n",
              "//      http://www.apache.org/licenses/LICENSE-2.0\n",
              "//\n",
              "// Unless required by applicable law or agreed to in writing, software\n",
              "// distributed under the License is distributed on an \"AS IS\" BASIS,\n",
              "// WITHOUT WARRANTIES OR CONDITIONS OF ANY KIND, either express or implied.\n",
              "// See the License for the specific language governing permissions and\n",
              "// limitations under the License.\n",
              "\n",
              "/**\n",
              " * @fileoverview Helpers for google.colab Python module.\n",
              " */\n",
              "(function(scope) {\n",
              "function span(text, styleAttributes = {}) {\n",
              "  const element = document.createElement('span');\n",
              "  element.textContent = text;\n",
              "  for (const key of Object.keys(styleAttributes)) {\n",
              "    element.style[key] = styleAttributes[key];\n",
              "  }\n",
              "  return element;\n",
              "}\n",
              "\n",
              "// Max number of bytes which will be uploaded at a time.\n",
              "const MAX_PAYLOAD_SIZE = 100 * 1024;\n",
              "\n",
              "function _uploadFiles(inputId, outputId) {\n",
              "  const steps = uploadFilesStep(inputId, outputId);\n",
              "  const outputElement = document.getElementById(outputId);\n",
              "  // Cache steps on the outputElement to make it available for the next call\n",
              "  // to uploadFilesContinue from Python.\n",
              "  outputElement.steps = steps;\n",
              "\n",
              "  return _uploadFilesContinue(outputId);\n",
              "}\n",
              "\n",
              "// This is roughly an async generator (not supported in the browser yet),\n",
              "// where there are multiple asynchronous steps and the Python side is going\n",
              "// to poll for completion of each step.\n",
              "// This uses a Promise to block the python side on completion of each step,\n",
              "// then passes the result of the previous step as the input to the next step.\n",
              "function _uploadFilesContinue(outputId) {\n",
              "  const outputElement = document.getElementById(outputId);\n",
              "  const steps = outputElement.steps;\n",
              "\n",
              "  const next = steps.next(outputElement.lastPromiseValue);\n",
              "  return Promise.resolve(next.value.promise).then((value) => {\n",
              "    // Cache the last promise value to make it available to the next\n",
              "    // step of the generator.\n",
              "    outputElement.lastPromiseValue = value;\n",
              "    return next.value.response;\n",
              "  });\n",
              "}\n",
              "\n",
              "/**\n",
              " * Generator function which is called between each async step of the upload\n",
              " * process.\n",
              " * @param {string} inputId Element ID of the input file picker element.\n",
              " * @param {string} outputId Element ID of the output display.\n",
              " * @return {!Iterable<!Object>} Iterable of next steps.\n",
              " */\n",
              "function* uploadFilesStep(inputId, outputId) {\n",
              "  const inputElement = document.getElementById(inputId);\n",
              "  inputElement.disabled = false;\n",
              "\n",
              "  const outputElement = document.getElementById(outputId);\n",
              "  outputElement.innerHTML = '';\n",
              "\n",
              "  const pickedPromise = new Promise((resolve) => {\n",
              "    inputElement.addEventListener('change', (e) => {\n",
              "      resolve(e.target.files);\n",
              "    });\n",
              "  });\n",
              "\n",
              "  const cancel = document.createElement('button');\n",
              "  inputElement.parentElement.appendChild(cancel);\n",
              "  cancel.textContent = 'Cancel upload';\n",
              "  const cancelPromise = new Promise((resolve) => {\n",
              "    cancel.onclick = () => {\n",
              "      resolve(null);\n",
              "    };\n",
              "  });\n",
              "\n",
              "  // Wait for the user to pick the files.\n",
              "  const files = yield {\n",
              "    promise: Promise.race([pickedPromise, cancelPromise]),\n",
              "    response: {\n",
              "      action: 'starting',\n",
              "    }\n",
              "  };\n",
              "\n",
              "  cancel.remove();\n",
              "\n",
              "  // Disable the input element since further picks are not allowed.\n",
              "  inputElement.disabled = true;\n",
              "\n",
              "  if (!files) {\n",
              "    return {\n",
              "      response: {\n",
              "        action: 'complete',\n",
              "      }\n",
              "    };\n",
              "  }\n",
              "\n",
              "  for (const file of files) {\n",
              "    const li = document.createElement('li');\n",
              "    li.append(span(file.name, {fontWeight: 'bold'}));\n",
              "    li.append(span(\n",
              "        `(${file.type || 'n/a'}) - ${file.size} bytes, ` +\n",
              "        `last modified: ${\n",
              "            file.lastModifiedDate ? file.lastModifiedDate.toLocaleDateString() :\n",
              "                                    'n/a'} - `));\n",
              "    const percent = span('0% done');\n",
              "    li.appendChild(percent);\n",
              "\n",
              "    outputElement.appendChild(li);\n",
              "\n",
              "    const fileDataPromise = new Promise((resolve) => {\n",
              "      const reader = new FileReader();\n",
              "      reader.onload = (e) => {\n",
              "        resolve(e.target.result);\n",
              "      };\n",
              "      reader.readAsArrayBuffer(file);\n",
              "    });\n",
              "    // Wait for the data to be ready.\n",
              "    let fileData = yield {\n",
              "      promise: fileDataPromise,\n",
              "      response: {\n",
              "        action: 'continue',\n",
              "      }\n",
              "    };\n",
              "\n",
              "    // Use a chunked sending to avoid message size limits. See b/62115660.\n",
              "    let position = 0;\n",
              "    do {\n",
              "      const length = Math.min(fileData.byteLength - position, MAX_PAYLOAD_SIZE);\n",
              "      const chunk = new Uint8Array(fileData, position, length);\n",
              "      position += length;\n",
              "\n",
              "      const base64 = btoa(String.fromCharCode.apply(null, chunk));\n",
              "      yield {\n",
              "        response: {\n",
              "          action: 'append',\n",
              "          file: file.name,\n",
              "          data: base64,\n",
              "        },\n",
              "      };\n",
              "\n",
              "      let percentDone = fileData.byteLength === 0 ?\n",
              "          100 :\n",
              "          Math.round((position / fileData.byteLength) * 100);\n",
              "      percent.textContent = `${percentDone}% done`;\n",
              "\n",
              "    } while (position < fileData.byteLength);\n",
              "  }\n",
              "\n",
              "  // All done.\n",
              "  yield {\n",
              "    response: {\n",
              "      action: 'complete',\n",
              "    }\n",
              "  };\n",
              "}\n",
              "\n",
              "scope.google = scope.google || {};\n",
              "scope.google.colab = scope.google.colab || {};\n",
              "scope.google.colab._files = {\n",
              "  _uploadFiles,\n",
              "  _uploadFilesContinue,\n",
              "};\n",
              "})(self);\n",
              "</script> "
            ]
          },
          "metadata": {}
        },
        {
          "output_type": "stream",
          "name": "stdout",
          "text": [
            "Saving kaggle.json to kaggle.json\n"
          ]
        },
        {
          "output_type": "execute_result",
          "data": {
            "text/plain": [
              "{'kaggle.json': b'{\"username\":\"jjunnew\",\"key\":\"7a5efae3f4f4791f256c95f863ceb6e3\"}'}"
            ]
          },
          "metadata": {},
          "execution_count": 4
        }
      ]
    },
    {
      "cell_type": "code",
      "source": [
        " #업로드된 파일 확인\n",
        "!ls"
      ],
      "metadata": {
        "colab": {
          "base_uri": "https://localhost:8080/"
        },
        "id": "QHLMCsHayjXw",
        "outputId": "05325925-56e9-419a-f959-c8479e473911"
      },
      "execution_count": null,
      "outputs": [
        {
          "output_type": "stream",
          "name": "stdout",
          "text": [
            "drive  kaggle.json  sample_data\n"
          ]
        }
      ]
    },
    {
      "cell_type": "code",
      "source": [
        "pwd"
      ],
      "metadata": {
        "colab": {
          "base_uri": "https://localhost:8080/",
          "height": 35
        },
        "id": "pLFOikEd04gv",
        "outputId": "9979a257-6b63-4c1c-f0cf-c3be06dfb947"
      },
      "execution_count": null,
      "outputs": [
        {
          "output_type": "execute_result",
          "data": {
            "text/plain": [
              "'/content'"
            ],
            "application/vnd.google.colaboratory.intrinsic+json": {
              "type": "string"
            }
          },
          "metadata": {},
          "execution_count": 6
        }
      ]
    },
    {
      "cell_type": "code",
      "source": [
        "#json 파일 이동, 권한 변경\n",
        "!mkdir ~/.kaggle              #\n",
        "!mv kaggle.json ~/.kaggle/    # 파일이동 : kaggle.json 파일을 ~/.kaggle/ 폴더로 이동시킨다.\n",
        "!chmod 600 ~/. kaggle/*       # 파일의 권한 변경 : 같은 서버에 접속한 다른 사용자들이 토큰 파일 볼수없도록 막는 역할"
      ],
      "metadata": {
        "colab": {
          "base_uri": "https://localhost:8080/"
        },
        "id": "JihGlJDtyjUw",
        "outputId": "d4ef8115-87c0-45cc-826d-ff1d6cdf4113"
      },
      "execution_count": null,
      "outputs": [
        {
          "output_type": "stream",
          "name": "stdout",
          "text": [
            "chmod: cannot access 'kaggle/*': No such file or directory\n"
          ]
        }
      ]
    },
    {
      "cell_type": "code",
      "source": [
        "!kaggle competitions list"
      ],
      "metadata": {
        "colab": {
          "base_uri": "https://localhost:8080/"
        },
        "id": "R3SBmEvsyi_g",
        "outputId": "d642fe27-0b1e-44ee-df43-1d02d0d6576d"
      },
      "execution_count": null,
      "outputs": [
        {
          "output_type": "stream",
          "name": "stdout",
          "text": [
            "Warning: Your Kaggle API key is readable by other users on this system! To fix this, you can run 'chmod 600 /root/.kaggle/kaggle.json'\n",
            "ref                                                                               deadline             category            reward  teamCount  userHasEntered  \n",
            "--------------------------------------------------------------------------------  -------------------  ---------------  ---------  ---------  --------------  \n",
            "https://www.kaggle.com/competitions/open-problems-single-cell-perturbations       2023-11-30 23:59:00  Featured          $100,000        702           False  \n",
            "https://www.kaggle.com/competitions/stanford-ribonanza-rna-folding                2023-12-07 23:59:00  Research          $100,000        425           False  \n",
            "https://www.kaggle.com/competitions/optiver-trading-at-the-close                  2023-12-20 23:59:00  Featured          $100,000       2094           False  \n",
            "https://www.kaggle.com/competitions/nfl-big-data-bowl-2024                        2024-01-08 23:59:00  Analytics         $100,000          0           False  \n",
            "https://www.kaggle.com/competitions/linking-writing-processes-to-writing-quality  2024-01-09 23:59:00  Featured           $55,000        676           False  \n",
            "https://www.kaggle.com/competitions/ai-village-capture-the-flag-defcon31          2023-11-09 23:59:00  Featured           $50,000       1116           False  \n",
            "https://www.kaggle.com/competitions/predict-ai-model-runtime                      2023-11-17 23:59:00  Research           $50,000        534           False  \n",
            "https://www.kaggle.com/competitions/child-mind-institute-detect-sleep-states      2023-12-05 23:59:00  Featured           $50,000       1103           False  \n",
            "https://www.kaggle.com/competitions/UBC-OCEAN                                     2024-01-03 23:59:00  Research           $50,000        289           False  \n",
            "https://www.kaggle.com/competitions/neurips-2023-machine-unlearning               2023-11-27 23:59:00  Research           $50,000        903           False  \n",
            "https://www.kaggle.com/competitions/llm-prompting-with-makersuite                 2023-11-06 23:59:00  Analytics             Swag          0           False  \n",
            "https://www.kaggle.com/competitions/playground-series-s3e24                       2023-11-13 23:59:00  Playground            Swag        355           False  \n",
            "https://www.kaggle.com/competitions/lux-ai-season-2-neurips-stage-2               2023-11-17 23:59:00  Featured              Swag         54           False  \n",
            "https://www.kaggle.com/competitions/titanic                                       2030-01-01 00:00:00  Getting Started  Knowledge      15034            True  \n",
            "https://www.kaggle.com/competitions/house-prices-advanced-regression-techniques   2030-01-01 00:00:00  Getting Started  Knowledge       4253           False  \n",
            "https://www.kaggle.com/competitions/spaceship-titanic                             2030-01-01 00:00:00  Getting Started  Knowledge       2172           False  \n",
            "https://www.kaggle.com/competitions/digit-recognizer                              2030-01-01 00:00:00  Getting Started  Knowledge       1502           False  \n",
            "https://www.kaggle.com/competitions/nlp-getting-started                           2030-01-01 00:00:00  Getting Started  Knowledge        909           False  \n",
            "https://www.kaggle.com/competitions/connectx                                      2030-01-01 00:00:00  Getting Started  Knowledge        162           False  \n",
            "https://www.kaggle.com/competitions/tpu-getting-started                           2030-06-03 23:59:00  Getting Started  Knowledge        123           False  \n"
          ]
        }
      ]
    },
    {
      "cell_type": "markdown",
      "source": [
        "# 4.3 구글 코랩과 타이타닉 데이터"
      ],
      "metadata": {
        "id": "7VAQ4lKWeRSL"
      }
    },
    {
      "cell_type": "code",
      "source": [
        "# content 폴더 안에 gdrive 라는 폴더를 만들어 구글드라이브와 연동\n",
        "from google.colab import drive\n",
        "drive.mount('/content/gdrive')"
      ],
      "metadata": {
        "colab": {
          "base_uri": "https://localhost:8080/"
        },
        "id": "fwHhGM7Q5sgl",
        "outputId": "4bf542cd-ceb2-46e4-df86-d5d9136ecb95"
      },
      "execution_count": null,
      "outputs": [
        {
          "output_type": "stream",
          "name": "stdout",
          "text": [
            "Mounted at /content/gdrive\n"
          ]
        }
      ]
    },
    {
      "cell_type": "code",
      "source": [
        "import os\n",
        "os.chdir('/content/gdrive/My Drive/Colab Notebooks/titanic_data')\n",
        "\n",
        "\n",
        "\n",
        "'''\n",
        "# 구글드라이브에 만들어둔 titanic_data 폴더로 이동\n",
        "# cd '/content/gdrive/My Drive/Colab Notebooks/titanic_data'\n",
        "\n",
        " File \"<ipython-input-44-f8f03397aba2>\", line 2\n",
        "    cd '/content/gdrive/My Drive/Colab Notebooks/titanic_data'\n",
        "       ^\n",
        "SyntaxError: invalid syntax\n",
        "'''"
      ],
      "metadata": {
        "colab": {
          "base_uri": "https://localhost:8080/",
          "height": 54
        },
        "id": "ZuAXr4mmAV6M",
        "outputId": "0530bcf7-ee19-4627-98d3-9a4a4ba001bc"
      },
      "execution_count": null,
      "outputs": [
        {
          "output_type": "execute_result",
          "data": {
            "text/plain": [
              "'\\n# 구글드라이브에 만들어둔 titanic_data 폴더로 이동\\n# cd \\'/content/gdrive/My Drive/Colab Notebooks/titanic_data\\'\\n\\n File \"<ipython-input-44-f8f03397aba2>\", line 2\\n    cd \\'/content/gdrive/My Drive/Colab Notebooks/titanic_data\\'\\n       ^\\nSyntaxError: invalid syntax\\n'"
            ],
            "application/vnd.google.colaboratory.intrinsic+json": {
              "type": "string"
            }
          },
          "metadata": {},
          "execution_count": 10
        }
      ]
    },
    {
      "cell_type": "code",
      "source": [
        "# present working directory  현재 작업 폴더\n",
        "!pwd"
      ],
      "metadata": {
        "colab": {
          "base_uri": "https://localhost:8080/"
        },
        "id": "tKxUHwMp7ZCl",
        "outputId": "5861efd7-33ff-4fec-db7c-48fe8a124a15"
      },
      "execution_count": null,
      "outputs": [
        {
          "output_type": "stream",
          "name": "stdout",
          "text": [
            "/content/gdrive/My Drive/Colab Notebooks/titanic_data\n"
          ]
        }
      ]
    },
    {
      "cell_type": "code",
      "source": [
        "!kaggle competitions download -c titanic"
      ],
      "metadata": {
        "colab": {
          "base_uri": "https://localhost:8080/"
        },
        "id": "6rQFv4nY7Y_8",
        "outputId": "d56e027b-3ee7-409e-b4a6-a2b2b465c8f5"
      },
      "execution_count": null,
      "outputs": [
        {
          "output_type": "stream",
          "name": "stdout",
          "text": [
            "Warning: Your Kaggle API key is readable by other users on this system! To fix this, you can run 'chmod 600 /root/.kaggle/kaggle.json'\n",
            "titanic.zip: Skipping, found more recently modified local copy (use --force to force download)\n"
          ]
        }
      ]
    },
    {
      "cell_type": "markdown",
      "source": [
        "# 4.4 파이썬 코드로 타이타닉 데이터 분석하기"
      ],
      "metadata": {
        "id": "Kw4RmROjeXuB"
      }
    },
    {
      "cell_type": "code",
      "source": [
        "!pip install pandas\n",
        "!pip install matplotlib\n",
        "!pip install numpy"
      ],
      "metadata": {
        "colab": {
          "base_uri": "https://localhost:8080/"
        },
        "id": "1Uz8Jjqo7Y9N",
        "outputId": "678a33eb-090f-4b1b-a614-29f2f71516ac"
      },
      "execution_count": null,
      "outputs": [
        {
          "output_type": "stream",
          "name": "stdout",
          "text": [
            "Requirement already satisfied: pandas in /usr/local/lib/python3.10/dist-packages (1.5.3)\n",
            "Requirement already satisfied: python-dateutil>=2.8.1 in /usr/local/lib/python3.10/dist-packages (from pandas) (2.8.2)\n",
            "Requirement already satisfied: pytz>=2020.1 in /usr/local/lib/python3.10/dist-packages (from pandas) (2023.3.post1)\n",
            "Requirement already satisfied: numpy>=1.21.0 in /usr/local/lib/python3.10/dist-packages (from pandas) (1.23.5)\n",
            "Requirement already satisfied: six>=1.5 in /usr/local/lib/python3.10/dist-packages (from python-dateutil>=2.8.1->pandas) (1.16.0)\n",
            "Requirement already satisfied: matplotlib in /usr/local/lib/python3.10/dist-packages (3.7.1)\n",
            "Requirement already satisfied: contourpy>=1.0.1 in /usr/local/lib/python3.10/dist-packages (from matplotlib) (1.1.1)\n",
            "Requirement already satisfied: cycler>=0.10 in /usr/local/lib/python3.10/dist-packages (from matplotlib) (0.12.1)\n",
            "Requirement already satisfied: fonttools>=4.22.0 in /usr/local/lib/python3.10/dist-packages (from matplotlib) (4.43.1)\n",
            "Requirement already satisfied: kiwisolver>=1.0.1 in /usr/local/lib/python3.10/dist-packages (from matplotlib) (1.4.5)\n",
            "Requirement already satisfied: numpy>=1.20 in /usr/local/lib/python3.10/dist-packages (from matplotlib) (1.23.5)\n",
            "Requirement already satisfied: packaging>=20.0 in /usr/local/lib/python3.10/dist-packages (from matplotlib) (23.2)\n",
            "Requirement already satisfied: pillow>=6.2.0 in /usr/local/lib/python3.10/dist-packages (from matplotlib) (9.4.0)\n",
            "Requirement already satisfied: pyparsing>=2.3.1 in /usr/local/lib/python3.10/dist-packages (from matplotlib) (3.1.1)\n",
            "Requirement already satisfied: python-dateutil>=2.7 in /usr/local/lib/python3.10/dist-packages (from matplotlib) (2.8.2)\n",
            "Requirement already satisfied: six>=1.5 in /usr/local/lib/python3.10/dist-packages (from python-dateutil>=2.7->matplotlib) (1.16.0)\n",
            "Requirement already satisfied: numpy in /usr/local/lib/python3.10/dist-packages (1.23.5)\n"
          ]
        }
      ]
    },
    {
      "cell_type": "code",
      "source": [
        "# 현재 작업 폴더와 관계없이 한번에 해당 폴더로 이동하는 명령\n",
        "\n",
        "!cd '/content/gdrive/My Drive/Colab Notebooks/'"
      ],
      "metadata": {
        "id": "xeJNoyj67Y0O"
      },
      "execution_count": null,
      "outputs": []
    },
    {
      "cell_type": "code",
      "source": [
        "import pandas as pd"
      ],
      "metadata": {
        "id": "Twv8Q-2h9Emz"
      },
      "execution_count": null,
      "outputs": []
    },
    {
      "cell_type": "code",
      "source": [
        "# csv 데이터 읽기\n",
        "data_train = pd.read_csv('/content/gdrive/MyDrive/Colab Notebooks/titanic_data/train.csv')\n",
        "print(data_train)"
      ],
      "metadata": {
        "colab": {
          "base_uri": "https://localhost:8080/"
        },
        "id": "0u4GAD7Y9Ej7",
        "outputId": "8e119d29-358c-4fb6-cd44-d872f5e64911"
      },
      "execution_count": null,
      "outputs": [
        {
          "output_type": "stream",
          "name": "stdout",
          "text": [
            "     PassengerId  Survived  Pclass  \\\n",
            "0              1         0       3   \n",
            "1              2         1       1   \n",
            "2              3         1       3   \n",
            "3              4         1       1   \n",
            "4              5         0       3   \n",
            "..           ...       ...     ...   \n",
            "886          887         0       2   \n",
            "887          888         1       1   \n",
            "888          889         0       3   \n",
            "889          890         1       1   \n",
            "890          891         0       3   \n",
            "\n",
            "                                                  Name     Sex   Age  SibSp  \\\n",
            "0                              Braund, Mr. Owen Harris    male  22.0      1   \n",
            "1    Cumings, Mrs. John Bradley (Florence Briggs Th...  female  38.0      1   \n",
            "2                               Heikkinen, Miss. Laina  female  26.0      0   \n",
            "3         Futrelle, Mrs. Jacques Heath (Lily May Peel)  female  35.0      1   \n",
            "4                             Allen, Mr. William Henry    male  35.0      0   \n",
            "..                                                 ...     ...   ...    ...   \n",
            "886                              Montvila, Rev. Juozas    male  27.0      0   \n",
            "887                       Graham, Miss. Margaret Edith  female  19.0      0   \n",
            "888           Johnston, Miss. Catherine Helen \"Carrie\"  female   NaN      1   \n",
            "889                              Behr, Mr. Karl Howell    male  26.0      0   \n",
            "890                                Dooley, Mr. Patrick    male  32.0      0   \n",
            "\n",
            "     Parch            Ticket     Fare Cabin Embarked  \n",
            "0        0         A/5 21171   7.2500   NaN        S  \n",
            "1        0          PC 17599  71.2833   C85        C  \n",
            "2        0  STON/O2. 3101282   7.9250   NaN        S  \n",
            "3        0            113803  53.1000  C123        S  \n",
            "4        0            373450   8.0500   NaN        S  \n",
            "..     ...               ...      ...   ...      ...  \n",
            "886      0            211536  13.0000   NaN        S  \n",
            "887      0            112053  30.0000   B42        S  \n",
            "888      2        W./C. 6607  23.4500   NaN        S  \n",
            "889      0            111369  30.0000  C148        C  \n",
            "890      0            370376   7.7500   NaN        Q  \n",
            "\n",
            "[891 rows x 12 columns]\n"
          ]
        }
      ]
    },
    {
      "cell_type": "code",
      "source": [
        "import matplotlib.pyplot as plt\n",
        "\n",
        "# data_train의 데이터 중 'Pclass'에 대해 히스토그램을 그린다.\n",
        "plt.hist(data_train['Pclass'])"
      ],
      "metadata": {
        "colab": {
          "base_uri": "https://localhost:8080/",
          "height": 485
        },
        "id": "PCrPLqeg9EIs",
        "outputId": "e5f719e2-a459-4b25-aa2b-f9eabd1c24a1"
      },
      "execution_count": null,
      "outputs": [
        {
          "output_type": "execute_result",
          "data": {
            "text/plain": [
              "(array([216.,   0.,   0.,   0.,   0., 184.,   0.,   0.,   0., 491.]),\n",
              " array([1. , 1.2, 1.4, 1.6, 1.8, 2. , 2.2, 2.4, 2.6, 2.8, 3. ]),\n",
              " <BarContainer object of 10 artists>)"
            ]
          },
          "metadata": {},
          "execution_count": 17
        },
        {
          "output_type": "display_data",
          "data": {
            "text/plain": [
              "<Figure size 640x480 with 1 Axes>"
            ],
            "image/png": "[encoded data removed]"
          },
          "metadata": {}
        }
      ]
    },
    {
      "cell_type": "code",
      "source": [
        "# 생존한 사람들의 데이터만 선택\n",
        "data_train[data_train.Survived==1]"
      ],
      "metadata": {
        "colab": {
          "base_uri": "https://localhost:8080/",
          "height": 423
        },
        "id": "IZ4HL8PRDEFO",
        "outputId": "b4b46159-8db8-43bb-d31c-bb7e28b0582e"
      },
      "execution_count": null,
      "outputs": [
        {
          "output_type": "execute_result",
          "data": {
            "text/plain": [
              "     PassengerId  Survived  Pclass  \\\n",
              "1              2         1       1   \n",
              "2              3         1       3   \n",
              "3              4         1       1   \n",
              "8              9         1       3   \n",
              "9             10         1       2   \n",
              "..           ...       ...     ...   \n",
              "875          876         1       3   \n",
              "879          880         1       1   \n",
              "880          881         1       2   \n",
              "887          888         1       1   \n",
              "889          890         1       1   \n",
              "\n",
              "                                                  Name     Sex   Age  SibSp  \\\n",
              "1    Cumings, Mrs. John Bradley (Florence Briggs Th...  female  38.0      1   \n",
              "2                               Heikkinen, Miss. Laina  female  26.0      0   \n",
              "3         Futrelle, Mrs. Jacques Heath (Lily May Peel)  female  35.0      1   \n",
              "8    Johnson, Mrs. Oscar W (Elisabeth Vilhelmina Berg)  female  27.0      0   \n",
              "9                  Nasser, Mrs. Nicholas (Adele Achem)  female  14.0      1   \n",
              "..                                                 ...     ...   ...    ...   \n",
              "875                   Najib, Miss. Adele Kiamie \"Jane\"  female  15.0      0   \n",
              "879      Potter, Mrs. Thomas Jr (Lily Alexenia Wilson)  female  56.0      0   \n",
              "880       Shelley, Mrs. William (Imanita Parrish Hall)  female  25.0      0   \n",
              "887                       Graham, Miss. Margaret Edith  female  19.0      0   \n",
              "889                              Behr, Mr. Karl Howell    male  26.0      0   \n",
              "\n",
              "     Parch            Ticket     Fare Cabin Embarked  \n",
              "1        0          PC 17599  71.2833   C85        C  \n",
              "2        0  STON/O2. 3101282   7.9250   NaN        S  \n",
              "3        0            113803  53.1000  C123        S  \n",
              "8        2            347742  11.1333   NaN        S  \n",
              "9        0            237736  30.0708   NaN        C  \n",
              "..     ...               ...      ...   ...      ...  \n",
              "875      0              2667   7.2250   NaN        C  \n",
              "879      1             11767  83.1583   C50        C  \n",
              "880      1            230433  26.0000   NaN        S  \n",
              "887      0            112053  30.0000   B42        S  \n",
              "889      0            111369  30.0000  C148        C  \n",
              "\n",
              "[342 rows x 12 columns]"
            ],
            "text/html": [
              "\n",
              "  <div id=\"df-1620715f-7fdc-4f40-aa22-eedb42009a05\" class=\"colab-df-container\">\n",
              "    <div>\n",
              "<style scoped>\n",
              "    .dataframe tbody tr th:only-of-type {\n",
              "        vertical-align: middle;\n",
              "    }\n",
              "\n",
              "    .dataframe tbody tr th {\n",
              "        vertical-align: top;\n",
              "    }\n",
              "\n",
              "    .dataframe thead th {\n",
              "        text-align: right;\n",
              "    }\n",
              "</style>\n",
              "<table border=\"1\" class=\"dataframe\">\n",
              "  <thead>\n",
              "    <tr style=\"text-align: right;\">\n",
              "      <th></th>\n",
              "      <th>PassengerId</th>\n",
              "      <th>Survived</th>\n",
              "      <th>Pclass</th>\n",
              "      <th>Name</th>\n",
              "      <th>Sex</th>\n",
              "      <th>Age</th>\n",
              "      <th>SibSp</th>\n",
              "      <th>Parch</th>\n",
              "      <th>Ticket</th>\n",
              "      <th>Fare</th>\n",
              "      <th>Cabin</th>\n",
              "      <th>Embarked</th>\n",
              "    </tr>\n",
              "  </thead>\n",
              "  <tbody>\n",
              "    <tr>\n",
              "      <th>1</th>\n",
              "      <td>2</td>\n",
              "      <td>1</td>\n",
              "      <td>1</td>\n",
              "      <td>Cumings, Mrs. John Bradley (Florence Briggs Th...</td>\n",
              "      <td>female</td>\n",
              "      <td>38.0</td>\n",
              "      <td>1</td>\n",
              "      <td>0</td>\n",
              "      <td>PC 17599</td>\n",
              "      <td>71.2833</td>\n",
              "      <td>C85</td>\n",
              "      <td>C</td>\n",
              "    </tr>\n",
              "    <tr>\n",
              "      <th>2</th>\n",
              "      <td>3</td>\n",
              "      <td>1</td>\n",
              "      <td>3</td>\n",
              "      <td>Heikkinen, Miss. Laina</td>\n",
              "      <td>female</td>\n",
              "      <td>26.0</td>\n",
              "      <td>0</td>\n",
              "      <td>0</td>\n",
              "      <td>STON/O2. 3101282</td>\n",
              "      <td>7.9250</td>\n",
              "      <td>NaN</td>\n",
              "      <td>S</td>\n",
              "    </tr>\n",
              "    <tr>\n",
              "      <th>3</th>\n",
              "      <td>4</td>\n",
              "      <td>1</td>\n",
              "      <td>1</td>\n",
              "      <td>Futrelle, Mrs. Jacques Heath (Lily May Peel)</td>\n",
              "      <td>female</td>\n",
              "      <td>35.0</td>\n",
              "      <td>1</td>\n",
              "      <td>0</td>\n",
              "      <td>113803</td>\n",
              "      <td>53.1000</td>\n",
              "      <td>C123</td>\n",
              "      <td>S</td>\n",
              "    </tr>\n",
              "    <tr>\n",
              "      <th>8</th>\n",
              "      <td>9</td>\n",
              "      <td>1</td>\n",
              "      <td>3</td>\n",
              "      <td>Johnson, Mrs. Oscar W (Elisabeth Vilhelmina Berg)</td>\n",
              "      <td>female</td>\n",
              "      <td>27.0</td>\n",
              "      <td>0</td>\n",
              "      <td>2</td>\n",
              "      <td>347742</td>\n",
              "      <td>11.1333</td>\n",
              "      <td>NaN</td>\n",
              "      <td>S</td>\n",
              "    </tr>\n",
              "    <tr>\n",
              "      <th>9</th>\n",
              "      <td>10</td>\n",
              "      <td>1</td>\n",
              "      <td>2</td>\n",
              "      <td>Nasser, Mrs. Nicholas (Adele Achem)</td>\n",
              "      <td>female</td>\n",
              "      <td>14.0</td>\n",
              "      <td>1</td>\n",
              "      <td>0</td>\n",
              "      <td>237736</td>\n",
              "      <td>30.0708</td>\n",
              "      <td>NaN</td>\n",
              "      <td>C</td>\n",
              "    </tr>\n",
              "    <tr>\n",
              "      <th>...</th>\n",
              "      <td>...</td>\n",
              "      <td>...</td>\n",
              "      <td>...</td>\n",
              "      <td>...</td>\n",
              "      <td>...</td>\n",
              "      <td>...</td>\n",
              "      <td>...</td>\n",
              "      <td>...</td>\n",
              "      <td>...</td>\n",
              "      <td>...</td>\n",
              "      <td>...</td>\n",
              "      <td>...</td>\n",
              "    </tr>\n",
              "    <tr>\n",
              "      <th>875</th>\n",
              "      <td>876</td>\n",
              "      <td>1</td>\n",
              "      <td>3</td>\n",
              "      <td>Najib, Miss. Adele Kiamie \"Jane\"</td>\n",
              "      <td>female</td>\n",
              "      <td>15.0</td>\n",
              "      <td>0</td>\n",
              "      <td>0</td>\n",
              "      <td>2667</td>\n",
              "      <td>7.2250</td>\n",
              "      <td>NaN</td>\n",
              "      <td>C</td>\n",
              "    </tr>\n",
              "    <tr>\n",
              "      <th>879</th>\n",
              "      <td>880</td>\n",
              "      <td>1</td>\n",
              "      <td>1</td>\n",
              "      <td>Potter, Mrs. Thomas Jr (Lily Alexenia Wilson)</td>\n",
              "      <td>female</td>\n",
              "      <td>56.0</td>\n",
              "      <td>0</td>\n",
              "      <td>1</td>\n",
              "      <td>11767</td>\n",
              "      <td>83.1583</td>\n",
              "      <td>C50</td>\n",
              "      <td>C</td>\n",
              "    </tr>\n",
              "    <tr>\n",
              "      <th>880</th>\n",
              "      <td>881</td>\n",
              "      <td>1</td>\n",
              "      <td>2</td>\n",
              "      <td>Shelley, Mrs. William (Imanita Parrish Hall)</td>\n",
              "      <td>female</td>\n",
              "      <td>25.0</td>\n",
              "      <td>0</td>\n",
              "      <td>1</td>\n",
              "      <td>230433</td>\n",
              "      <td>26.0000</td>\n",
              "      <td>NaN</td>\n",
              "      <td>S</td>\n",
              "    </tr>\n",
              "    <tr>\n",
              "      <th>887</th>\n",
              "      <td>888</td>\n",
              "      <td>1</td>\n",
              "      <td>1</td>\n",
              "      <td>Graham, Miss. Margaret Edith</td>\n",
              "      <td>female</td>\n",
              "      <td>19.0</td>\n",
              "      <td>0</td>\n",
              "      <td>0</td>\n",
              "      <td>112053</td>\n",
              "      <td>30.0000</td>\n",
              "      <td>B42</td>\n",
              "      <td>S</td>\n",
              "    </tr>\n",
              "    <tr>\n",
              "      <th>889</th>\n",
              "      <td>890</td>\n",
              "      <td>1</td>\n",
              "      <td>1</td>\n",
              "      <td>Behr, Mr. Karl Howell</td>\n",
              "      <td>male</td>\n",
              "      <td>26.0</td>\n",
              "      <td>0</td>\n",
              "      <td>0</td>\n",
              "      <td>111369</td>\n",
              "      <td>30.0000</td>\n",
              "      <td>C148</td>\n",
              "      <td>C</td>\n",
              "    </tr>\n",
              "  </tbody>\n",
              "</table>\n",
              "<p>342 rows × 12 columns</p>\n",
              "</div>\n",
              "    <div class=\"colab-df-buttons\">\n",
              "\n",
              "  <div class=\"colab-df-container\">\n",
              "    <button class=\"colab-df-convert\" onclick=\"convertToInteractive('df-1620715f-7fdc-4f40-aa22-eedb42009a05')\"\n",
              "            title=\"Convert this dataframe to an interactive table.\"\n",
              "            style=\"display:none;\">\n",
              "\n",
              "  <svg xmlns=\"http://www.w3.org/2000/svg\" height=\"24px\" viewBox=\"0 -960 960 960\">\n",
              "    <path d=\"M120-120v-720h720v720H120Zm60-500h600v-160H180v160Zm220 220h160v-160H400v160Zm0 220h160v-160H400v160ZM180-400h160v-160H180v160Zm440 0h160v-160H620v160ZM180-180h160v-160H180v160Zm440 0h160v-160H620v160Z\"/>\n",
              "  </svg>\n",
              "    </button>\n",
              "\n",
              "  <style>\n",
              "    .colab-df-container {\n",
              "      display:flex;\n",
              "      gap: 12px;\n",
              "    }\n",
              "\n",
              "    .colab-df-convert {\n",
              "      background-color: #E8F0FE;\n",
              "      border: none;\n",
              "      border-radius: 50%;\n",
              "      cursor: pointer;\n",
              "      display: none;\n",
              "      fill: #1967D2;\n",
              "      height: 32px;\n",
              "      padding: 0 0 0 0;\n",
              "      width: 32px;\n",
              "    }\n",
              "\n",
              "    .colab-df-convert:hover {\n",
              "      background-color: #E2EBFA;\n",
              "      box-shadow: 0px 1px 2px rgba(60, 64, 67, 0.3), 0px 1px 3px 1px rgba(60, 64, 67, 0.15);\n",
              "      fill: #174EA6;\n",
              "    }\n",
              "\n",
              "    .colab-df-buttons div {\n",
              "      margin-bottom: 4px;\n",
              "    }\n",
              "\n",
              "    [theme=dark] .colab-df-convert {\n",
              "      background-color: #3B4455;\n",
              "      fill: #D2E3FC;\n",
              "    }\n",
              "\n",
              "    [theme=dark] .colab-df-convert:hover {\n",
              "      background-color: #434B5C;\n",
              "      box-shadow: 0px 1px 3px 1px rgba(0, 0, 0, 0.15);\n",
              "      filter: drop-shadow(0px 1px 2px rgba(0, 0, 0, 0.3));\n",
              "      fill: #FFFFFF;\n",
              "    }\n",
              "  </style>\n",
              "\n",
              "    <script>\n",
              "      const buttonEl =\n",
              "        document.querySelector('#df-1620715f-7fdc-4f40-aa22-eedb42009a05 button.colab-df-convert');\n",
              "      buttonEl.style.display =\n",
              "        google.colab.kernel.accessAllowed ? 'block' : 'none';\n",
              "\n",
              "      async function convertToInteractive(key) {\n",
              "        const element = document.querySelector('#df-1620715f-7fdc-4f40-aa22-eedb42009a05');\n",
              "        const dataTable =\n",
              "          await google.colab.kernel.invokeFunction('convertToInteractive',\n",
              "                                                    [key], {});\n",
              "        if (!dataTable) return;\n",
              "\n",
              "        const docLinkHtml = 'Like what you see? Visit the ' +\n",
              "          '<a target=\"_blank\" href=https://colab.research.google.com/notebooks/data_table.ipynb>data table notebook</a>'\n",
              "          + ' to learn more about interactive tables.';\n",
              "        element.innerHTML = '';\n",
              "        dataTable['output_type'] = 'display_data';\n",
              "        await google.colab.output.renderOutput(dataTable, element);\n",
              "        const docLink = document.createElement('div');\n",
              "        docLink.innerHTML = docLinkHtml;\n",
              "        element.appendChild(docLink);\n",
              "      }\n",
              "    </script>\n",
              "  </div>\n",
              "\n",
              "\n",
              "<div id=\"df-def4fe78-be31-4822-8517-86d4b03e5524\">\n",
              "  <button class=\"colab-df-quickchart\" onclick=\"quickchart('df-def4fe78-be31-4822-8517-86d4b03e5524')\"\n",
              "            title=\"Suggest charts.\"\n",
              "            style=\"display:none;\">\n",
              "\n",
              "<svg xmlns=\"http://www.w3.org/2000/svg\" height=\"24px\"viewBox=\"0 0 24 24\"\n",
              "     width=\"24px\">\n",
              "    <g>\n",
              "        <path d=\"M19 3H5c-1.1 0-2 .9-2 2v14c0 1.1.9 2 2 2h14c1.1 0 2-.9 2-2V5c0-1.1-.9-2-2-2zM9 17H7v-7h2v7zm4 0h-2V7h2v10zm4 0h-2v-4h2v4z\"/>\n",
              "    </g>\n",
              "</svg>\n",
              "  </button>\n",
              "\n",
              "<style>\n",
              "  .colab-df-quickchart {\n",
              "      --bg-color: #E8F0FE;\n",
              "      --fill-color: #1967D2;\n",
              "      --hover-bg-color: #E2EBFA;\n",
              "      --hover-fill-color: #174EA6;\n",
              "      --disabled-fill-color: #AAA;\n",
              "      --disabled-bg-color: #DDD;\n",
              "  }\n",
              "\n",
              "  [theme=dark] .colab-df-quickchart {\n",
              "      --bg-color: #3B4455;\n",
              "      --fill-color: #D2E3FC;\n",
              "      --hover-bg-color: #434B5C;\n",
              "      --hover-fill-color: #FFFFFF;\n",
              "      --disabled-bg-color: #3B4455;\n",
              "      --disabled-fill-color: #666;\n",
              "  }\n",
              "\n",
              "  .colab-df-quickchart {\n",
              "    background-color: var(--bg-color);\n",
              "    border: none;\n",
              "    border-radius: 50%;\n",
              "    cursor: pointer;\n",
              "    display: none;\n",
              "    fill: var(--fill-color);\n",
              "    height: 32px;\n",
              "    padding: 0;\n",
              "    width: 32px;\n",
              "  }\n",
              "\n",
              "  .colab-df-quickchart:hover {\n",
              "    background-color: var(--hover-bg-color);\n",
              "    box-shadow: 0 1px 2px rgba(60, 64, 67, 0.3), 0 1px 3px 1px rgba(60, 64, 67, 0.15);\n",
              "    fill: var(--button-hover-fill-color);\n",
              "  }\n",
              "\n",
              "  .colab-df-quickchart-complete:disabled,\n",
              "  .colab-df-quickchart-complete:disabled:hover {\n",
              "    background-color: var(--disabled-bg-color);\n",
              "    fill: var(--disabled-fill-color);\n",
              "    box-shadow: none;\n",
              "  }\n",
              "\n",
              "  .colab-df-spinner {\n",
              "    border: 2px solid var(--fill-color);\n",
              "    border-color: transparent;\n",
              "    border-bottom-color: var(--fill-color);\n",
              "    animation:\n",
              "      spin 1s steps(1) infinite;\n",
              "  }\n",
              "\n",
              "  @keyframes spin {\n",
              "    0% {\n",
              "      border-color: transparent;\n",
              "      border-bottom-color: var(--fill-color);\n",
              "      border-left-color: var(--fill-color);\n",
              "    }\n",
              "    20% {\n",
              "      border-color: transparent;\n",
              "      border-left-color: var(--fill-color);\n",
              "      border-top-color: var(--fill-color);\n",
              "    }\n",
              "    30% {\n",
              "      border-color: transparent;\n",
              "      border-left-color: var(--fill-color);\n",
              "      border-top-color: var(--fill-color);\n",
              "      border-right-color: var(--fill-color);\n",
              "    }\n",
              "    40% {\n",
              "      border-color: transparent;\n",
              "      border-right-color: var(--fill-color);\n",
              "      border-top-color: var(--fill-color);\n",
              "    }\n",
              "    60% {\n",
              "      border-color: transparent;\n",
              "      border-right-color: var(--fill-color);\n",
              "    }\n",
              "    80% {\n",
              "      border-color: transparent;\n",
              "      border-right-color: var(--fill-color);\n",
              "      border-bottom-color: var(--fill-color);\n",
              "    }\n",
              "    90% {\n",
              "      border-color: transparent;\n",
              "      border-bottom-color: var(--fill-color);\n",
              "    }\n",
              "  }\n",
              "</style>\n",
              "\n",
              "  <script>\n",
              "    async function quickchart(key) {\n",
              "      const quickchartButtonEl =\n",
              "        document.querySelector('#' + key + ' button');\n",
              "      quickchartButtonEl.disabled = true;  // To prevent multiple clicks.\n",
              "      quickchartButtonEl.classList.add('colab-df-spinner');\n",
              "      try {\n",
              "        const charts = await google.colab.kernel.invokeFunction(\n",
              "            'suggestCharts', [key], {});\n",
              "      } catch (error) {\n",
              "        console.error('Error during call to suggestCharts:', error);\n",
              "      }\n",
              "      quickchartButtonEl.classList.remove('colab-df-spinner');\n",
              "      quickchartButtonEl.classList.add('colab-df-quickchart-complete');\n",
              "    }\n",
              "    (() => {\n",
              "      let quickchartButtonEl =\n",
              "        document.querySelector('#df-def4fe78-be31-4822-8517-86d4b03e5524 button');\n",
              "      quickchartButtonEl.style.display =\n",
              "        google.colab.kernel.accessAllowed ? 'block' : 'none';\n",
              "    })();\n",
              "  </script>\n",
              "</div>\n",
              "    </div>\n",
              "  </div>\n"
            ]
          },
          "metadata": {},
          "execution_count": 18
        }
      ]
    },
    {
      "cell_type": "code",
      "source": [
        "# 생존한 사람들의 데이터만 선택하여 새로운 변수 data_survived에 할당\n",
        "data_survived = data_train[data_train.Survived==1]"
      ],
      "metadata": {
        "id": "x5rlQxP3DEC1"
      },
      "execution_count": null,
      "outputs": []
    },
    {
      "cell_type": "code",
      "source": [
        "# 전체 데이터와 생존한 사람들 데이터를 사용하여 히스토그램\n",
        "# plt.hist([a,b])\n",
        "plt.hist([data_train['Pclass'], data_survived['Pclass']])\n",
        "\n",
        "plt.legend(['Total', 'Survived']) # 범례\n",
        "plt.xlabel('Pclass')              # x축 제목\n",
        "plt.ylabel('Number of People')    # y축 제목"
      ],
      "metadata": {
        "colab": {
          "base_uri": "https://localhost:8080/",
          "height": 467
        },
        "id": "2tKl5SJUDEAr",
        "outputId": "51d44ba8-7448-4454-f229-531baf709ce1"
      },
      "execution_count": null,
      "outputs": [
        {
          "output_type": "execute_result",
          "data": {
            "text/plain": [
              "Text(0, 0.5, 'Number of People')"
            ]
          },
          "metadata": {},
          "execution_count": 20
        },
        {
          "output_type": "display_data",
          "data": {
            "text/plain": [
              "<Figure size 640x480 with 1 Axes>"
            ],
            "image/png": "[encoded data removed]"
          },
          "metadata": {}
        }
      ]
    },
    {
      "cell_type": "code",
      "source": [
        "# 남성 생존자만 가리키는 코드\n",
        "(data_train.Survived==1) & (data_train.Sex=='male')"
      ],
      "metadata": {
        "colab": {
          "base_uri": "https://localhost:8080/"
        },
        "id": "K4d4wTpWDD9q",
        "outputId": "c736015e-1dd4-4ef8-c67c-3d7ec0356e25"
      },
      "execution_count": null,
      "outputs": [
        {
          "output_type": "execute_result",
          "data": {
            "text/plain": [
              "0      False\n",
              "1      False\n",
              "2      False\n",
              "3      False\n",
              "4      False\n",
              "       ...  \n",
              "886    False\n",
              "887    False\n",
              "888    False\n",
              "889     True\n",
              "890    False\n",
              "Length: 891, dtype: bool"
            ]
          },
          "metadata": {},
          "execution_count": 21
        }
      ]
    },
    {
      "cell_type": "code",
      "source": [
        "# 여성 생존자만 가리키는 코드\n",
        "(data_train.Survived==1) & (data_train.Sex=='female')"
      ],
      "metadata": {
        "colab": {
          "base_uri": "https://localhost:8080/"
        },
        "id": "FlVzEBL2DD6q",
        "outputId": "0ccae2ee-1a05-40ee-b86f-190f0650d1e1"
      },
      "execution_count": null,
      "outputs": [
        {
          "output_type": "execute_result",
          "data": {
            "text/plain": [
              "0      False\n",
              "1       True\n",
              "2       True\n",
              "3       True\n",
              "4      False\n",
              "       ...  \n",
              "886    False\n",
              "887     True\n",
              "888    False\n",
              "889    False\n",
              "890    False\n",
              "Length: 891, dtype: bool"
            ]
          },
          "metadata": {},
          "execution_count": 22
        }
      ]
    },
    {
      "cell_type": "code",
      "source": [
        "# 해당 데이터를 따로 뽑아내는 코드\n",
        "survived_m = data_train[(data_train.Survived==1) & (data_train.Sex=='male')]\n",
        "survived_f = data_train[(data_train.Survived==1) & (data_train.Sex=='female')]"
      ],
      "metadata": {
        "id": "LvT1KldzRaYm"
      },
      "execution_count": null,
      "outputs": []
    },
    {
      "cell_type": "code",
      "source": [
        "# 히스토그램 계산하여 표시. 구간 개수는 3으로 조정\n",
        "plt.hist([data_train['Pclass'], survived_m['Pclass'], survived_f['Pclass']], bins=3)\n",
        "\n",
        "plt.legend(['Total', 'Survived_m', 'Survived_f']) # 범례\n",
        "plt.xlabel('Pclass')                              # x축 레이블\n",
        "plt.xlabel('Number of People')                    # y축 레이블\n",
        "plt.xticks([1,2,3])                               # x축 눈금"
      ],
      "metadata": {
        "colab": {
          "base_uri": "https://localhost:8080/",
          "height": 523
        },
        "id": "uDEoXbgpRaVf",
        "outputId": "450b6ae0-0d1b-4b8e-9cca-693cfc089ea1"
      },
      "execution_count": null,
      "outputs": [
        {
          "output_type": "execute_result",
          "data": {
            "text/plain": [
              "([<matplotlib.axis.XTick at 0x7926c419aa40>,\n",
              "  <matplotlib.axis.XTick at 0x7926c419aa10>,\n",
              "  <matplotlib.axis.XTick at 0x7926c419a920>],\n",
              " [Text(1, 0, '1'), Text(2, 0, '2'), Text(3, 0, '3')])"
            ]
          },
          "metadata": {},
          "execution_count": 24
        },
        {
          "output_type": "display_data",
          "data": {
            "text/plain": [
              "<Figure size 640x480 with 1 Axes>"
            ],
            "image/png": "[encoded data removed]"
          },
          "metadata": {}
        }
      ]
    },
    {
      "cell_type": "code",
      "source": [
        "data_test = pd.read_csv('/content/gdrive/MyDrive/Colab Notebooks/titanic_data/test.csv')"
      ],
      "metadata": {
        "id": "2vJndhavToUM"
      },
      "execution_count": null,
      "outputs": []
    },
    {
      "cell_type": "code",
      "source": [
        "import numpy as np"
      ],
      "metadata": {
        "id": "a3zWGxMFVta9"
      },
      "execution_count": null,
      "outputs": []
    },
    {
      "cell_type": "code",
      "source": [
        "len(data_test)"
      ],
      "metadata": {
        "colab": {
          "base_uri": "https://localhost:8080/"
        },
        "id": "XCBJYyPAV2Q-",
        "outputId": "24b28c20-5ca7-47c8-f811-4a857bc532d9"
      },
      "execution_count": null,
      "outputs": [
        {
          "output_type": "execute_result",
          "data": {
            "text/plain": [
              "418"
            ]
          },
          "metadata": {},
          "execution_count": 27
        }
      ]
    },
    {
      "cell_type": "code",
      "source": [
        "# 결과 데이터 저장해둘 변수 answer\n",
        "answer = np.zeros((len(data_test),2))  # 418 x 2 행렬을 0으로 채우기\n",
        "answer[:,0] = data_test['PassengerId'] # 0열에 테스트셋의 PassengerID 입력\n",
        "\n"
      ],
      "metadata": {
        "id": "qGZOM_GvRaS8"
      },
      "execution_count": null,
      "outputs": []
    },
    {
      "cell_type": "code",
      "source": [
        "# 1등석 승객에 대한 답은 1(생존)로 설정\n",
        "answer[(data_test.Pclass==1),1] = 1;   # 1열에 생존여부 입력\n",
        "\n",
        "# 2등석 승객이면서 여성인 경우 1(생존)로 설정\n",
        "answer[(data_test.Pclass==2) & (data_test.Sex=='female'),1] = 1"
      ],
      "metadata": {
        "id": "OV50ge_fWHJL"
      },
      "execution_count": null,
      "outputs": []
    },
    {
      "cell_type": "code",
      "source": [
        "# 배열 answer를 DataFrame 형식으로 변환하고, df_frame 변수에 저장\n",
        "df_answer = pd.DataFrame(answer)\n",
        "df_answer.columns = ['PassengerID', 'Survived'] # 컬럼명 설정\n",
        "df_answer = df_answer.astype('int32') # 데이터를 정수형으로 형 변환\n",
        "\n",
        "# 결과를 csv 파일로 저장 (index 제외)\n",
        "df_answer.to_csv('/content/gdrive/MyDrive/Colab Notebooks/titanic_data/test_predict.csv', index=False)\n"
      ],
      "metadata": {
        "id": "kJF6MKcfRaQK"
      },
      "execution_count": null,
      "outputs": []
    },
    {
      "cell_type": "code",
      "source": [
        "# -c 대회이름 -f csv 파일 이름 -m 정답에 대한 간단한 설명\n",
        "!kaggle competitions submit -c titanic -f '/content/gdrive/MyDrive/Colab Notebooks/titanic_data/test_predict.csv' -m \"Yujin Jeon 1st submission\""
      ],
      "metadata": {
        "colab": {
          "base_uri": "https://localhost:8080/"
        },
        "id": "ihXBuzAMRaN1",
        "outputId": "4b96426b-c625-4333-cde7-ac5af7dc7151"
      },
      "execution_count": null,
      "outputs": [
        {
          "output_type": "stream",
          "name": "stdout",
          "text": [
            "Warning: Your Kaggle API key is readable by other users on this system! To fix this, you can run 'chmod 600 /root/.kaggle/kaggle.json'\n",
            "100% 2.77k/2.77k [00:04<00:00, 700B/s]  \n",
            "Successfully submitted to Titanic - Machine Learning from Disaster"
          ]
        }
      ]
    },
    {
      "cell_type": "markdown",
      "source": [
        "# 5.2 네트워크의 입력과 출력을 위한 데이터의 변환\n",
        "읽어온 data_train과 data_test 변수는 pandas 패키지의 DataFrame 형식으로 되어 있는데, 이를 딥러닝 모델에 사용하기 위해서는 numpy의 배열 형식으로 된 수치형 데이터로 변환해야 한다.\n",
        "\n",
        "## data_train\n",
        "'성별', '나이', '티켓등급', '형제,자매,배우자 수', '부모, 자녀 수'의 5개 항목.\n",
        "범주형 데이터 '성별'과 '티켓등급'을 원-핫-인코딩으로 변환 후 항목 수는 8개.  "
      ],
      "metadata": {
        "id": "Z_Gc4s-VymoC"
      }
    },
    {
      "cell_type": "code",
      "source": [
        "import numpy as np\n",
        "data_train_np = np.zeros([891,8])"
      ],
      "metadata": {
        "id": "odSJT2l2yu45"
      },
      "execution_count": null,
      "outputs": []
    },
    {
      "cell_type": "code",
      "source": [
        "data_train.shape"
      ],
      "metadata": {
        "colab": {
          "base_uri": "https://localhost:8080/"
        },
        "id": "P9Oe4NnnyvVh",
        "outputId": "52a0fd85-24c6-4199-c69a-c9d6c01f5111"
      },
      "execution_count": null,
      "outputs": [
        {
          "output_type": "execute_result",
          "data": {
            "text/plain": [
              "(891, 12)"
            ]
          },
          "metadata": {},
          "execution_count": 33
        }
      ]
    },
    {
      "cell_type": "code",
      "source": [
        "import numpy as np\n",
        "# data_train_np = np.zeros([891,8])\n",
        "data_train_np = np.zeros([data_train.shape[0],8]) # 원데이터의 항목 개수가 바뀌더라도 코드가 문제없이 실행되도록 shape의 0번째 인자값 사용"
      ],
      "metadata": {
        "id": "Lz3UK2AcyvSp"
      },
      "execution_count": null,
      "outputs": []
    },
    {
      "cell_type": "code",
      "source": [
        "data_train_np.shape"
      ],
      "metadata": {
        "colab": {
          "base_uri": "https://localhost:8080/"
        },
        "id": "oTy4dVaT2z3A",
        "outputId": "c1783cb1-7a3a-4a4b-b683-1ef932aee5a9"
      },
      "execution_count": null,
      "outputs": [
        {
          "output_type": "execute_result",
          "data": {
            "text/plain": [
              "(891, 8)"
            ]
          },
          "metadata": {},
          "execution_count": 35
        }
      ]
    },
    {
      "cell_type": "code",
      "source": [
        "# 성별 데이터 수치화\n",
        "# 0 으로 초기화된 배열 만들고, for 반복문을 사용 'female'인 경우 1로 바꿈.\n",
        "cnt = 0\n",
        "sex_num = np.zeros(data_train_np.shape[0]) # == np.zeros(891) 891개 행의 배열과 같음\n",
        "\n",
        "# cnt를 인덱스, d를 값으로 하는 Sex 열을 훑는 반복문\n",
        "for d in data_train['Sex']:       # Sex 열의 모든 행(891 개) 훑기\n",
        "  if (d == 'female'):             # 행 값이 female 이면\n",
        "    sex_num[cnt] = 1              # sex_num[0]에 1 입력\n",
        "    cnt = cnt+1                   # 다음 인덱스(cnt+1) 행으로"
      ],
      "metadata": {
        "id": "nqULPvNHyvPx"
      },
      "execution_count": null,
      "outputs": []
    },
    {
      "cell_type": "code",
      "source": [
        "sex_num"
      ],
      "metadata": {
        "colab": {
          "base_uri": "https://localhost:8080/"
        },
        "id": "FriurZ_vyvNR",
        "outputId": "72fd571c-e83b-4f8d-d135-184f90907de7"
      },
      "execution_count": null,
      "outputs": [
        {
          "output_type": "execute_result",
          "data": {
            "text/plain": [
              "array([1., 1., 1., 1., 1., 1., 1., 1., 1., 1., 1., 1., 1., 1., 1., 1., 1.,\n",
              "       1., 1., 1., 1., 1., 1., 1., 1., 1., 1., 1., 1., 1., 1., 1., 1., 1.,\n",
              "       1., 1., 1., 1., 1., 1., 1., 1., 1., 1., 1., 1., 1., 1., 1., 1., 1.,\n",
              "       1., 1., 1., 1., 1., 1., 1., 1., 1., 1., 1., 1., 1., 1., 1., 1., 1.,\n",
              "       1., 1., 1., 1., 1., 1., 1., 1., 1., 1., 1., 1., 1., 1., 1., 1., 1.,\n",
              "       1., 1., 1., 1., 1., 1., 1., 1., 1., 1., 1., 1., 1., 1., 1., 1., 1.,\n",
              "       1., 1., 1., 1., 1., 1., 1., 1., 1., 1., 1., 1., 1., 1., 1., 1., 1.,\n",
              "       1., 1., 1., 1., 1., 1., 1., 1., 1., 1., 1., 1., 1., 1., 1., 1., 1.,\n",
              "       1., 1., 1., 1., 1., 1., 1., 1., 1., 1., 1., 1., 1., 1., 1., 1., 1.,\n",
              "       1., 1., 1., 1., 1., 1., 1., 1., 1., 1., 1., 1., 1., 1., 1., 1., 1.,\n",
              "       1., 1., 1., 1., 1., 1., 1., 1., 1., 1., 1., 1., 1., 1., 1., 1., 1.,\n",
              "       1., 1., 1., 1., 1., 1., 1., 1., 1., 1., 1., 1., 1., 1., 1., 1., 1.,\n",
              "       1., 1., 1., 1., 1., 1., 1., 1., 1., 1., 1., 1., 1., 1., 1., 1., 1.,\n",
              "       1., 1., 1., 1., 1., 1., 1., 1., 1., 1., 1., 1., 1., 1., 1., 1., 1.,\n",
              "       1., 1., 1., 1., 1., 1., 1., 1., 1., 1., 1., 1., 1., 1., 1., 1., 1.,\n",
              "       1., 1., 1., 1., 1., 1., 1., 1., 1., 1., 1., 1., 1., 1., 1., 1., 1.,\n",
              "       1., 1., 1., 1., 1., 1., 1., 1., 1., 1., 1., 1., 1., 1., 1., 1., 1.,\n",
              "       1., 1., 1., 1., 1., 1., 1., 1., 1., 1., 1., 1., 1., 1., 1., 1., 1.,\n",
              "       1., 1., 1., 1., 1., 1., 1., 1., 0., 0., 0., 0., 0., 0., 0., 0., 0.,\n",
              "       0., 0., 0., 0., 0., 0., 0., 0., 0., 0., 0., 0., 0., 0., 0., 0., 0.,\n",
              "       0., 0., 0., 0., 0., 0., 0., 0., 0., 0., 0., 0., 0., 0., 0., 0., 0.,\n",
              "       0., 0., 0., 0., 0., 0., 0., 0., 0., 0., 0., 0., 0., 0., 0., 0., 0.,\n",
              "       0., 0., 0., 0., 0., 0., 0., 0., 0., 0., 0., 0., 0., 0., 0., 0., 0.,\n",
              "       0., 0., 0., 0., 0., 0., 0., 0., 0., 0., 0., 0., 0., 0., 0., 0., 0.,\n",
              "       0., 0., 0., 0., 0., 0., 0., 0., 0., 0., 0., 0., 0., 0., 0., 0., 0.,\n",
              "       0., 0., 0., 0., 0., 0., 0., 0., 0., 0., 0., 0., 0., 0., 0., 0., 0.,\n",
              "       0., 0., 0., 0., 0., 0., 0., 0., 0., 0., 0., 0., 0., 0., 0., 0., 0.,\n",
              "       0., 0., 0., 0., 0., 0., 0., 0., 0., 0., 0., 0., 0., 0., 0., 0., 0.,\n",
              "       0., 0., 0., 0., 0., 0., 0., 0., 0., 0., 0., 0., 0., 0., 0., 0., 0.,\n",
              "       0., 0., 0., 0., 0., 0., 0., 0., 0., 0., 0., 0., 0., 0., 0., 0., 0.,\n",
              "       0., 0., 0., 0., 0., 0., 0., 0., 0., 0., 0., 0., 0., 0., 0., 0., 0.,\n",
              "       0., 0., 0., 0., 0., 0., 0., 0., 0., 0., 0., 0., 0., 0., 0., 0., 0.,\n",
              "       0., 0., 0., 0., 0., 0., 0., 0., 0., 0., 0., 0., 0., 0., 0., 0., 0.,\n",
              "       0., 0., 0., 0., 0., 0., 0., 0., 0., 0., 0., 0., 0., 0., 0., 0., 0.,\n",
              "       0., 0., 0., 0., 0., 0., 0., 0., 0., 0., 0., 0., 0., 0., 0., 0., 0.,\n",
              "       0., 0., 0., 0., 0., 0., 0., 0., 0., 0., 0., 0., 0., 0., 0., 0., 0.,\n",
              "       0., 0., 0., 0., 0., 0., 0., 0., 0., 0., 0., 0., 0., 0., 0., 0., 0.,\n",
              "       0., 0., 0., 0., 0., 0., 0., 0., 0., 0., 0., 0., 0., 0., 0., 0., 0.,\n",
              "       0., 0., 0., 0., 0., 0., 0., 0., 0., 0., 0., 0., 0., 0., 0., 0., 0.,\n",
              "       0., 0., 0., 0., 0., 0., 0., 0., 0., 0., 0., 0., 0., 0., 0., 0., 0.,\n",
              "       0., 0., 0., 0., 0., 0., 0., 0., 0., 0., 0., 0., 0., 0., 0., 0., 0.,\n",
              "       0., 0., 0., 0., 0., 0., 0., 0., 0., 0., 0., 0., 0., 0., 0., 0., 0.,\n",
              "       0., 0., 0., 0., 0., 0., 0., 0., 0., 0., 0., 0., 0., 0., 0., 0., 0.,\n",
              "       0., 0., 0., 0., 0., 0., 0., 0., 0., 0., 0., 0., 0., 0., 0., 0., 0.,\n",
              "       0., 0., 0., 0., 0., 0., 0., 0., 0., 0., 0., 0., 0., 0., 0., 0., 0.,\n",
              "       0., 0., 0., 0., 0., 0., 0., 0., 0., 0., 0., 0., 0., 0., 0., 0., 0.,\n",
              "       0., 0., 0., 0., 0., 0., 0., 0., 0., 0., 0., 0., 0., 0., 0., 0., 0.,\n",
              "       0., 0., 0., 0., 0., 0., 0., 0., 0., 0., 0., 0., 0., 0., 0., 0., 0.,\n",
              "       0., 0., 0., 0., 0., 0., 0., 0., 0., 0., 0., 0., 0., 0., 0., 0., 0.,\n",
              "       0., 0., 0., 0., 0., 0., 0., 0., 0., 0., 0., 0., 0., 0., 0., 0., 0.,\n",
              "       0., 0., 0., 0., 0., 0., 0., 0., 0., 0., 0., 0., 0., 0., 0., 0., 0.,\n",
              "       0., 0., 0., 0., 0., 0., 0., 0., 0., 0., 0., 0., 0., 0., 0., 0., 0.,\n",
              "       0., 0., 0., 0., 0., 0., 0.])"
            ]
          },
          "metadata": {},
          "execution_count": 37
        }
      ]
    },
    {
      "cell_type": "code",
      "source": [
        "# 성별 데이터를 one-hot-encoding\n",
        "\n",
        "from tensorflow.keras.utils import to_categorical\n",
        "\n",
        "data_train_np[:,0:2] = to_categorical(sex_num)  # one-hot-encoding 적용: 0열과 1열에 성별 정보 입력 (0열에 1은 남자, 1열에 1은 여자)\n",
        "# data_train_np = np.zeros([891,8])\n",
        "data_train_np"
      ],
      "metadata": {
        "id": "PiNKRFskyvKK",
        "colab": {
          "base_uri": "https://localhost:8080/"
        },
        "outputId": "3933fc03-77fd-456d-ebc6-66113b044ffa"
      },
      "execution_count": null,
      "outputs": [
        {
          "output_type": "execute_result",
          "data": {
            "text/plain": [
              "array([[0., 1., 0., ..., 0., 0., 0.],\n",
              "       [0., 1., 0., ..., 0., 0., 0.],\n",
              "       [0., 1., 0., ..., 0., 0., 0.],\n",
              "       ...,\n",
              "       [1., 0., 0., ..., 0., 0., 0.],\n",
              "       [1., 0., 0., ..., 0., 0., 0.],\n",
              "       [1., 0., 0., ..., 0., 0., 0.]])"
            ]
          },
          "metadata": {},
          "execution_count": 38
        }
      ]
    },
    {
      "cell_type": "code",
      "source": [
        "# 0,1열에 성별데이터\n",
        "data_train_np[:,0:2]"
      ],
      "metadata": {
        "id": "FCQPEG0IyvGz",
        "colab": {
          "base_uri": "https://localhost:8080/"
        },
        "outputId": "840ace15-5ebb-46e4-8d18-fa8be28e78d7"
      },
      "execution_count": null,
      "outputs": [
        {
          "output_type": "execute_result",
          "data": {
            "text/plain": [
              "array([[0., 1.],\n",
              "       [0., 1.],\n",
              "       [0., 1.],\n",
              "       ...,\n",
              "       [1., 0.],\n",
              "       [1., 0.],\n",
              "       [1., 0.]])"
            ]
          },
          "metadata": {},
          "execution_count": 39
        }
      ]
    },
    {
      "cell_type": "code",
      "source": [
        "# 객실 등급 데이터를 one-hot-encoding\n",
        "data_train_np[:,2:5] = to_categorical(data_train['Pclass'].to_numpy()-1)\n",
        "data_train_np[:,2:5]"
      ],
      "metadata": {
        "colab": {
          "base_uri": "https://localhost:8080/"
        },
        "id": "Y2mfsedgr2oh",
        "outputId": "c5c9008b-69d1-4058-e4ba-14b04b1a1ec0"
      },
      "execution_count": null,
      "outputs": [
        {
          "output_type": "execute_result",
          "data": {
            "text/plain": [
              "array([[0., 0., 1.],\n",
              "       [1., 0., 0.],\n",
              "       [0., 0., 1.],\n",
              "       ...,\n",
              "       [0., 0., 1.],\n",
              "       [1., 0., 0.],\n",
              "       [0., 0., 1.]])"
            ]
          },
          "metadata": {},
          "execution_count": 40
        }
      ]
    },
    {
      "cell_type": "code",
      "source": [
        "# 나이, 형제/배우자 수, 부모/자녀 수 정규화: 수치형 데이터 0과 1사이 값으로 변환\n",
        "\n",
        "# 5열에 연령 데이터\n",
        "data_train_np[:,5] = data_train['Age']/80     # 최댓값(추정) 80\n",
        "\n",
        "# 6열에 형제자매배우자 데이터\n",
        "data_train_np[:,6] = data_train['SibSp']/10   # 최댓값(추정) 10\n",
        "\n",
        "# 7열에 부모자녀 데이터\n",
        "data_train_np[:,7] = data_train['Parch']/10   # # 최댓값(추정) 10"
      ],
      "metadata": {
        "id": "Rls2P-Uhyu-B"
      },
      "execution_count": null,
      "outputs": []
    },
    {
      "cell_type": "code",
      "source": [
        "# 5번 데이터 찍어보기\n",
        "print(data_train_np[5,:])\n",
        "\n",
        "# Male, Female, Pclass 1, Pclass 2,  Pclass 3, Age, SibSp, Parch"
      ],
      "metadata": {
        "colab": {
          "base_uri": "https://localhost:8080/"
        },
        "id": "21RiJWegh6eD",
        "outputId": "d787de66-90f9-4dd2-f4c9-09d113a7e746"
      },
      "execution_count": null,
      "outputs": [
        {
          "output_type": "stream",
          "name": "stdout",
          "text": [
            "[ 0.  1.  0.  0.  1. nan  0.  0.]\n"
          ]
        }
      ]
    },
    {
      "cell_type": "code",
      "source": [
        "# 결측치 처리 - age의 nan을 학습데이터의 평균 30으로 바꿈\n",
        "data_train_np[np.isnan(data_train_np)] = 30/80\n",
        "\n",
        "print(data_train_np[5,:])"
      ],
      "metadata": {
        "id": "79nksRglh6bM",
        "colab": {
          "base_uri": "https://localhost:8080/"
        },
        "outputId": "a53a22c0-8a0f-42fc-85c5-a7e0221d3526"
      },
      "execution_count": null,
      "outputs": [
        {
          "output_type": "stream",
          "name": "stdout",
          "text": [
            "[0.    1.    0.    0.    1.    0.375 0.    0.   ]\n"
          ]
        }
      ]
    },
    {
      "cell_type": "code",
      "source": [
        "data_train['Survived']"
      ],
      "metadata": {
        "colab": {
          "base_uri": "https://localhost:8080/"
        },
        "id": "NWOitqbkrMcA",
        "outputId": "a3c36ef6-f896-4462-d484-66455ee557eb"
      },
      "execution_count": null,
      "outputs": [
        {
          "output_type": "execute_result",
          "data": {
            "text/plain": [
              "0      0\n",
              "1      1\n",
              "2      1\n",
              "3      1\n",
              "4      0\n",
              "      ..\n",
              "886    0\n",
              "887    1\n",
              "888    0\n",
              "889    1\n",
              "890    0\n",
              "Name: Survived, Length: 891, dtype: int64"
            ]
          },
          "metadata": {},
          "execution_count": 44
        }
      ]
    },
    {
      "cell_type": "code",
      "source": [
        "data_train['Survived'].unique()"
      ],
      "metadata": {
        "colab": {
          "base_uri": "https://localhost:8080/"
        },
        "id": "kkH0SW6arPgu",
        "outputId": "8b0c38c7-55df-4165-d773-878a3b680754"
      },
      "execution_count": null,
      "outputs": [
        {
          "output_type": "execute_result",
          "data": {
            "text/plain": [
              "array([0, 1])"
            ]
          },
          "metadata": {},
          "execution_count": 45
        }
      ]
    },
    {
      "cell_type": "code",
      "source": [
        "# 정답 데이터(생존여부)도 one-hot-encoding\n",
        "data_train_np_y = to_categorical(data_train['Survived'])"
      ],
      "metadata": {
        "id": "qVR5l5v1h6YT"
      },
      "execution_count": null,
      "outputs": []
    },
    {
      "cell_type": "code",
      "source": [
        "data_train['Survived'].unique()"
      ],
      "metadata": {
        "id": "K24czHZUh6Vs",
        "colab": {
          "base_uri": "https://localhost:8080/"
        },
        "outputId": "bc3bcd06-018d-474c-c434-331b6b9102d7"
      },
      "execution_count": null,
      "outputs": [
        {
          "output_type": "execute_result",
          "data": {
            "text/plain": [
              "array([0, 1])"
            ]
          },
          "metadata": {},
          "execution_count": 47
        }
      ]
    },
    {
      "cell_type": "markdown",
      "source": [
        "## data_test\n",
        "'성별', '나이', '티켓등급', '형제,자매,배우자 수', '부모, 자녀 수'의 5개 항목. 범주형 데이터 '성별'과 '티켓등급'을 원-핫-인코딩으로 변환 후 항목 수는 8개."
      ],
      "metadata": {
        "id": "7nMtzllFszY5"
      }
    },
    {
      "cell_type": "code",
      "source": [
        "from tensorflow.keras.utils import to_categorical\n",
        "import numpy as np\n",
        "\n",
        "# 테스트 데이터 행의 갯수shape\n",
        "data_test.shape"
      ],
      "metadata": {
        "id": "iqG6Aa9Fh6TW",
        "colab": {
          "base_uri": "https://localhost:8080/"
        },
        "outputId": "43840f75-f272-4dd5-b843-ae8c44cf6e3c"
      },
      "execution_count": null,
      "outputs": [
        {
          "output_type": "execute_result",
          "data": {
            "text/plain": [
              "(418, 11)"
            ]
          },
          "metadata": {},
          "execution_count": 48
        }
      ]
    },
    {
      "cell_type": "code",
      "source": [
        "# 비어있는 numpy 배열 생성\n",
        "data_test_np = np.zeros([data_test.shape[0],8])\n",
        "data_test_np"
      ],
      "metadata": {
        "id": "_tERs5RHh6N1",
        "colab": {
          "base_uri": "https://localhost:8080/"
        },
        "outputId": "4df86f94-e01a-4bb9-ab9c-a14799c526df"
      },
      "execution_count": null,
      "outputs": [
        {
          "output_type": "execute_result",
          "data": {
            "text/plain": [
              "array([[0., 0., 0., ..., 0., 0., 0.],\n",
              "       [0., 0., 0., ..., 0., 0., 0.],\n",
              "       [0., 0., 0., ..., 0., 0., 0.],\n",
              "       ...,\n",
              "       [0., 0., 0., ..., 0., 0., 0.],\n",
              "       [0., 0., 0., ..., 0., 0., 0.],\n",
              "       [0., 0., 0., ..., 0., 0., 0.]])"
            ]
          },
          "metadata": {},
          "execution_count": 49
        }
      ]
    },
    {
      "cell_type": "code",
      "source": [
        "data_test_np.shape"
      ],
      "metadata": {
        "colab": {
          "base_uri": "https://localhost:8080/"
        },
        "id": "5wOXHn5YoXf2",
        "outputId": "8439b6b3-531b-4764-dc24-f7991c5654b4"
      },
      "execution_count": null,
      "outputs": [
        {
          "output_type": "execute_result",
          "data": {
            "text/plain": [
              "(418, 8)"
            ]
          },
          "metadata": {},
          "execution_count": 50
        }
      ]
    },
    {
      "cell_type": "code",
      "source": [
        "data_test.head"
      ],
      "metadata": {
        "colab": {
          "base_uri": "https://localhost:8080/"
        },
        "id": "BY6vuOPQ6NUc",
        "outputId": "3de0c35c-678b-4843-9149-e1b80284a54d"
      },
      "execution_count": null,
      "outputs": [
        {
          "output_type": "execute_result",
          "data": {
            "text/plain": [
              "<bound method NDFrame.head of      PassengerId  Pclass                                          Name  \\\n",
              "0            892       3                              Kelly, Mr. James   \n",
              "1            893       3              Wilkes, Mrs. James (Ellen Needs)   \n",
              "2            894       2                     Myles, Mr. Thomas Francis   \n",
              "3            895       3                              Wirz, Mr. Albert   \n",
              "4            896       3  Hirvonen, Mrs. Alexander (Helga E Lindqvist)   \n",
              "..           ...     ...                                           ...   \n",
              "413         1305       3                            Spector, Mr. Woolf   \n",
              "414         1306       1                  Oliva y Ocana, Dona. Fermina   \n",
              "415         1307       3                  Saether, Mr. Simon Sivertsen   \n",
              "416         1308       3                           Ware, Mr. Frederick   \n",
              "417         1309       3                      Peter, Master. Michael J   \n",
              "\n",
              "        Sex   Age  SibSp  Parch              Ticket      Fare Cabin Embarked  \n",
              "0      male  34.5      0      0              330911    7.8292   NaN        Q  \n",
              "1    female  47.0      1      0              363272    7.0000   NaN        S  \n",
              "2      male  62.0      0      0              240276    9.6875   NaN        Q  \n",
              "3      male  27.0      0      0              315154    8.6625   NaN        S  \n",
              "4    female  22.0      1      1             3101298   12.2875   NaN        S  \n",
              "..      ...   ...    ...    ...                 ...       ...   ...      ...  \n",
              "413    male   NaN      0      0           A.5. 3236    8.0500   NaN        S  \n",
              "414  female  39.0      0      0            PC 17758  108.9000  C105        C  \n",
              "415    male  38.5      0      0  SOTON/O.Q. 3101262    7.2500   NaN        S  \n",
              "416    male   NaN      0      0              359309    8.0500   NaN        S  \n",
              "417    male   NaN      1      1                2668   22.3583   NaN        C  \n",
              "\n",
              "[418 rows x 11 columns]>"
            ]
          },
          "metadata": {},
          "execution_count": 51
        }
      ]
    },
    {
      "cell_type": "code",
      "source": [
        "# 성별 데이터를 원-핫 인코딩\n",
        "cnt = 0\n",
        "sex_num = np.zeros(data_test_np.shape[0])\n",
        "\n",
        "for d in data_test['Sex']:       # Sex 열의 모든 행(418 개) 훑기\n",
        "  if (d == 'female'):             # 행 값이 female 이면\n",
        "    sex_num[cnt] = 1              # sex_num[0]에 1 입력\n",
        "    cnt = cnt+1\n",
        "\n",
        "data_test_np[:,0:2] = to_categorical(sex_num)\n",
        "data_test_np[:,0:2]"
      ],
      "metadata": {
        "colab": {
          "base_uri": "https://localhost:8080/"
        },
        "id": "5WT31-GT5iVI",
        "outputId": "1abfcf2a-8ff8-4d43-d52b-73d26438e854"
      },
      "execution_count": null,
      "outputs": [
        {
          "output_type": "execute_result",
          "data": {
            "text/plain": [
              "array([[0., 1.],\n",
              "       [0., 1.],\n",
              "       [0., 1.],\n",
              "       [0., 1.],\n",
              "       [0., 1.],\n",
              "       [0., 1.],\n",
              "       [0., 1.],\n",
              "       [0., 1.],\n",
              "       [0., 1.],\n",
              "       [0., 1.],\n",
              "       [0., 1.],\n",
              "       [0., 1.],\n",
              "       [0., 1.],\n",
              "       [0., 1.],\n",
              "       [0., 1.],\n",
              "       [0., 1.],\n",
              "       [0., 1.],\n",
              "       [0., 1.],\n",
              "       [0., 1.],\n",
              "       [0., 1.],\n",
              "       [0., 1.],\n",
              "       [0., 1.],\n",
              "       [0., 1.],\n",
              "       [0., 1.],\n",
              "       [0., 1.],\n",
              "       [0., 1.],\n",
              "       [0., 1.],\n",
              "       [0., 1.],\n",
              "       [0., 1.],\n",
              "       [0., 1.],\n",
              "       [0., 1.],\n",
              "       [0., 1.],\n",
              "       [0., 1.],\n",
              "       [0., 1.],\n",
              "       [0., 1.],\n",
              "       [0., 1.],\n",
              "       [0., 1.],\n",
              "       [0., 1.],\n",
              "       [0., 1.],\n",
              "       [0., 1.],\n",
              "       [0., 1.],\n",
              "       [0., 1.],\n",
              "       [0., 1.],\n",
              "       [0., 1.],\n",
              "       [0., 1.],\n",
              "       [0., 1.],\n",
              "       [0., 1.],\n",
              "       [0., 1.],\n",
              "       [0., 1.],\n",
              "       [0., 1.],\n",
              "       [0., 1.],\n",
              "       [0., 1.],\n",
              "       [0., 1.],\n",
              "       [0., 1.],\n",
              "       [0., 1.],\n",
              "       [0., 1.],\n",
              "       [0., 1.],\n",
              "       [0., 1.],\n",
              "       [0., 1.],\n",
              "       [0., 1.],\n",
              "       [0., 1.],\n",
              "       [0., 1.],\n",
              "       [0., 1.],\n",
              "       [0., 1.],\n",
              "       [0., 1.],\n",
              "       [0., 1.],\n",
              "       [0., 1.],\n",
              "       [0., 1.],\n",
              "       [0., 1.],\n",
              "       [0., 1.],\n",
              "       [0., 1.],\n",
              "       [0., 1.],\n",
              "       [0., 1.],\n",
              "       [0., 1.],\n",
              "       [0., 1.],\n",
              "       [0., 1.],\n",
              "       [0., 1.],\n",
              "       [0., 1.],\n",
              "       [0., 1.],\n",
              "       [0., 1.],\n",
              "       [0., 1.],\n",
              "       [0., 1.],\n",
              "       [0., 1.],\n",
              "       [0., 1.],\n",
              "       [0., 1.],\n",
              "       [0., 1.],\n",
              "       [0., 1.],\n",
              "       [0., 1.],\n",
              "       [0., 1.],\n",
              "       [0., 1.],\n",
              "       [0., 1.],\n",
              "       [0., 1.],\n",
              "       [0., 1.],\n",
              "       [0., 1.],\n",
              "       [0., 1.],\n",
              "       [0., 1.],\n",
              "       [0., 1.],\n",
              "       [0., 1.],\n",
              "       [0., 1.],\n",
              "       [0., 1.],\n",
              "       [0., 1.],\n",
              "       [0., 1.],\n",
              "       [0., 1.],\n",
              "       [0., 1.],\n",
              "       [0., 1.],\n",
              "       [0., 1.],\n",
              "       [0., 1.],\n",
              "       [0., 1.],\n",
              "       [0., 1.],\n",
              "       [0., 1.],\n",
              "       [0., 1.],\n",
              "       [0., 1.],\n",
              "       [0., 1.],\n",
              "       [0., 1.],\n",
              "       [0., 1.],\n",
              "       [0., 1.],\n",
              "       [0., 1.],\n",
              "       [0., 1.],\n",
              "       [0., 1.],\n",
              "       [0., 1.],\n",
              "       [0., 1.],\n",
              "       [0., 1.],\n",
              "       [0., 1.],\n",
              "       [0., 1.],\n",
              "       [0., 1.],\n",
              "       [0., 1.],\n",
              "       [0., 1.],\n",
              "       [0., 1.],\n",
              "       [0., 1.],\n",
              "       [0., 1.],\n",
              "       [0., 1.],\n",
              "       [0., 1.],\n",
              "       [0., 1.],\n",
              "       [0., 1.],\n",
              "       [0., 1.],\n",
              "       [0., 1.],\n",
              "       [0., 1.],\n",
              "       [0., 1.],\n",
              "       [0., 1.],\n",
              "       [0., 1.],\n",
              "       [0., 1.],\n",
              "       [0., 1.],\n",
              "       [0., 1.],\n",
              "       [0., 1.],\n",
              "       [0., 1.],\n",
              "       [0., 1.],\n",
              "       [0., 1.],\n",
              "       [0., 1.],\n",
              "       [0., 1.],\n",
              "       [0., 1.],\n",
              "       [0., 1.],\n",
              "       [0., 1.],\n",
              "       [1., 0.],\n",
              "       [1., 0.],\n",
              "       [1., 0.],\n",
              "       [1., 0.],\n",
              "       [1., 0.],\n",
              "       [1., 0.],\n",
              "       [1., 0.],\n",
              "       [1., 0.],\n",
              "       [1., 0.],\n",
              "       [1., 0.],\n",
              "       [1., 0.],\n",
              "       [1., 0.],\n",
              "       [1., 0.],\n",
              "       [1., 0.],\n",
              "       [1., 0.],\n",
              "       [1., 0.],\n",
              "       [1., 0.],\n",
              "       [1., 0.],\n",
              "       [1., 0.],\n",
              "       [1., 0.],\n",
              "       [1., 0.],\n",
              "       [1., 0.],\n",
              "       [1., 0.],\n",
              "       [1., 0.],\n",
              "       [1., 0.],\n",
              "       [1., 0.],\n",
              "       [1., 0.],\n",
              "       [1., 0.],\n",
              "       [1., 0.],\n",
              "       [1., 0.],\n",
              "       [1., 0.],\n",
              "       [1., 0.],\n",
              "       [1., 0.],\n",
              "       [1., 0.],\n",
              "       [1., 0.],\n",
              "       [1., 0.],\n",
              "       [1., 0.],\n",
              "       [1., 0.],\n",
              "       [1., 0.],\n",
              "       [1., 0.],\n",
              "       [1., 0.],\n",
              "       [1., 0.],\n",
              "       [1., 0.],\n",
              "       [1., 0.],\n",
              "       [1., 0.],\n",
              "       [1., 0.],\n",
              "       [1., 0.],\n",
              "       [1., 0.],\n",
              "       [1., 0.],\n",
              "       [1., 0.],\n",
              "       [1., 0.],\n",
              "       [1., 0.],\n",
              "       [1., 0.],\n",
              "       [1., 0.],\n",
              "       [1., 0.],\n",
              "       [1., 0.],\n",
              "       [1., 0.],\n",
              "       [1., 0.],\n",
              "       [1., 0.],\n",
              "       [1., 0.],\n",
              "       [1., 0.],\n",
              "       [1., 0.],\n",
              "       [1., 0.],\n",
              "       [1., 0.],\n",
              "       [1., 0.],\n",
              "       [1., 0.],\n",
              "       [1., 0.],\n",
              "       [1., 0.],\n",
              "       [1., 0.],\n",
              "       [1., 0.],\n",
              "       [1., 0.],\n",
              "       [1., 0.],\n",
              "       [1., 0.],\n",
              "       [1., 0.],\n",
              "       [1., 0.],\n",
              "       [1., 0.],\n",
              "       [1., 0.],\n",
              "       [1., 0.],\n",
              "       [1., 0.],\n",
              "       [1., 0.],\n",
              "       [1., 0.],\n",
              "       [1., 0.],\n",
              "       [1., 0.],\n",
              "       [1., 0.],\n",
              "       [1., 0.],\n",
              "       [1., 0.],\n",
              "       [1., 0.],\n",
              "       [1., 0.],\n",
              "       [1., 0.],\n",
              "       [1., 0.],\n",
              "       [1., 0.],\n",
              "       [1., 0.],\n",
              "       [1., 0.],\n",
              "       [1., 0.],\n",
              "       [1., 0.],\n",
              "       [1., 0.],\n",
              "       [1., 0.],\n",
              "       [1., 0.],\n",
              "       [1., 0.],\n",
              "       [1., 0.],\n",
              "       [1., 0.],\n",
              "       [1., 0.],\n",
              "       [1., 0.],\n",
              "       [1., 0.],\n",
              "       [1., 0.],\n",
              "       [1., 0.],\n",
              "       [1., 0.],\n",
              "       [1., 0.],\n",
              "       [1., 0.],\n",
              "       [1., 0.],\n",
              "       [1., 0.],\n",
              "       [1., 0.],\n",
              "       [1., 0.],\n",
              "       [1., 0.],\n",
              "       [1., 0.],\n",
              "       [1., 0.],\n",
              "       [1., 0.],\n",
              "       [1., 0.],\n",
              "       [1., 0.],\n",
              "       [1., 0.],\n",
              "       [1., 0.],\n",
              "       [1., 0.],\n",
              "       [1., 0.],\n",
              "       [1., 0.],\n",
              "       [1., 0.],\n",
              "       [1., 0.],\n",
              "       [1., 0.],\n",
              "       [1., 0.],\n",
              "       [1., 0.],\n",
              "       [1., 0.],\n",
              "       [1., 0.],\n",
              "       [1., 0.],\n",
              "       [1., 0.],\n",
              "       [1., 0.],\n",
              "       [1., 0.],\n",
              "       [1., 0.],\n",
              "       [1., 0.],\n",
              "       [1., 0.],\n",
              "       [1., 0.],\n",
              "       [1., 0.],\n",
              "       [1., 0.],\n",
              "       [1., 0.],\n",
              "       [1., 0.],\n",
              "       [1., 0.],\n",
              "       [1., 0.],\n",
              "       [1., 0.],\n",
              "       [1., 0.],\n",
              "       [1., 0.],\n",
              "       [1., 0.],\n",
              "       [1., 0.],\n",
              "       [1., 0.],\n",
              "       [1., 0.],\n",
              "       [1., 0.],\n",
              "       [1., 0.],\n",
              "       [1., 0.],\n",
              "       [1., 0.],\n",
              "       [1., 0.],\n",
              "       [1., 0.],\n",
              "       [1., 0.],\n",
              "       [1., 0.],\n",
              "       [1., 0.],\n",
              "       [1., 0.],\n",
              "       [1., 0.],\n",
              "       [1., 0.],\n",
              "       [1., 0.],\n",
              "       [1., 0.],\n",
              "       [1., 0.],\n",
              "       [1., 0.],\n",
              "       [1., 0.],\n",
              "       [1., 0.],\n",
              "       [1., 0.],\n",
              "       [1., 0.],\n",
              "       [1., 0.],\n",
              "       [1., 0.],\n",
              "       [1., 0.],\n",
              "       [1., 0.],\n",
              "       [1., 0.],\n",
              "       [1., 0.],\n",
              "       [1., 0.],\n",
              "       [1., 0.],\n",
              "       [1., 0.],\n",
              "       [1., 0.],\n",
              "       [1., 0.],\n",
              "       [1., 0.],\n",
              "       [1., 0.],\n",
              "       [1., 0.],\n",
              "       [1., 0.],\n",
              "       [1., 0.],\n",
              "       [1., 0.],\n",
              "       [1., 0.],\n",
              "       [1., 0.],\n",
              "       [1., 0.],\n",
              "       [1., 0.],\n",
              "       [1., 0.],\n",
              "       [1., 0.],\n",
              "       [1., 0.],\n",
              "       [1., 0.],\n",
              "       [1., 0.],\n",
              "       [1., 0.],\n",
              "       [1., 0.],\n",
              "       [1., 0.],\n",
              "       [1., 0.],\n",
              "       [1., 0.],\n",
              "       [1., 0.],\n",
              "       [1., 0.],\n",
              "       [1., 0.],\n",
              "       [1., 0.],\n",
              "       [1., 0.],\n",
              "       [1., 0.],\n",
              "       [1., 0.],\n",
              "       [1., 0.],\n",
              "       [1., 0.],\n",
              "       [1., 0.],\n",
              "       [1., 0.],\n",
              "       [1., 0.],\n",
              "       [1., 0.],\n",
              "       [1., 0.],\n",
              "       [1., 0.],\n",
              "       [1., 0.],\n",
              "       [1., 0.],\n",
              "       [1., 0.],\n",
              "       [1., 0.],\n",
              "       [1., 0.],\n",
              "       [1., 0.],\n",
              "       [1., 0.],\n",
              "       [1., 0.],\n",
              "       [1., 0.],\n",
              "       [1., 0.],\n",
              "       [1., 0.],\n",
              "       [1., 0.],\n",
              "       [1., 0.],\n",
              "       [1., 0.],\n",
              "       [1., 0.],\n",
              "       [1., 0.],\n",
              "       [1., 0.],\n",
              "       [1., 0.],\n",
              "       [1., 0.],\n",
              "       [1., 0.],\n",
              "       [1., 0.],\n",
              "       [1., 0.],\n",
              "       [1., 0.],\n",
              "       [1., 0.],\n",
              "       [1., 0.],\n",
              "       [1., 0.],\n",
              "       [1., 0.],\n",
              "       [1., 0.],\n",
              "       [1., 0.],\n",
              "       [1., 0.],\n",
              "       [1., 0.],\n",
              "       [1., 0.],\n",
              "       [1., 0.],\n",
              "       [1., 0.],\n",
              "       [1., 0.],\n",
              "       [1., 0.],\n",
              "       [1., 0.],\n",
              "       [1., 0.],\n",
              "       [1., 0.],\n",
              "       [1., 0.],\n",
              "       [1., 0.],\n",
              "       [1., 0.],\n",
              "       [1., 0.],\n",
              "       [1., 0.],\n",
              "       [1., 0.],\n",
              "       [1., 0.],\n",
              "       [1., 0.],\n",
              "       [1., 0.]])"
            ]
          },
          "metadata": {},
          "execution_count": 52
        }
      ]
    },
    {
      "cell_type": "code",
      "source": [
        "# 객실 등급 데이터를 원-핫 인코딩\n",
        "data_test_np[:,2:5] = to_categorical(data_test['Pclass'].to_numpy()-1)\n",
        "data_test_np[:,2:5]"
      ],
      "metadata": {
        "colab": {
          "base_uri": "https://localhost:8080/"
        },
        "id": "f4qgME0E5iRl",
        "outputId": "94cac910-fec8-48b8-d6f7-f9624cc24b57"
      },
      "execution_count": null,
      "outputs": [
        {
          "output_type": "execute_result",
          "data": {
            "text/plain": [
              "array([[0., 0., 1.],\n",
              "       [0., 0., 1.],\n",
              "       [0., 1., 0.],\n",
              "       ...,\n",
              "       [0., 0., 1.],\n",
              "       [0., 0., 1.],\n",
              "       [0., 0., 1.]])"
            ]
          },
          "metadata": {},
          "execution_count": 53
        }
      ]
    },
    {
      "cell_type": "code",
      "source": [
        "# 나이, 형제/자매/배우자 수, 부모/자녀 수 정규화\n",
        "data_test_np[:,5] = data_test['Age']/80\n",
        "data_test_np[:,6] = data_test['SibSp']/10\n",
        "data_test_np[:,7] = data_test['Parch']/10"
      ],
      "metadata": {
        "id": "uJWOfeSK5iO9"
      },
      "execution_count": null,
      "outputs": []
    },
    {
      "cell_type": "code",
      "source": [
        "# nan값의 처리\n",
        "\n",
        "# 결측치가 있는 행 찾기\n",
        "rows_with_nan = np.any(np.isnan(data_test_np), axis=1)\n",
        "print(data_test_np[rows_with_nan])\n",
        "\n",
        "# Male, Female, Pclass 1, Pclass 2,  Pclass 3, Age, SibSp, Parch\n",
        "# Age열만 결측치 포함"
      ],
      "metadata": {
        "colab": {
          "base_uri": "https://localhost:8080/"
        },
        "id": "lBnwLujS5iMW",
        "outputId": "b1d3de18-c418-4872-fb51-f8f711ccff5b"
      },
      "execution_count": null,
      "outputs": [
        {
          "output_type": "stream",
          "name": "stdout",
          "text": [
            "[[0.  1.  0.  0.  1.  nan 0.  0. ]\n",
            " [0.  1.  1.  0.  0.  nan 0.  0. ]\n",
            " [0.  1.  0.  0.  1.  nan 0.2 0. ]\n",
            " [0.  1.  0.  0.  1.  nan 0.1 0.2]\n",
            " [0.  1.  0.  0.  1.  nan 0.  0. ]\n",
            " [0.  1.  0.  0.  1.  nan 0.  0. ]\n",
            " [0.  1.  1.  0.  0.  nan 0.  0. ]\n",
            " [0.  1.  0.  0.  1.  nan 0.  0. ]\n",
            " [0.  1.  0.  1.  0.  nan 0.  0. ]\n",
            " [0.  1.  0.  0.  1.  nan 0.1 0. ]\n",
            " [0.  1.  0.  1.  0.  nan 0.  0. ]\n",
            " [0.  1.  0.  0.  1.  nan 0.  0. ]\n",
            " [0.  1.  0.  0.  1.  nan 0.  0. ]\n",
            " [0.  1.  0.  1.  0.  nan 0.  0. ]\n",
            " [0.  1.  0.  0.  1.  nan 0.1 0. ]\n",
            " [0.  1.  0.  0.  1.  nan 0.  0. ]\n",
            " [0.  1.  0.  0.  1.  nan 0.  0. ]\n",
            " [0.  1.  0.  0.  1.  nan 0.  0. ]\n",
            " [0.  1.  0.  0.  1.  nan 0.  0. ]\n",
            " [0.  1.  0.  0.  1.  nan 0.  0. ]\n",
            " [0.  1.  0.  0.  1.  nan 0.  0. ]\n",
            " [0.  1.  0.  0.  1.  nan 0.  0. ]\n",
            " [0.  1.  0.  0.  1.  nan 0.  0. ]\n",
            " [0.  1.  0.  0.  1.  nan 0.1 0. ]\n",
            " [0.  1.  0.  0.  1.  nan 0.  0. ]\n",
            " [0.  1.  0.  0.  1.  nan 0.2 0. ]\n",
            " [0.  1.  0.  0.  1.  nan 0.  0.4]\n",
            " [0.  1.  0.  0.  1.  nan 0.1 0. ]\n",
            " [0.  1.  1.  0.  0.  nan 0.  0. ]\n",
            " [0.  1.  1.  0.  0.  nan 0.  0. ]\n",
            " [0.  1.  0.  0.  1.  nan 0.  0. ]\n",
            " [1.  0.  0.  0.  1.  nan 0.  0. ]\n",
            " [1.  0.  0.  0.  1.  nan 0.  0. ]\n",
            " [1.  0.  1.  0.  0.  nan 0.  0. ]\n",
            " [1.  0.  0.  0.  1.  nan 0.  0. ]\n",
            " [1.  0.  0.  0.  1.  nan 0.  0. ]\n",
            " [1.  0.  0.  0.  1.  nan 0.  0. ]\n",
            " [1.  0.  0.  0.  1.  nan 0.8 0.2]\n",
            " [1.  0.  1.  0.  0.  nan 0.  0. ]\n",
            " [1.  0.  0.  0.  1.  nan 0.  0. ]\n",
            " [1.  0.  0.  0.  1.  nan 0.  0. ]\n",
            " [1.  0.  1.  0.  0.  nan 0.  0. ]\n",
            " [1.  0.  0.  0.  1.  nan 0.  0. ]\n",
            " [1.  0.  0.  0.  1.  nan 0.  0. ]\n",
            " [1.  0.  0.  0.  1.  nan 0.  0. ]\n",
            " [1.  0.  0.  0.  1.  nan 0.  0.2]\n",
            " [1.  0.  0.  0.  1.  nan 0.  0. ]\n",
            " [1.  0.  0.  0.  1.  nan 0.  0. ]\n",
            " [1.  0.  0.  0.  1.  nan 0.  0. ]\n",
            " [1.  0.  0.  0.  1.  nan 0.1 0.2]\n",
            " [1.  0.  0.  0.  1.  nan 0.1 0. ]\n",
            " [1.  0.  0.  0.  1.  nan 0.  0. ]\n",
            " [1.  0.  0.  0.  1.  nan 0.  0. ]\n",
            " [1.  0.  0.  0.  1.  nan 0.  0. ]\n",
            " [1.  0.  1.  0.  0.  nan 0.  0. ]\n",
            " [1.  0.  0.  0.  1.  nan 0.  0. ]\n",
            " [1.  0.  0.  0.  1.  nan 0.  0. ]\n",
            " [1.  0.  0.  0.  1.  nan 0.  0. ]\n",
            " [1.  0.  0.  0.  1.  nan 0.1 0. ]\n",
            " [1.  0.  0.  0.  1.  nan 0.  0. ]\n",
            " [1.  0.  0.  0.  1.  nan 0.  0. ]\n",
            " [1.  0.  0.  0.  1.  nan 0.  0. ]\n",
            " [1.  0.  0.  0.  1.  nan 0.  0. ]\n",
            " [1.  0.  0.  0.  1.  nan 0.  0. ]\n",
            " [1.  0.  1.  0.  0.  nan 0.  0. ]\n",
            " [1.  0.  0.  0.  1.  nan 0.  0. ]\n",
            " [1.  0.  0.  0.  1.  nan 0.2 0. ]\n",
            " [1.  0.  0.  1.  0.  nan 0.  0. ]\n",
            " [1.  0.  0.  0.  1.  nan 0.  0. ]\n",
            " [1.  0.  0.  0.  1.  nan 0.  0. ]\n",
            " [1.  0.  0.  0.  1.  nan 0.  0. ]\n",
            " [1.  0.  0.  0.  1.  nan 0.  0. ]\n",
            " [1.  0.  0.  0.  1.  nan 0.1 0.9]\n",
            " [1.  0.  0.  0.  1.  nan 0.1 0.1]\n",
            " [1.  0.  0.  0.  1.  nan 0.  0. ]\n",
            " [1.  0.  0.  0.  1.  nan 0.  0. ]\n",
            " [1.  0.  0.  0.  1.  nan 0.1 0.9]\n",
            " [1.  0.  0.  0.  1.  nan 0.1 0. ]\n",
            " [1.  0.  0.  0.  1.  nan 0.  0. ]\n",
            " [1.  0.  0.  0.  1.  nan 0.  0. ]\n",
            " [1.  0.  0.  1.  0.  nan 0.  0. ]\n",
            " [1.  0.  0.  0.  1.  nan 0.  0. ]\n",
            " [1.  0.  0.  0.  1.  nan 0.  0. ]\n",
            " [1.  0.  0.  0.  1.  nan 0.  0. ]\n",
            " [1.  0.  0.  0.  1.  nan 0.  0. ]\n",
            " [1.  0.  0.  0.  1.  nan 0.1 0.1]]\n"
          ]
        }
      ]
    },
    {
      "cell_type": "code",
      "source": [
        "data_test_np[np.isnan(data_test_np)] = 30/80\n",
        "data_test_np"
      ],
      "metadata": {
        "colab": {
          "base_uri": "https://localhost:8080/"
        },
        "id": "mVeL76hz5iJm",
        "outputId": "2abcdd3c-bf7f-40ec-a134-d63ddcab7a01"
      },
      "execution_count": null,
      "outputs": [
        {
          "output_type": "execute_result",
          "data": {
            "text/plain": [
              "array([[0.     , 1.     , 0.     , ..., 0.43125, 0.     , 0.     ],\n",
              "       [0.     , 1.     , 0.     , ..., 0.5875 , 0.1    , 0.     ],\n",
              "       [0.     , 1.     , 0.     , ..., 0.775  , 0.     , 0.     ],\n",
              "       ...,\n",
              "       [1.     , 0.     , 0.     , ..., 0.48125, 0.     , 0.     ],\n",
              "       [1.     , 0.     , 0.     , ..., 0.375  , 0.     , 0.     ],\n",
              "       [1.     , 0.     , 0.     , ..., 0.375  , 0.1    , 0.1    ]])"
            ]
          },
          "metadata": {},
          "execution_count": 56
        }
      ]
    },
    {
      "cell_type": "markdown",
      "source": [
        "# 6.6 완전 연결층과 타이타닉 데이터"
      ],
      "metadata": {
        "id": "GipY2j1x8zX9"
      }
    },
    {
      "cell_type": "code",
      "source": [
        "# keras 라이브러리 가져오기 - 딥러닝 네트워크를 설계하는 코드\n",
        "from keras.models import Sequential # Sequential : 데이터가 한 방향으로 흐르는 딥러닝 기본 모델 구조\n",
        "from keras import layers\n",
        "from keras import optimizers"
      ],
      "metadata": {
        "id": "spjW29wo7nH1"
      },
      "execution_count": null,
      "outputs": []
    },
    {
      "cell_type": "code",
      "source": [
        "# Sequential 모델 구성\n",
        "model = Sequential()\n",
        "model.add(layers.Dense(units=8, activation='relu'))\n",
        "model.add(layers.Dense(units=16, activation='relu'))\n",
        "model.add(layers.Dense(units=32, activation='relu'))\n",
        "model.add(layers.Dense(units=64, activation='relu'))\n",
        "model.add(layers.Dense(units=2, activation='softmax'))\n",
        "\n",
        "'''\n",
        "Sequential : 데이터가 한 방향으로 흐르는 딥러닝 기본 모델 구조\n",
        "add 함수: 네트워크에 층을 쌓는 함수\n",
        "layers.Dense: 완전 연결층\n",
        "units: 노드의  수\n",
        "activation: 활성화 함수\n",
        "'''"
      ],
      "metadata": {
        "colab": {
          "base_uri": "https://localhost:8080/",
          "height": 35
        },
        "id": "jZWA3YPJ-Rbz",
        "outputId": "bfa6c88e-0c32-4158-8bfe-93dc5c26544a"
      },
      "execution_count": null,
      "outputs": [
        {
          "output_type": "execute_result",
          "data": {
            "text/plain": [
              "'\\nSequential : 데이터가 한 방향으로 흐르는 딥러닝 기본 모델 구조\\nadd 함수: 네트워크에 층을 쌓는 함수\\nlayers.Dense: 완전 연결층\\nunits: 노드의  수\\nactivation: 활성화 함수\\n'"
            ],
            "application/vnd.google.colaboratory.intrinsic+json": {
              "type": "string"
            }
          },
          "metadata": {},
          "execution_count": 58
        }
      ]
    },
    {
      "cell_type": "code",
      "source": [
        "from keras.utils import plot_model\n",
        "plot_model(model, show_shapes=True, dpi=80)"
      ],
      "metadata": {
        "colab": {
          "base_uri": "https://localhost:8080/",
          "height": 539
        },
        "id": "NeEzHqBJsDQk",
        "outputId": "27513f55-5ecd-4634-8bd7-63bbf16c1806"
      },
      "execution_count": null,
      "outputs": [
        {
          "output_type": "execute_result",
          "data": {
            "image/png": "[encoded data removed]",
            "text/plain": [
              "<IPython.core.display.Image object>"
            ]
          },
          "metadata": {},
          "execution_count": 64
        }
      ]
    },
    {
      "cell_type": "code",
      "source": [
        "# 이 모델의 디자인을 각 파라미터에 적용\n",
        "model.compile(loss='categorical_crossentropy', optimizer=optimizers.RMSprop(lr=0.001), metrics=['accuracy'])\n",
        "\n",
        "'''\n",
        "compile 함수: 모델의 디자인을 각 파라미터를 적용하여 사용할 수 있도록 만드는 함수. 손실함수, 최적화도구 등 학습에 필요한 요소들을 설정하여 학습 모델 구성.\n",
        "loss: 손실함수. 학습과정에서 최적화시켜야 할 손실함수 설정. 값이 적을수록 실제값과 예측값의\n",
        "optimizer: 최적화방법. 손실함수를 기반으로 네트워크가 어떻게 업데이트될지를 결정. SGD, RMSProp, Adagrad, Adadelta, Adam, Adamax, Nadam 등\n",
        "lr: Learning Rate 학습률\n",
        "metrics: 평가기준. 학습과정을 모니터하기 위함. 모델의 학습에는 영향을 미치지 않지만, 학습 과정 중에 제대로 학습되고 있는 지 살펴볼 수 있다.\n",
        "'''"
      ],
      "metadata": {
        "colab": {
          "base_uri": "https://localhost:8080/",
          "height": 72
        },
        "id": "ZGhAsPQt_cWR",
        "outputId": "ebb9e81c-bbcf-468f-e68c-b3ebd2892918"
      },
      "execution_count": null,
      "outputs": [
        {
          "output_type": "stream",
          "name": "stderr",
          "text": [
            "WARNING:absl:`lr` is deprecated in Keras optimizer, please use `learning_rate` or use the legacy optimizer, e.g.,tf.keras.optimizers.legacy.RMSprop.\n"
          ]
        },
        {
          "output_type": "execute_result",
          "data": {
            "text/plain": [
              "'\\ncompile 함수: 모델의 디자인을 각 파라미터를 적용하여 사용할 수 있도록 만드는 함수. 손실함수, 최적화도구 등 학습에 필요한 요소들을 설정하여 학습 모델 구성.\\n케라스에서 지원하는 optimizer: SGD, RMSProp, Adagrad, Adadelta, Adam, Adamax, Nadam 등\\nlr: Learning Rate 학습률\\nmetrics: 평가기준. 모델의 학습에는 영향을 미치지 않지만, 학습 과정 중에 제대로 학습되고 있는 지 살펴볼 수 있다.\\n'"
            ],
            "application/vnd.google.colaboratory.intrinsic+json": {
              "type": "string"
            }
          },
          "metadata": {},
          "execution_count": 62
        }
      ]
    },
    {
      "cell_type": "code",
      "source": [
        "# 학습 수행 - 훈련데이터 학습\n",
        "hist = model.fit(data_train_np, data_train_np_y, epochs=400, batch_size=128, validation_split=0.3)\n",
        "\n",
        "'''\n",
        "fit 함수 파라미터:\n",
        "(학습데이터, 출력, 에포크 수, 배치 크기, 학습데이터 중 검증 데이터의 비율)\n",
        "  ** 검증 데이터의 비율이 0보다 크면 fit 함수는 학습 데이터에서 랜덤하게 해당 비율만큼의 데이터를 분리하여 검증용으로 사용.\n",
        "'''"
      ],
      "metadata": {
        "colab": {
          "base_uri": "https://localhost:8080/",
          "height": 1000
        },
        "id": "hhXy2rCbFA0M",
        "outputId": "eec161f9-a6fe-487d-ce1d-5248b058925c"
      },
      "execution_count": null,
      "outputs": [
        {
          "output_type": "stream",
          "name": "stdout",
          "text": [
            "Epoch 1/400\n",
            "5/5 [==============================] - 2s 61ms/step - loss: 0.6949 - accuracy: 0.4912 - val_loss: 0.6748 - val_accuracy: 0.6418\n",
            "Epoch 2/400\n",
            "5/5 [==============================] - 0s 24ms/step - loss: 0.6758 - accuracy: 0.6051 - val_loss: 0.6615 - val_accuracy: 0.6418\n",
            "Epoch 3/400\n",
            "5/5 [==============================] - 0s 39ms/step - loss: 0.6660 - accuracy: 0.6051 - val_loss: 0.6484 - val_accuracy: 0.6418\n",
            "Epoch 4/400\n",
            "5/5 [==============================] - 0s 46ms/step - loss: 0.6578 - accuracy: 0.6051 - val_loss: 0.6368 - val_accuracy: 0.6418\n",
            "Epoch 5/400\n",
            "5/5 [==============================] - 0s 25ms/step - loss: 0.6518 - accuracy: 0.6051 - val_loss: 0.6285 - val_accuracy: 0.6418\n",
            "Epoch 6/400\n",
            "5/5 [==============================] - 0s 15ms/step - loss: 0.6464 - accuracy: 0.6051 - val_loss: 0.6192 - val_accuracy: 0.7090\n",
            "Epoch 7/400\n",
            "5/5 [==============================] - 0s 15ms/step - loss: 0.6429 - accuracy: 0.6196 - val_loss: 0.6124 - val_accuracy: 0.7388\n",
            "Epoch 8/400\n",
            "5/5 [==============================] - 0s 11ms/step - loss: 0.6364 - accuracy: 0.6501 - val_loss: 0.6035 - val_accuracy: 0.7388\n",
            "Epoch 9/400\n",
            "5/5 [==============================] - 0s 11ms/step - loss: 0.6311 - accuracy: 0.6533 - val_loss: 0.5967 - val_accuracy: 0.7388\n",
            "Epoch 10/400\n",
            "5/5 [==============================] - 0s 11ms/step - loss: 0.6269 - accuracy: 0.6565 - val_loss: 0.5907 - val_accuracy: 0.7388\n",
            "Epoch 11/400\n",
            "5/5 [==============================] - 0s 13ms/step - loss: 0.6234 - accuracy: 0.6677 - val_loss: 0.5892 - val_accuracy: 0.7388\n",
            "Epoch 12/400\n",
            "5/5 [==============================] - 0s 12ms/step - loss: 0.6202 - accuracy: 0.6774 - val_loss: 0.5858 - val_accuracy: 0.6978\n",
            "Epoch 13/400\n",
            "5/5 [==============================] - 0s 11ms/step - loss: 0.6184 - accuracy: 0.6806 - val_loss: 0.5801 - val_accuracy: 0.7090\n",
            "Epoch 14/400\n",
            "5/5 [==============================] - 0s 11ms/step - loss: 0.6174 - accuracy: 0.6806 - val_loss: 0.5830 - val_accuracy: 0.6866\n",
            "Epoch 15/400\n",
            "5/5 [==============================] - 0s 14ms/step - loss: 0.6154 - accuracy: 0.6774 - val_loss: 0.5868 - val_accuracy: 0.6866\n",
            "Epoch 16/400\n",
            "5/5 [==============================] - 0s 10ms/step - loss: 0.6145 - accuracy: 0.6774 - val_loss: 0.5834 - val_accuracy: 0.6866\n",
            "Epoch 17/400\n",
            "5/5 [==============================] - 0s 12ms/step - loss: 0.6127 - accuracy: 0.6822 - val_loss: 0.5755 - val_accuracy: 0.6903\n",
            "Epoch 18/400\n",
            "5/5 [==============================] - 0s 12ms/step - loss: 0.6123 - accuracy: 0.6774 - val_loss: 0.5790 - val_accuracy: 0.6866\n",
            "Epoch 19/400\n",
            "5/5 [==============================] - 0s 13ms/step - loss: 0.6131 - accuracy: 0.6806 - val_loss: 0.5777 - val_accuracy: 0.6866\n",
            "Epoch 20/400\n",
            "5/5 [==============================] - 0s 17ms/step - loss: 0.6141 - accuracy: 0.6790 - val_loss: 0.5773 - val_accuracy: 0.6866\n",
            "Epoch 21/400\n",
            "5/5 [==============================] - 0s 15ms/step - loss: 0.6115 - accuracy: 0.6806 - val_loss: 0.5786 - val_accuracy: 0.6866\n",
            "Epoch 22/400\n",
            "5/5 [==============================] - 0s 15ms/step - loss: 0.6108 - accuracy: 0.6790 - val_loss: 0.5784 - val_accuracy: 0.6866\n",
            "Epoch 23/400\n",
            "5/5 [==============================] - 0s 14ms/step - loss: 0.6095 - accuracy: 0.6822 - val_loss: 0.5807 - val_accuracy: 0.6866\n",
            "Epoch 24/400\n",
            "5/5 [==============================] - 0s 11ms/step - loss: 0.6099 - accuracy: 0.6806 - val_loss: 0.5826 - val_accuracy: 0.6866\n",
            "Epoch 25/400\n",
            "5/5 [==============================] - 0s 14ms/step - loss: 0.6092 - accuracy: 0.6838 - val_loss: 0.5799 - val_accuracy: 0.6866\n",
            "Epoch 26/400\n",
            "5/5 [==============================] - 0s 11ms/step - loss: 0.6083 - accuracy: 0.6838 - val_loss: 0.5803 - val_accuracy: 0.6866\n",
            "Epoch 27/400\n",
            "5/5 [==============================] - 0s 14ms/step - loss: 0.6077 - accuracy: 0.6870 - val_loss: 0.5768 - val_accuracy: 0.6903\n",
            "Epoch 28/400\n",
            "5/5 [==============================] - 0s 14ms/step - loss: 0.6080 - accuracy: 0.6822 - val_loss: 0.5788 - val_accuracy: 0.6866\n",
            "Epoch 29/400\n",
            "5/5 [==============================] - 0s 11ms/step - loss: 0.6065 - accuracy: 0.6902 - val_loss: 0.5765 - val_accuracy: 0.6903\n",
            "Epoch 30/400\n",
            "5/5 [==============================] - 0s 11ms/step - loss: 0.6059 - accuracy: 0.6870 - val_loss: 0.5767 - val_accuracy: 0.6903\n",
            "Epoch 31/400\n",
            "5/5 [==============================] - 0s 14ms/step - loss: 0.6070 - accuracy: 0.6806 - val_loss: 0.5784 - val_accuracy: 0.6903\n",
            "Epoch 32/400\n",
            "5/5 [==============================] - 0s 14ms/step - loss: 0.6061 - accuracy: 0.6886 - val_loss: 0.5771 - val_accuracy: 0.6903\n",
            "Epoch 33/400\n",
            "5/5 [==============================] - 0s 15ms/step - loss: 0.6055 - accuracy: 0.6886 - val_loss: 0.5761 - val_accuracy: 0.6903\n",
            "Epoch 34/400\n",
            "5/5 [==============================] - 0s 14ms/step - loss: 0.6057 - accuracy: 0.6806 - val_loss: 0.5799 - val_accuracy: 0.6903\n",
            "Epoch 35/400\n",
            "5/5 [==============================] - 0s 16ms/step - loss: 0.6048 - accuracy: 0.6902 - val_loss: 0.5780 - val_accuracy: 0.6903\n",
            "Epoch 36/400\n",
            "5/5 [==============================] - 0s 10ms/step - loss: 0.6032 - accuracy: 0.6886 - val_loss: 0.5795 - val_accuracy: 0.6903\n",
            "Epoch 37/400\n",
            "5/5 [==============================] - 0s 10ms/step - loss: 0.6020 - accuracy: 0.6870 - val_loss: 0.5709 - val_accuracy: 0.7052\n",
            "Epoch 38/400\n",
            "5/5 [==============================] - 0s 15ms/step - loss: 0.6046 - accuracy: 0.6870 - val_loss: 0.5782 - val_accuracy: 0.6903\n",
            "Epoch 39/400\n",
            "5/5 [==============================] - 0s 14ms/step - loss: 0.6024 - accuracy: 0.6918 - val_loss: 0.5804 - val_accuracy: 0.6903\n",
            "Epoch 40/400\n",
            "5/5 [==============================] - 0s 10ms/step - loss: 0.6016 - accuracy: 0.6886 - val_loss: 0.5704 - val_accuracy: 0.7052\n",
            "Epoch 41/400\n",
            "5/5 [==============================] - 0s 10ms/step - loss: 0.6030 - accuracy: 0.6886 - val_loss: 0.5762 - val_accuracy: 0.6903\n",
            "Epoch 42/400\n",
            "5/5 [==============================] - 0s 15ms/step - loss: 0.6012 - accuracy: 0.6934 - val_loss: 0.5798 - val_accuracy: 0.6903\n",
            "Epoch 43/400\n",
            "5/5 [==============================] - 0s 10ms/step - loss: 0.6003 - accuracy: 0.6934 - val_loss: 0.5716 - val_accuracy: 0.6978\n",
            "Epoch 44/400\n",
            "5/5 [==============================] - 0s 14ms/step - loss: 0.6009 - accuracy: 0.6982 - val_loss: 0.5730 - val_accuracy: 0.6978\n",
            "Epoch 45/400\n",
            "5/5 [==============================] - 0s 13ms/step - loss: 0.5999 - accuracy: 0.6886 - val_loss: 0.5758 - val_accuracy: 0.6903\n",
            "Epoch 46/400\n",
            "5/5 [==============================] - 0s 10ms/step - loss: 0.5993 - accuracy: 0.6934 - val_loss: 0.5716 - val_accuracy: 0.6978\n",
            "Epoch 47/400\n",
            "5/5 [==============================] - 0s 14ms/step - loss: 0.5985 - accuracy: 0.6918 - val_loss: 0.5699 - val_accuracy: 0.7052\n",
            "Epoch 48/400\n",
            "5/5 [==============================] - 0s 13ms/step - loss: 0.5993 - accuracy: 0.6902 - val_loss: 0.5717 - val_accuracy: 0.7052\n",
            "Epoch 49/400\n",
            "5/5 [==============================] - 0s 10ms/step - loss: 0.5988 - accuracy: 0.6918 - val_loss: 0.5751 - val_accuracy: 0.6978\n",
            "Epoch 50/400\n",
            "5/5 [==============================] - 0s 10ms/step - loss: 0.5997 - accuracy: 0.6886 - val_loss: 0.5686 - val_accuracy: 0.7090\n",
            "Epoch 51/400\n",
            "5/5 [==============================] - 0s 10ms/step - loss: 0.5978 - accuracy: 0.6918 - val_loss: 0.5719 - val_accuracy: 0.7015\n",
            "Epoch 52/400\n",
            "5/5 [==============================] - 0s 12ms/step - loss: 0.5967 - accuracy: 0.6982 - val_loss: 0.5791 - val_accuracy: 0.6978\n",
            "Epoch 53/400\n",
            "5/5 [==============================] - 0s 11ms/step - loss: 0.5977 - accuracy: 0.6902 - val_loss: 0.5700 - val_accuracy: 0.7052\n",
            "Epoch 54/400\n",
            "5/5 [==============================] - 0s 11ms/step - loss: 0.5966 - accuracy: 0.6934 - val_loss: 0.5700 - val_accuracy: 0.7052\n",
            "Epoch 55/400\n",
            "5/5 [==============================] - 0s 15ms/step - loss: 0.5965 - accuracy: 0.6934 - val_loss: 0.5706 - val_accuracy: 0.7052\n",
            "Epoch 56/400\n",
            "5/5 [==============================] - 0s 10ms/step - loss: 0.5957 - accuracy: 0.6886 - val_loss: 0.5674 - val_accuracy: 0.7015\n",
            "Epoch 57/400\n",
            "5/5 [==============================] - 0s 13ms/step - loss: 0.5956 - accuracy: 0.6998 - val_loss: 0.5658 - val_accuracy: 0.7090\n",
            "Epoch 58/400\n",
            "5/5 [==============================] - 0s 14ms/step - loss: 0.5959 - accuracy: 0.6950 - val_loss: 0.5714 - val_accuracy: 0.7052\n",
            "Epoch 59/400\n",
            "5/5 [==============================] - 0s 14ms/step - loss: 0.5945 - accuracy: 0.6934 - val_loss: 0.5737 - val_accuracy: 0.7052\n",
            "Epoch 60/400\n",
            "5/5 [==============================] - 0s 14ms/step - loss: 0.5956 - accuracy: 0.6950 - val_loss: 0.5688 - val_accuracy: 0.7052\n",
            "Epoch 61/400\n",
            "5/5 [==============================] - 0s 10ms/step - loss: 0.5946 - accuracy: 0.6966 - val_loss: 0.5807 - val_accuracy: 0.7052\n",
            "Epoch 62/400\n",
            "5/5 [==============================] - 0s 18ms/step - loss: 0.5932 - accuracy: 0.6902 - val_loss: 0.5645 - val_accuracy: 0.7052\n",
            "Epoch 63/400\n",
            "5/5 [==============================] - 0s 10ms/step - loss: 0.5942 - accuracy: 0.7014 - val_loss: 0.5700 - val_accuracy: 0.7015\n",
            "Epoch 64/400\n",
            "5/5 [==============================] - 0s 10ms/step - loss: 0.5928 - accuracy: 0.6918 - val_loss: 0.5651 - val_accuracy: 0.7015\n",
            "Epoch 65/400\n",
            "5/5 [==============================] - 0s 12ms/step - loss: 0.5921 - accuracy: 0.7030 - val_loss: 0.5662 - val_accuracy: 0.7015\n",
            "Epoch 66/400\n",
            "5/5 [==============================] - 0s 12ms/step - loss: 0.5925 - accuracy: 0.7014 - val_loss: 0.5616 - val_accuracy: 0.7239\n",
            "Epoch 67/400\n",
            "5/5 [==============================] - 0s 10ms/step - loss: 0.5934 - accuracy: 0.6966 - val_loss: 0.5631 - val_accuracy: 0.7239\n",
            "Epoch 68/400\n",
            "5/5 [==============================] - 0s 9ms/step - loss: 0.5915 - accuracy: 0.7014 - val_loss: 0.5589 - val_accuracy: 0.7313\n",
            "Epoch 69/400\n",
            "5/5 [==============================] - 0s 12ms/step - loss: 0.5925 - accuracy: 0.6966 - val_loss: 0.5674 - val_accuracy: 0.7015\n",
            "Epoch 70/400\n",
            "5/5 [==============================] - 0s 11ms/step - loss: 0.5952 - accuracy: 0.7030 - val_loss: 0.5651 - val_accuracy: 0.7127\n",
            "Epoch 71/400\n",
            "5/5 [==============================] - 0s 10ms/step - loss: 0.5923 - accuracy: 0.6982 - val_loss: 0.5686 - val_accuracy: 0.7127\n",
            "Epoch 72/400\n",
            "5/5 [==============================] - 0s 10ms/step - loss: 0.5924 - accuracy: 0.6934 - val_loss: 0.5614 - val_accuracy: 0.7239\n",
            "Epoch 73/400\n",
            "5/5 [==============================] - 0s 13ms/step - loss: 0.5914 - accuracy: 0.6998 - val_loss: 0.5623 - val_accuracy: 0.7201\n",
            "Epoch 74/400\n",
            "5/5 [==============================] - 0s 13ms/step - loss: 0.5910 - accuracy: 0.7047 - val_loss: 0.5619 - val_accuracy: 0.7201\n",
            "Epoch 75/400\n",
            "5/5 [==============================] - 0s 13ms/step - loss: 0.5929 - accuracy: 0.7030 - val_loss: 0.5713 - val_accuracy: 0.7164\n",
            "Epoch 76/400\n",
            "5/5 [==============================] - 0s 10ms/step - loss: 0.5900 - accuracy: 0.7047 - val_loss: 0.5682 - val_accuracy: 0.7127\n",
            "Epoch 77/400\n",
            "5/5 [==============================] - 0s 13ms/step - loss: 0.5906 - accuracy: 0.7047 - val_loss: 0.5634 - val_accuracy: 0.7201\n",
            "Epoch 78/400\n",
            "5/5 [==============================] - 0s 15ms/step - loss: 0.5896 - accuracy: 0.7047 - val_loss: 0.5683 - val_accuracy: 0.7127\n",
            "Epoch 79/400\n",
            "5/5 [==============================] - 0s 14ms/step - loss: 0.5898 - accuracy: 0.7047 - val_loss: 0.5631 - val_accuracy: 0.7201\n",
            "Epoch 80/400\n",
            "5/5 [==============================] - 0s 9ms/step - loss: 0.5907 - accuracy: 0.6950 - val_loss: 0.5621 - val_accuracy: 0.7201\n",
            "Epoch 81/400\n",
            "5/5 [==============================] - 0s 10ms/step - loss: 0.5909 - accuracy: 0.7030 - val_loss: 0.5668 - val_accuracy: 0.7127\n",
            "Epoch 82/400\n",
            "5/5 [==============================] - 0s 14ms/step - loss: 0.5908 - accuracy: 0.7047 - val_loss: 0.5662 - val_accuracy: 0.7127\n",
            "Epoch 83/400\n",
            "5/5 [==============================] - 0s 10ms/step - loss: 0.5907 - accuracy: 0.7030 - val_loss: 0.5653 - val_accuracy: 0.7201\n",
            "Epoch 84/400\n",
            "5/5 [==============================] - 0s 10ms/step - loss: 0.5889 - accuracy: 0.7014 - val_loss: 0.5612 - val_accuracy: 0.7201\n",
            "Epoch 85/400\n",
            "5/5 [==============================] - 0s 11ms/step - loss: 0.5904 - accuracy: 0.7047 - val_loss: 0.5638 - val_accuracy: 0.7239\n",
            "Epoch 86/400\n",
            "5/5 [==============================] - 0s 14ms/step - loss: 0.5882 - accuracy: 0.7014 - val_loss: 0.5664 - val_accuracy: 0.7127\n",
            "Epoch 87/400\n",
            "5/5 [==============================] - 0s 14ms/step - loss: 0.5878 - accuracy: 0.7047 - val_loss: 0.5607 - val_accuracy: 0.7164\n",
            "Epoch 88/400\n",
            "5/5 [==============================] - 0s 14ms/step - loss: 0.5880 - accuracy: 0.7030 - val_loss: 0.5578 - val_accuracy: 0.7239\n",
            "Epoch 89/400\n",
            "5/5 [==============================] - 0s 14ms/step - loss: 0.5876 - accuracy: 0.7047 - val_loss: 0.5631 - val_accuracy: 0.7201\n",
            "Epoch 90/400\n",
            "5/5 [==============================] - 0s 10ms/step - loss: 0.5873 - accuracy: 0.7014 - val_loss: 0.5574 - val_accuracy: 0.7239\n",
            "Epoch 91/400\n",
            "5/5 [==============================] - 0s 14ms/step - loss: 0.5873 - accuracy: 0.6998 - val_loss: 0.5599 - val_accuracy: 0.7201\n",
            "Epoch 92/400\n",
            "5/5 [==============================] - 0s 14ms/step - loss: 0.5868 - accuracy: 0.6982 - val_loss: 0.5686 - val_accuracy: 0.7090\n",
            "Epoch 93/400\n",
            "5/5 [==============================] - 0s 15ms/step - loss: 0.5886 - accuracy: 0.7014 - val_loss: 0.5625 - val_accuracy: 0.7201\n",
            "Epoch 94/400\n",
            "5/5 [==============================] - 0s 15ms/step - loss: 0.5869 - accuracy: 0.7030 - val_loss: 0.5566 - val_accuracy: 0.7239\n",
            "Epoch 95/400\n",
            "5/5 [==============================] - 0s 16ms/step - loss: 0.5873 - accuracy: 0.7014 - val_loss: 0.5577 - val_accuracy: 0.7276\n",
            "Epoch 96/400\n",
            "5/5 [==============================] - 0s 10ms/step - loss: 0.5861 - accuracy: 0.7014 - val_loss: 0.5559 - val_accuracy: 0.7276\n",
            "Epoch 97/400\n",
            "5/5 [==============================] - 0s 10ms/step - loss: 0.5855 - accuracy: 0.7014 - val_loss: 0.5616 - val_accuracy: 0.7201\n",
            "Epoch 98/400\n",
            "5/5 [==============================] - 0s 11ms/step - loss: 0.5877 - accuracy: 0.6998 - val_loss: 0.5571 - val_accuracy: 0.7239\n",
            "Epoch 99/400\n",
            "5/5 [==============================] - 0s 14ms/step - loss: 0.5856 - accuracy: 0.6982 - val_loss: 0.5626 - val_accuracy: 0.7201\n",
            "Epoch 100/400\n",
            "5/5 [==============================] - 0s 19ms/step - loss: 0.5888 - accuracy: 0.7030 - val_loss: 0.5583 - val_accuracy: 0.7239\n",
            "Epoch 101/400\n",
            "5/5 [==============================] - 0s 21ms/step - loss: 0.5846 - accuracy: 0.7030 - val_loss: 0.5532 - val_accuracy: 0.7276\n",
            "Epoch 102/400\n",
            "5/5 [==============================] - 0s 17ms/step - loss: 0.5853 - accuracy: 0.6998 - val_loss: 0.5638 - val_accuracy: 0.7201\n",
            "Epoch 103/400\n",
            "5/5 [==============================] - 0s 20ms/step - loss: 0.5857 - accuracy: 0.6982 - val_loss: 0.5557 - val_accuracy: 0.7276\n",
            "Epoch 104/400\n",
            "5/5 [==============================] - 0s 17ms/step - loss: 0.5850 - accuracy: 0.6966 - val_loss: 0.5557 - val_accuracy: 0.7276\n",
            "Epoch 105/400\n",
            "5/5 [==============================] - 0s 21ms/step - loss: 0.5843 - accuracy: 0.6934 - val_loss: 0.5578 - val_accuracy: 0.7201\n",
            "Epoch 106/400\n",
            "5/5 [==============================] - 0s 22ms/step - loss: 0.5842 - accuracy: 0.6982 - val_loss: 0.5526 - val_accuracy: 0.7276\n",
            "Epoch 107/400\n",
            "5/5 [==============================] - 0s 20ms/step - loss: 0.5843 - accuracy: 0.6918 - val_loss: 0.5660 - val_accuracy: 0.7201\n",
            "Epoch 108/400\n",
            "5/5 [==============================] - 0s 17ms/step - loss: 0.5856 - accuracy: 0.7063 - val_loss: 0.5546 - val_accuracy: 0.7276\n",
            "Epoch 109/400\n",
            "5/5 [==============================] - 0s 15ms/step - loss: 0.5839 - accuracy: 0.6966 - val_loss: 0.5574 - val_accuracy: 0.7201\n",
            "Epoch 110/400\n",
            "5/5 [==============================] - 0s 15ms/step - loss: 0.5848 - accuracy: 0.6998 - val_loss: 0.5579 - val_accuracy: 0.7164\n",
            "Epoch 111/400\n",
            "5/5 [==============================] - 0s 17ms/step - loss: 0.5830 - accuracy: 0.6998 - val_loss: 0.5592 - val_accuracy: 0.7127\n",
            "Epoch 112/400\n",
            "5/5 [==============================] - 0s 16ms/step - loss: 0.5818 - accuracy: 0.6998 - val_loss: 0.5540 - val_accuracy: 0.7201\n",
            "Epoch 113/400\n",
            "5/5 [==============================] - 0s 16ms/step - loss: 0.5854 - accuracy: 0.6982 - val_loss: 0.5600 - val_accuracy: 0.7164\n",
            "Epoch 114/400\n",
            "5/5 [==============================] - 0s 21ms/step - loss: 0.5868 - accuracy: 0.7014 - val_loss: 0.5569 - val_accuracy: 0.7201\n",
            "Epoch 115/400\n",
            "5/5 [==============================] - 0s 15ms/step - loss: 0.5831 - accuracy: 0.7014 - val_loss: 0.5585 - val_accuracy: 0.7164\n",
            "Epoch 116/400\n",
            "5/5 [==============================] - 0s 15ms/step - loss: 0.5832 - accuracy: 0.7047 - val_loss: 0.5542 - val_accuracy: 0.7276\n",
            "Epoch 117/400\n",
            "5/5 [==============================] - 0s 16ms/step - loss: 0.5828 - accuracy: 0.6950 - val_loss: 0.5547 - val_accuracy: 0.7276\n",
            "Epoch 118/400\n",
            "5/5 [==============================] - 0s 15ms/step - loss: 0.5845 - accuracy: 0.7030 - val_loss: 0.5544 - val_accuracy: 0.7276\n",
            "Epoch 119/400\n",
            "5/5 [==============================] - 0s 17ms/step - loss: 0.5846 - accuracy: 0.6998 - val_loss: 0.5511 - val_accuracy: 0.7239\n",
            "Epoch 120/400\n",
            "5/5 [==============================] - 0s 15ms/step - loss: 0.5833 - accuracy: 0.6902 - val_loss: 0.5605 - val_accuracy: 0.7201\n",
            "Epoch 121/400\n",
            "5/5 [==============================] - 0s 17ms/step - loss: 0.5851 - accuracy: 0.6934 - val_loss: 0.5580 - val_accuracy: 0.7201\n",
            "Epoch 122/400\n",
            "5/5 [==============================] - 0s 20ms/step - loss: 0.5836 - accuracy: 0.7014 - val_loss: 0.5589 - val_accuracy: 0.7201\n",
            "Epoch 123/400\n",
            "5/5 [==============================] - 0s 19ms/step - loss: 0.5809 - accuracy: 0.6982 - val_loss: 0.5493 - val_accuracy: 0.7239\n",
            "Epoch 124/400\n",
            "5/5 [==============================] - 0s 18ms/step - loss: 0.5816 - accuracy: 0.7014 - val_loss: 0.5553 - val_accuracy: 0.7276\n",
            "Epoch 125/400\n",
            "5/5 [==============================] - 0s 18ms/step - loss: 0.5834 - accuracy: 0.6870 - val_loss: 0.5549 - val_accuracy: 0.7276\n",
            "Epoch 126/400\n",
            "5/5 [==============================] - 0s 19ms/step - loss: 0.5816 - accuracy: 0.6918 - val_loss: 0.5558 - val_accuracy: 0.7276\n",
            "Epoch 127/400\n",
            "5/5 [==============================] - 0s 14ms/step - loss: 0.5823 - accuracy: 0.6870 - val_loss: 0.5521 - val_accuracy: 0.7276\n",
            "Epoch 128/400\n",
            "5/5 [==============================] - 0s 14ms/step - loss: 0.5809 - accuracy: 0.6934 - val_loss: 0.5541 - val_accuracy: 0.7239\n",
            "Epoch 129/400\n",
            "5/5 [==============================] - 0s 19ms/step - loss: 0.5825 - accuracy: 0.6950 - val_loss: 0.5560 - val_accuracy: 0.7276\n",
            "Epoch 130/400\n",
            "5/5 [==============================] - 0s 18ms/step - loss: 0.5795 - accuracy: 0.6902 - val_loss: 0.5501 - val_accuracy: 0.7313\n",
            "Epoch 131/400\n",
            "5/5 [==============================] - 0s 18ms/step - loss: 0.5801 - accuracy: 0.6934 - val_loss: 0.5564 - val_accuracy: 0.7276\n",
            "Epoch 132/400\n",
            "5/5 [==============================] - 0s 17ms/step - loss: 0.5796 - accuracy: 0.6966 - val_loss: 0.5503 - val_accuracy: 0.7201\n",
            "Epoch 133/400\n",
            "5/5 [==============================] - 0s 18ms/step - loss: 0.5803 - accuracy: 0.7063 - val_loss: 0.5607 - val_accuracy: 0.7239\n",
            "Epoch 134/400\n",
            "5/5 [==============================] - 0s 15ms/step - loss: 0.5795 - accuracy: 0.6982 - val_loss: 0.5494 - val_accuracy: 0.7276\n",
            "Epoch 135/400\n",
            "5/5 [==============================] - 0s 15ms/step - loss: 0.5789 - accuracy: 0.6998 - val_loss: 0.5550 - val_accuracy: 0.7276\n",
            "Epoch 136/400\n",
            "5/5 [==============================] - 0s 17ms/step - loss: 0.5795 - accuracy: 0.6950 - val_loss: 0.5490 - val_accuracy: 0.7313\n",
            "Epoch 137/400\n",
            "5/5 [==============================] - 0s 15ms/step - loss: 0.5843 - accuracy: 0.6886 - val_loss: 0.5560 - val_accuracy: 0.7313\n",
            "Epoch 138/400\n",
            "5/5 [==============================] - 0s 18ms/step - loss: 0.5795 - accuracy: 0.6966 - val_loss: 0.5469 - val_accuracy: 0.7276\n",
            "Epoch 139/400\n",
            "5/5 [==============================] - 0s 16ms/step - loss: 0.5789 - accuracy: 0.6950 - val_loss: 0.5494 - val_accuracy: 0.7313\n",
            "Epoch 140/400\n",
            "5/5 [==============================] - 0s 19ms/step - loss: 0.5784 - accuracy: 0.6902 - val_loss: 0.5486 - val_accuracy: 0.7201\n",
            "Epoch 141/400\n",
            "5/5 [==============================] - 0s 18ms/step - loss: 0.5779 - accuracy: 0.6998 - val_loss: 0.5468 - val_accuracy: 0.7313\n",
            "Epoch 142/400\n",
            "5/5 [==============================] - 0s 15ms/step - loss: 0.5769 - accuracy: 0.7095 - val_loss: 0.5541 - val_accuracy: 0.7313\n",
            "Epoch 143/400\n",
            "5/5 [==============================] - 0s 16ms/step - loss: 0.5795 - accuracy: 0.6966 - val_loss: 0.5481 - val_accuracy: 0.7313\n",
            "Epoch 144/400\n",
            "5/5 [==============================] - 0s 15ms/step - loss: 0.5797 - accuracy: 0.6902 - val_loss: 0.5470 - val_accuracy: 0.7239\n",
            "Epoch 145/400\n",
            "5/5 [==============================] - 0s 20ms/step - loss: 0.5793 - accuracy: 0.6998 - val_loss: 0.5528 - val_accuracy: 0.7276\n",
            "Epoch 146/400\n",
            "5/5 [==============================] - 0s 17ms/step - loss: 0.5782 - accuracy: 0.6902 - val_loss: 0.5459 - val_accuracy: 0.7276\n",
            "Epoch 147/400\n",
            "5/5 [==============================] - 0s 18ms/step - loss: 0.5798 - accuracy: 0.6998 - val_loss: 0.5583 - val_accuracy: 0.7351\n",
            "Epoch 148/400\n",
            "5/5 [==============================] - 0s 19ms/step - loss: 0.5784 - accuracy: 0.7014 - val_loss: 0.5494 - val_accuracy: 0.7201\n",
            "Epoch 149/400\n",
            "5/5 [==============================] - 0s 18ms/step - loss: 0.5773 - accuracy: 0.6918 - val_loss: 0.5447 - val_accuracy: 0.7239\n",
            "Epoch 150/400\n",
            "5/5 [==============================] - 0s 18ms/step - loss: 0.5758 - accuracy: 0.7047 - val_loss: 0.5522 - val_accuracy: 0.7313\n",
            "Epoch 151/400\n",
            "5/5 [==============================] - 0s 16ms/step - loss: 0.5785 - accuracy: 0.6950 - val_loss: 0.5501 - val_accuracy: 0.7313\n",
            "Epoch 152/400\n",
            "5/5 [==============================] - 0s 20ms/step - loss: 0.5773 - accuracy: 0.6982 - val_loss: 0.5596 - val_accuracy: 0.7239\n",
            "Epoch 153/400\n",
            "5/5 [==============================] - 0s 22ms/step - loss: 0.5757 - accuracy: 0.7047 - val_loss: 0.5479 - val_accuracy: 0.7276\n",
            "Epoch 154/400\n",
            "5/5 [==============================] - 0s 19ms/step - loss: 0.5787 - accuracy: 0.6934 - val_loss: 0.5505 - val_accuracy: 0.7313\n",
            "Epoch 155/400\n",
            "5/5 [==============================] - 0s 18ms/step - loss: 0.5783 - accuracy: 0.7079 - val_loss: 0.5475 - val_accuracy: 0.7276\n",
            "Epoch 156/400\n",
            "5/5 [==============================] - 0s 17ms/step - loss: 0.5781 - accuracy: 0.7014 - val_loss: 0.5465 - val_accuracy: 0.7313\n",
            "Epoch 157/400\n",
            "5/5 [==============================] - 0s 19ms/step - loss: 0.5792 - accuracy: 0.6950 - val_loss: 0.5464 - val_accuracy: 0.7276\n",
            "Epoch 158/400\n",
            "5/5 [==============================] - 0s 15ms/step - loss: 0.5762 - accuracy: 0.6998 - val_loss: 0.5449 - val_accuracy: 0.7313\n",
            "Epoch 159/400\n",
            "5/5 [==============================] - 0s 12ms/step - loss: 0.5767 - accuracy: 0.6998 - val_loss: 0.5448 - val_accuracy: 0.7313\n",
            "Epoch 160/400\n",
            "5/5 [==============================] - 0s 15ms/step - loss: 0.5785 - accuracy: 0.7030 - val_loss: 0.5511 - val_accuracy: 0.7313\n",
            "Epoch 161/400\n",
            "5/5 [==============================] - 0s 15ms/step - loss: 0.5760 - accuracy: 0.6950 - val_loss: 0.5461 - val_accuracy: 0.7276\n",
            "Epoch 162/400\n",
            "5/5 [==============================] - 0s 11ms/step - loss: 0.5742 - accuracy: 0.7014 - val_loss: 0.5454 - val_accuracy: 0.7276\n",
            "Epoch 163/400\n",
            "5/5 [==============================] - 0s 15ms/step - loss: 0.5771 - accuracy: 0.6982 - val_loss: 0.5428 - val_accuracy: 0.7239\n",
            "Epoch 164/400\n",
            "5/5 [==============================] - 0s 11ms/step - loss: 0.5759 - accuracy: 0.6998 - val_loss: 0.5418 - val_accuracy: 0.7313\n",
            "Epoch 165/400\n",
            "5/5 [==============================] - 0s 12ms/step - loss: 0.5746 - accuracy: 0.7014 - val_loss: 0.5472 - val_accuracy: 0.7239\n",
            "Epoch 166/400\n",
            "5/5 [==============================] - 0s 16ms/step - loss: 0.5748 - accuracy: 0.6934 - val_loss: 0.5446 - val_accuracy: 0.7276\n",
            "Epoch 167/400\n",
            "5/5 [==============================] - 0s 14ms/step - loss: 0.5761 - accuracy: 0.7143 - val_loss: 0.5457 - val_accuracy: 0.7276\n",
            "Epoch 168/400\n",
            "5/5 [==============================] - 0s 15ms/step - loss: 0.5765 - accuracy: 0.7014 - val_loss: 0.5426 - val_accuracy: 0.7313\n",
            "Epoch 169/400\n",
            "5/5 [==============================] - 0s 14ms/step - loss: 0.5774 - accuracy: 0.7047 - val_loss: 0.5489 - val_accuracy: 0.7313\n",
            "Epoch 170/400\n",
            "5/5 [==============================] - 0s 14ms/step - loss: 0.5728 - accuracy: 0.7014 - val_loss: 0.5572 - val_accuracy: 0.7388\n",
            "Epoch 171/400\n",
            "5/5 [==============================] - 0s 12ms/step - loss: 0.5800 - accuracy: 0.6998 - val_loss: 0.5433 - val_accuracy: 0.7351\n",
            "Epoch 172/400\n",
            "5/5 [==============================] - 0s 11ms/step - loss: 0.5771 - accuracy: 0.7047 - val_loss: 0.5458 - val_accuracy: 0.7276\n",
            "Epoch 173/400\n",
            "5/5 [==============================] - 0s 13ms/step - loss: 0.5747 - accuracy: 0.6982 - val_loss: 0.5431 - val_accuracy: 0.7351\n",
            "Epoch 174/400\n",
            "5/5 [==============================] - 0s 12ms/step - loss: 0.5734 - accuracy: 0.7063 - val_loss: 0.5434 - val_accuracy: 0.7351\n",
            "Epoch 175/400\n",
            "5/5 [==============================] - 0s 12ms/step - loss: 0.5747 - accuracy: 0.7030 - val_loss: 0.5428 - val_accuracy: 0.7313\n",
            "Epoch 176/400\n",
            "5/5 [==============================] - 0s 16ms/step - loss: 0.5736 - accuracy: 0.6982 - val_loss: 0.5452 - val_accuracy: 0.7239\n",
            "Epoch 177/400\n",
            "5/5 [==============================] - 0s 12ms/step - loss: 0.5717 - accuracy: 0.7030 - val_loss: 0.5534 - val_accuracy: 0.7463\n",
            "Epoch 178/400\n",
            "5/5 [==============================] - 0s 10ms/step - loss: 0.5748 - accuracy: 0.7095 - val_loss: 0.5424 - val_accuracy: 0.7313\n",
            "Epoch 179/400\n",
            "5/5 [==============================] - 0s 14ms/step - loss: 0.5737 - accuracy: 0.6982 - val_loss: 0.5441 - val_accuracy: 0.7276\n",
            "Epoch 180/400\n",
            "5/5 [==============================] - 0s 14ms/step - loss: 0.5746 - accuracy: 0.6982 - val_loss: 0.5428 - val_accuracy: 0.7351\n",
            "Epoch 181/400\n",
            "5/5 [==============================] - 0s 12ms/step - loss: 0.5724 - accuracy: 0.6982 - val_loss: 0.5400 - val_accuracy: 0.7276\n",
            "Epoch 182/400\n",
            "5/5 [==============================] - 0s 19ms/step - loss: 0.5736 - accuracy: 0.7111 - val_loss: 0.5413 - val_accuracy: 0.7351\n",
            "Epoch 183/400\n",
            "5/5 [==============================] - 0s 15ms/step - loss: 0.5725 - accuracy: 0.7030 - val_loss: 0.5419 - val_accuracy: 0.7351\n",
            "Epoch 184/400\n",
            "5/5 [==============================] - 0s 11ms/step - loss: 0.5719 - accuracy: 0.7014 - val_loss: 0.5451 - val_accuracy: 0.7276\n",
            "Epoch 185/400\n",
            "5/5 [==============================] - 0s 13ms/step - loss: 0.5721 - accuracy: 0.6982 - val_loss: 0.5418 - val_accuracy: 0.7313\n",
            "Epoch 186/400\n",
            "5/5 [==============================] - 0s 14ms/step - loss: 0.5722 - accuracy: 0.7079 - val_loss: 0.5402 - val_accuracy: 0.7313\n",
            "Epoch 187/400\n",
            "5/5 [==============================] - 0s 12ms/step - loss: 0.5741 - accuracy: 0.7063 - val_loss: 0.5429 - val_accuracy: 0.7276\n",
            "Epoch 188/400\n",
            "5/5 [==============================] - 0s 10ms/step - loss: 0.5732 - accuracy: 0.7014 - val_loss: 0.5406 - val_accuracy: 0.7313\n",
            "Epoch 189/400\n",
            "5/5 [==============================] - 0s 10ms/step - loss: 0.5720 - accuracy: 0.7127 - val_loss: 0.5439 - val_accuracy: 0.7313\n",
            "Epoch 190/400\n",
            "5/5 [==============================] - 0s 10ms/step - loss: 0.5721 - accuracy: 0.7030 - val_loss: 0.5397 - val_accuracy: 0.7313\n",
            "Epoch 191/400\n",
            "5/5 [==============================] - 0s 11ms/step - loss: 0.5718 - accuracy: 0.7079 - val_loss: 0.5423 - val_accuracy: 0.7313\n",
            "Epoch 192/400\n",
            "5/5 [==============================] - 0s 10ms/step - loss: 0.5690 - accuracy: 0.7095 - val_loss: 0.5686 - val_accuracy: 0.7313\n",
            "Epoch 193/400\n",
            "5/5 [==============================] - 0s 10ms/step - loss: 0.5752 - accuracy: 0.7014 - val_loss: 0.5370 - val_accuracy: 0.7313\n",
            "Epoch 194/400\n",
            "5/5 [==============================] - 0s 10ms/step - loss: 0.5722 - accuracy: 0.7063 - val_loss: 0.5414 - val_accuracy: 0.7351\n",
            "Epoch 195/400\n",
            "5/5 [==============================] - 0s 11ms/step - loss: 0.5720 - accuracy: 0.7079 - val_loss: 0.5439 - val_accuracy: 0.7313\n",
            "Epoch 196/400\n",
            "5/5 [==============================] - 0s 10ms/step - loss: 0.5702 - accuracy: 0.7143 - val_loss: 0.5368 - val_accuracy: 0.7313\n",
            "Epoch 197/400\n",
            "5/5 [==============================] - 0s 11ms/step - loss: 0.5704 - accuracy: 0.7030 - val_loss: 0.5425 - val_accuracy: 0.7351\n",
            "Epoch 198/400\n",
            "5/5 [==============================] - 0s 13ms/step - loss: 0.5713 - accuracy: 0.7159 - val_loss: 0.5391 - val_accuracy: 0.7351\n",
            "Epoch 199/400\n",
            "5/5 [==============================] - 0s 15ms/step - loss: 0.5683 - accuracy: 0.7095 - val_loss: 0.5406 - val_accuracy: 0.7276\n",
            "Epoch 200/400\n",
            "5/5 [==============================] - 0s 12ms/step - loss: 0.5689 - accuracy: 0.7014 - val_loss: 0.5489 - val_accuracy: 0.7425\n",
            "Epoch 201/400\n",
            "5/5 [==============================] - 0s 11ms/step - loss: 0.5729 - accuracy: 0.7047 - val_loss: 0.5383 - val_accuracy: 0.7313\n",
            "Epoch 202/400\n",
            "5/5 [==============================] - 0s 11ms/step - loss: 0.5702 - accuracy: 0.7047 - val_loss: 0.5349 - val_accuracy: 0.7313\n",
            "Epoch 203/400\n",
            "5/5 [==============================] - 0s 11ms/step - loss: 0.5725 - accuracy: 0.7079 - val_loss: 0.5484 - val_accuracy: 0.7463\n",
            "Epoch 204/400\n",
            "5/5 [==============================] - 0s 12ms/step - loss: 0.5735 - accuracy: 0.7063 - val_loss: 0.5434 - val_accuracy: 0.7351\n",
            "Epoch 205/400\n",
            "5/5 [==============================] - 0s 12ms/step - loss: 0.5689 - accuracy: 0.7111 - val_loss: 0.5427 - val_accuracy: 0.7313\n",
            "Epoch 206/400\n",
            "5/5 [==============================] - 0s 15ms/step - loss: 0.5708 - accuracy: 0.7014 - val_loss: 0.5397 - val_accuracy: 0.7351\n",
            "Epoch 207/400\n",
            "5/5 [==============================] - 0s 12ms/step - loss: 0.5711 - accuracy: 0.7095 - val_loss: 0.5386 - val_accuracy: 0.7313\n",
            "Epoch 208/400\n",
            "5/5 [==============================] - 0s 11ms/step - loss: 0.5693 - accuracy: 0.7079 - val_loss: 0.5439 - val_accuracy: 0.7463\n",
            "Epoch 209/400\n",
            "5/5 [==============================] - 0s 11ms/step - loss: 0.5726 - accuracy: 0.7191 - val_loss: 0.5356 - val_accuracy: 0.7351\n",
            "Epoch 210/400\n",
            "5/5 [==============================] - 0s 13ms/step - loss: 0.5677 - accuracy: 0.7014 - val_loss: 0.5407 - val_accuracy: 0.7351\n",
            "Epoch 211/400\n",
            "5/5 [==============================] - 0s 15ms/step - loss: 0.5676 - accuracy: 0.6998 - val_loss: 0.5377 - val_accuracy: 0.7351\n",
            "Epoch 212/400\n",
            "5/5 [==============================] - 0s 11ms/step - loss: 0.5673 - accuracy: 0.7063 - val_loss: 0.5359 - val_accuracy: 0.7351\n",
            "Epoch 213/400\n",
            "5/5 [==============================] - 0s 15ms/step - loss: 0.5680 - accuracy: 0.7127 - val_loss: 0.5429 - val_accuracy: 0.7425\n",
            "Epoch 214/400\n",
            "5/5 [==============================] - 0s 10ms/step - loss: 0.5666 - accuracy: 0.7079 - val_loss: 0.5357 - val_accuracy: 0.7239\n",
            "Epoch 215/400\n",
            "5/5 [==============================] - 0s 16ms/step - loss: 0.5682 - accuracy: 0.7111 - val_loss: 0.5365 - val_accuracy: 0.7276\n",
            "Epoch 216/400\n",
            "5/5 [==============================] - 0s 18ms/step - loss: 0.5753 - accuracy: 0.7014 - val_loss: 0.5398 - val_accuracy: 0.7425\n",
            "Epoch 217/400\n",
            "5/5 [==============================] - 0s 10ms/step - loss: 0.5677 - accuracy: 0.7079 - val_loss: 0.5351 - val_accuracy: 0.7351\n",
            "Epoch 218/400\n",
            "5/5 [==============================] - 0s 14ms/step - loss: 0.5681 - accuracy: 0.7095 - val_loss: 0.5399 - val_accuracy: 0.7463\n",
            "Epoch 219/400\n",
            "5/5 [==============================] - 0s 10ms/step - loss: 0.5687 - accuracy: 0.7095 - val_loss: 0.5354 - val_accuracy: 0.7351\n",
            "Epoch 220/400\n",
            "5/5 [==============================] - 0s 11ms/step - loss: 0.5655 - accuracy: 0.7127 - val_loss: 0.5437 - val_accuracy: 0.7388\n",
            "Epoch 221/400\n",
            "5/5 [==============================] - 0s 10ms/step - loss: 0.5689 - accuracy: 0.7030 - val_loss: 0.5376 - val_accuracy: 0.7351\n",
            "Epoch 222/400\n",
            "5/5 [==============================] - 0s 15ms/step - loss: 0.5687 - accuracy: 0.7079 - val_loss: 0.5340 - val_accuracy: 0.7425\n",
            "Epoch 223/400\n",
            "5/5 [==============================] - 0s 11ms/step - loss: 0.5714 - accuracy: 0.7143 - val_loss: 0.5408 - val_accuracy: 0.7425\n",
            "Epoch 224/400\n",
            "5/5 [==============================] - 0s 12ms/step - loss: 0.5662 - accuracy: 0.7047 - val_loss: 0.5411 - val_accuracy: 0.7463\n",
            "Epoch 225/400\n",
            "5/5 [==============================] - 0s 14ms/step - loss: 0.5689 - accuracy: 0.7143 - val_loss: 0.5408 - val_accuracy: 0.7463\n",
            "Epoch 226/400\n",
            "5/5 [==============================] - 0s 11ms/step - loss: 0.5652 - accuracy: 0.7191 - val_loss: 0.5336 - val_accuracy: 0.7351\n",
            "Epoch 227/400\n",
            "5/5 [==============================] - 0s 10ms/step - loss: 0.5668 - accuracy: 0.7111 - val_loss: 0.5452 - val_accuracy: 0.7500\n",
            "Epoch 228/400\n",
            "5/5 [==============================] - 0s 14ms/step - loss: 0.5675 - accuracy: 0.7063 - val_loss: 0.5326 - val_accuracy: 0.7276\n",
            "Epoch 229/400\n",
            "5/5 [==============================] - 0s 15ms/step - loss: 0.5667 - accuracy: 0.7095 - val_loss: 0.5348 - val_accuracy: 0.7425\n",
            "Epoch 230/400\n",
            "5/5 [==============================] - 0s 14ms/step - loss: 0.5706 - accuracy: 0.7095 - val_loss: 0.5333 - val_accuracy: 0.7425\n",
            "Epoch 231/400\n",
            "5/5 [==============================] - 0s 14ms/step - loss: 0.5664 - accuracy: 0.7127 - val_loss: 0.5323 - val_accuracy: 0.7351\n",
            "Epoch 232/400\n",
            "5/5 [==============================] - 0s 16ms/step - loss: 0.5652 - accuracy: 0.7143 - val_loss: 0.5420 - val_accuracy: 0.7351\n",
            "Epoch 233/400\n",
            "5/5 [==============================] - 0s 15ms/step - loss: 0.5677 - accuracy: 0.7063 - val_loss: 0.5331 - val_accuracy: 0.7313\n",
            "Epoch 234/400\n",
            "5/5 [==============================] - 0s 10ms/step - loss: 0.5673 - accuracy: 0.7159 - val_loss: 0.5368 - val_accuracy: 0.7500\n",
            "Epoch 235/400\n",
            "5/5 [==============================] - 0s 10ms/step - loss: 0.5655 - accuracy: 0.7111 - val_loss: 0.5305 - val_accuracy: 0.7351\n",
            "Epoch 236/400\n",
            "5/5 [==============================] - 0s 10ms/step - loss: 0.5664 - accuracy: 0.7079 - val_loss: 0.5408 - val_accuracy: 0.7388\n",
            "Epoch 237/400\n",
            "5/5 [==============================] - 0s 15ms/step - loss: 0.5625 - accuracy: 0.7159 - val_loss: 0.5320 - val_accuracy: 0.7276\n",
            "Epoch 238/400\n",
            "5/5 [==============================] - 0s 12ms/step - loss: 0.5657 - accuracy: 0.7223 - val_loss: 0.5427 - val_accuracy: 0.7425\n",
            "Epoch 239/400\n",
            "5/5 [==============================] - 0s 10ms/step - loss: 0.5630 - accuracy: 0.7175 - val_loss: 0.5346 - val_accuracy: 0.7313\n",
            "Epoch 240/400\n",
            "5/5 [==============================] - 0s 12ms/step - loss: 0.5646 - accuracy: 0.7159 - val_loss: 0.5414 - val_accuracy: 0.7500\n",
            "Epoch 241/400\n",
            "5/5 [==============================] - 0s 14ms/step - loss: 0.5661 - accuracy: 0.7239 - val_loss: 0.5397 - val_accuracy: 0.7463\n",
            "Epoch 242/400\n",
            "5/5 [==============================] - 0s 10ms/step - loss: 0.5675 - accuracy: 0.7175 - val_loss: 0.5355 - val_accuracy: 0.7239\n",
            "Epoch 243/400\n",
            "5/5 [==============================] - 0s 14ms/step - loss: 0.5657 - accuracy: 0.7079 - val_loss: 0.5345 - val_accuracy: 0.7463\n",
            "Epoch 244/400\n",
            "5/5 [==============================] - 0s 14ms/step - loss: 0.5666 - accuracy: 0.7111 - val_loss: 0.5365 - val_accuracy: 0.7500\n",
            "Epoch 245/400\n",
            "5/5 [==============================] - 0s 10ms/step - loss: 0.5646 - accuracy: 0.7111 - val_loss: 0.5334 - val_accuracy: 0.7463\n",
            "Epoch 246/400\n",
            "5/5 [==============================] - 0s 10ms/step - loss: 0.5622 - accuracy: 0.7127 - val_loss: 0.5467 - val_accuracy: 0.7463\n",
            "Epoch 247/400\n",
            "5/5 [==============================] - 0s 10ms/step - loss: 0.5650 - accuracy: 0.7143 - val_loss: 0.5428 - val_accuracy: 0.7388\n",
            "Epoch 248/400\n",
            "5/5 [==============================] - 0s 16ms/step - loss: 0.5613 - accuracy: 0.7111 - val_loss: 0.5312 - val_accuracy: 0.7351\n",
            "Epoch 249/400\n",
            "5/5 [==============================] - 0s 12ms/step - loss: 0.5658 - accuracy: 0.7191 - val_loss: 0.5403 - val_accuracy: 0.7425\n",
            "Epoch 250/400\n",
            "5/5 [==============================] - 0s 11ms/step - loss: 0.5658 - accuracy: 0.7095 - val_loss: 0.5294 - val_accuracy: 0.7276\n",
            "Epoch 251/400\n",
            "5/5 [==============================] - 0s 14ms/step - loss: 0.5630 - accuracy: 0.7191 - val_loss: 0.5296 - val_accuracy: 0.7313\n",
            "Epoch 252/400\n",
            "5/5 [==============================] - 0s 10ms/step - loss: 0.5689 - accuracy: 0.7063 - val_loss: 0.5297 - val_accuracy: 0.7425\n",
            "Epoch 253/400\n",
            "5/5 [==============================] - 0s 14ms/step - loss: 0.5632 - accuracy: 0.7047 - val_loss: 0.5291 - val_accuracy: 0.7500\n",
            "Epoch 254/400\n",
            "5/5 [==============================] - 0s 15ms/step - loss: 0.5636 - accuracy: 0.7111 - val_loss: 0.5254 - val_accuracy: 0.7500\n",
            "Epoch 255/400\n",
            "5/5 [==============================] - 0s 14ms/step - loss: 0.5646 - accuracy: 0.7127 - val_loss: 0.5309 - val_accuracy: 0.7500\n",
            "Epoch 256/400\n",
            "5/5 [==============================] - 0s 11ms/step - loss: 0.5625 - accuracy: 0.7159 - val_loss: 0.5302 - val_accuracy: 0.7463\n",
            "Epoch 257/400\n",
            "5/5 [==============================] - 0s 11ms/step - loss: 0.5623 - accuracy: 0.7143 - val_loss: 0.5299 - val_accuracy: 0.7463\n",
            "Epoch 258/400\n",
            "5/5 [==============================] - 0s 10ms/step - loss: 0.5615 - accuracy: 0.7175 - val_loss: 0.5352 - val_accuracy: 0.7463\n",
            "Epoch 259/400\n",
            "5/5 [==============================] - 0s 14ms/step - loss: 0.5628 - accuracy: 0.7191 - val_loss: 0.5341 - val_accuracy: 0.7313\n",
            "Epoch 260/400\n",
            "5/5 [==============================] - 0s 11ms/step - loss: 0.5661 - accuracy: 0.7063 - val_loss: 0.5308 - val_accuracy: 0.7463\n",
            "Epoch 261/400\n",
            "5/5 [==============================] - 0s 10ms/step - loss: 0.5643 - accuracy: 0.7063 - val_loss: 0.5280 - val_accuracy: 0.7425\n",
            "Epoch 262/400\n",
            "5/5 [==============================] - 0s 14ms/step - loss: 0.5627 - accuracy: 0.7143 - val_loss: 0.5327 - val_accuracy: 0.7463\n",
            "Epoch 263/400\n",
            "5/5 [==============================] - 0s 10ms/step - loss: 0.5633 - accuracy: 0.7047 - val_loss: 0.5303 - val_accuracy: 0.7425\n",
            "Epoch 264/400\n",
            "5/5 [==============================] - 0s 11ms/step - loss: 0.5637 - accuracy: 0.7175 - val_loss: 0.5339 - val_accuracy: 0.7463\n",
            "Epoch 265/400\n",
            "5/5 [==============================] - 0s 15ms/step - loss: 0.5603 - accuracy: 0.7223 - val_loss: 0.5328 - val_accuracy: 0.7425\n",
            "Epoch 266/400\n",
            "5/5 [==============================] - 0s 13ms/step - loss: 0.5629 - accuracy: 0.7127 - val_loss: 0.5327 - val_accuracy: 0.7463\n",
            "Epoch 267/400\n",
            "5/5 [==============================] - 0s 11ms/step - loss: 0.5600 - accuracy: 0.7223 - val_loss: 0.5276 - val_accuracy: 0.7313\n",
            "Epoch 268/400\n",
            "5/5 [==============================] - 0s 14ms/step - loss: 0.5615 - accuracy: 0.7239 - val_loss: 0.5311 - val_accuracy: 0.7388\n",
            "Epoch 269/400\n",
            "5/5 [==============================] - 0s 14ms/step - loss: 0.5648 - accuracy: 0.7143 - val_loss: 0.5354 - val_accuracy: 0.7425\n",
            "Epoch 270/400\n",
            "5/5 [==============================] - 0s 10ms/step - loss: 0.5612 - accuracy: 0.7191 - val_loss: 0.5386 - val_accuracy: 0.7425\n",
            "Epoch 271/400\n",
            "5/5 [==============================] - 0s 11ms/step - loss: 0.5629 - accuracy: 0.7191 - val_loss: 0.5304 - val_accuracy: 0.7425\n",
            "Epoch 272/400\n",
            "5/5 [==============================] - 0s 10ms/step - loss: 0.5615 - accuracy: 0.7111 - val_loss: 0.5276 - val_accuracy: 0.7463\n",
            "Epoch 273/400\n",
            "5/5 [==============================] - 0s 11ms/step - loss: 0.5640 - accuracy: 0.7111 - val_loss: 0.5314 - val_accuracy: 0.7388\n",
            "Epoch 274/400\n",
            "5/5 [==============================] - 0s 11ms/step - loss: 0.5600 - accuracy: 0.7127 - val_loss: 0.5308 - val_accuracy: 0.7425\n",
            "Epoch 275/400\n",
            "5/5 [==============================] - 0s 15ms/step - loss: 0.5595 - accuracy: 0.7111 - val_loss: 0.5260 - val_accuracy: 0.7388\n",
            "Epoch 276/400\n",
            "5/5 [==============================] - 0s 11ms/step - loss: 0.5630 - accuracy: 0.7143 - val_loss: 0.5279 - val_accuracy: 0.7463\n",
            "Epoch 277/400\n",
            "5/5 [==============================] - 0s 11ms/step - loss: 0.5595 - accuracy: 0.7223 - val_loss: 0.5300 - val_accuracy: 0.7425\n",
            "Epoch 278/400\n",
            "5/5 [==============================] - 0s 11ms/step - loss: 0.5603 - accuracy: 0.7079 - val_loss: 0.5332 - val_accuracy: 0.7425\n",
            "Epoch 279/400\n",
            "5/5 [==============================] - 0s 15ms/step - loss: 0.5632 - accuracy: 0.7095 - val_loss: 0.5294 - val_accuracy: 0.7463\n",
            "Epoch 280/400\n",
            "5/5 [==============================] - 0s 15ms/step - loss: 0.5605 - accuracy: 0.7223 - val_loss: 0.5271 - val_accuracy: 0.7463\n",
            "Epoch 281/400\n",
            "5/5 [==============================] - 0s 15ms/step - loss: 0.5589 - accuracy: 0.7159 - val_loss: 0.5314 - val_accuracy: 0.7463\n",
            "Epoch 282/400\n",
            "5/5 [==============================] - 0s 14ms/step - loss: 0.5615 - accuracy: 0.7127 - val_loss: 0.5255 - val_accuracy: 0.7425\n",
            "Epoch 283/400\n",
            "5/5 [==============================] - 0s 11ms/step - loss: 0.5633 - accuracy: 0.7239 - val_loss: 0.5311 - val_accuracy: 0.7425\n",
            "Epoch 284/400\n",
            "5/5 [==============================] - 0s 12ms/step - loss: 0.5632 - accuracy: 0.7159 - val_loss: 0.5339 - val_accuracy: 0.7463\n",
            "Epoch 285/400\n",
            "5/5 [==============================] - 0s 16ms/step - loss: 0.5615 - accuracy: 0.7111 - val_loss: 0.5236 - val_accuracy: 0.7463\n",
            "Epoch 286/400\n",
            "5/5 [==============================] - 0s 11ms/step - loss: 0.5603 - accuracy: 0.7175 - val_loss: 0.5278 - val_accuracy: 0.7388\n",
            "Epoch 287/400\n",
            "5/5 [==============================] - 0s 11ms/step - loss: 0.5607 - accuracy: 0.7175 - val_loss: 0.5310 - val_accuracy: 0.7463\n",
            "Epoch 288/400\n",
            "5/5 [==============================] - 0s 13ms/step - loss: 0.5603 - accuracy: 0.7143 - val_loss: 0.5242 - val_accuracy: 0.7575\n",
            "Epoch 289/400\n",
            "5/5 [==============================] - 0s 12ms/step - loss: 0.5610 - accuracy: 0.7159 - val_loss: 0.5361 - val_accuracy: 0.7463\n",
            "Epoch 290/400\n",
            "5/5 [==============================] - 0s 11ms/step - loss: 0.5616 - accuracy: 0.7191 - val_loss: 0.5367 - val_accuracy: 0.7425\n",
            "Epoch 291/400\n",
            "5/5 [==============================] - 0s 11ms/step - loss: 0.5646 - accuracy: 0.7030 - val_loss: 0.5270 - val_accuracy: 0.7463\n",
            "Epoch 292/400\n",
            "5/5 [==============================] - 0s 16ms/step - loss: 0.5607 - accuracy: 0.7271 - val_loss: 0.5314 - val_accuracy: 0.7463\n",
            "Epoch 293/400\n",
            "5/5 [==============================] - 0s 11ms/step - loss: 0.5624 - accuracy: 0.7175 - val_loss: 0.5303 - val_accuracy: 0.7388\n",
            "Epoch 294/400\n",
            "5/5 [==============================] - 0s 12ms/step - loss: 0.5583 - accuracy: 0.7175 - val_loss: 0.5298 - val_accuracy: 0.7388\n",
            "Epoch 295/400\n",
            "5/5 [==============================] - 0s 15ms/step - loss: 0.5587 - accuracy: 0.7095 - val_loss: 0.5279 - val_accuracy: 0.7425\n",
            "Epoch 296/400\n",
            "5/5 [==============================] - 0s 12ms/step - loss: 0.5610 - accuracy: 0.7175 - val_loss: 0.5303 - val_accuracy: 0.7425\n",
            "Epoch 297/400\n",
            "5/5 [==============================] - 0s 12ms/step - loss: 0.5593 - accuracy: 0.7127 - val_loss: 0.5275 - val_accuracy: 0.7425\n",
            "Epoch 298/400\n",
            "5/5 [==============================] - 0s 14ms/step - loss: 0.5607 - accuracy: 0.7175 - val_loss: 0.5257 - val_accuracy: 0.7500\n",
            "Epoch 299/400\n",
            "5/5 [==============================] - 0s 11ms/step - loss: 0.5592 - accuracy: 0.7239 - val_loss: 0.5268 - val_accuracy: 0.7463\n",
            "Epoch 300/400\n",
            "5/5 [==============================] - 0s 13ms/step - loss: 0.5619 - accuracy: 0.7191 - val_loss: 0.5256 - val_accuracy: 0.7500\n",
            "Epoch 301/400\n",
            "5/5 [==============================] - 0s 12ms/step - loss: 0.5599 - accuracy: 0.7223 - val_loss: 0.5299 - val_accuracy: 0.7425\n",
            "Epoch 302/400\n",
            "5/5 [==============================] - 0s 14ms/step - loss: 0.5627 - accuracy: 0.7111 - val_loss: 0.5251 - val_accuracy: 0.7537\n",
            "Epoch 303/400\n",
            "5/5 [==============================] - 0s 16ms/step - loss: 0.5578 - accuracy: 0.7223 - val_loss: 0.5258 - val_accuracy: 0.7500\n",
            "Epoch 304/400\n",
            "5/5 [==============================] - 0s 11ms/step - loss: 0.5587 - accuracy: 0.7223 - val_loss: 0.5369 - val_accuracy: 0.7425\n",
            "Epoch 305/400\n",
            "5/5 [==============================] - 0s 15ms/step - loss: 0.5602 - accuracy: 0.7111 - val_loss: 0.5304 - val_accuracy: 0.7463\n",
            "Epoch 306/400\n",
            "5/5 [==============================] - 0s 11ms/step - loss: 0.5574 - accuracy: 0.7175 - val_loss: 0.5263 - val_accuracy: 0.7425\n",
            "Epoch 307/400\n",
            "5/5 [==============================] - 0s 11ms/step - loss: 0.5587 - accuracy: 0.7175 - val_loss: 0.5236 - val_accuracy: 0.7500\n",
            "Epoch 308/400\n",
            "5/5 [==============================] - 0s 15ms/step - loss: 0.5581 - accuracy: 0.7319 - val_loss: 0.5271 - val_accuracy: 0.7388\n",
            "Epoch 309/400\n",
            "5/5 [==============================] - 0s 11ms/step - loss: 0.5579 - accuracy: 0.7143 - val_loss: 0.5259 - val_accuracy: 0.7425\n",
            "Epoch 310/400\n",
            "5/5 [==============================] - 0s 11ms/step - loss: 0.5610 - accuracy: 0.7175 - val_loss: 0.5261 - val_accuracy: 0.7463\n",
            "Epoch 311/400\n",
            "5/5 [==============================] - 0s 14ms/step - loss: 0.5586 - accuracy: 0.7207 - val_loss: 0.5325 - val_accuracy: 0.7463\n",
            "Epoch 312/400\n",
            "5/5 [==============================] - 0s 11ms/step - loss: 0.5584 - accuracy: 0.7175 - val_loss: 0.5412 - val_accuracy: 0.7425\n",
            "Epoch 313/400\n",
            "5/5 [==============================] - 0s 14ms/step - loss: 0.5586 - accuracy: 0.7063 - val_loss: 0.5319 - val_accuracy: 0.7425\n",
            "Epoch 314/400\n",
            "5/5 [==============================] - 0s 11ms/step - loss: 0.5602 - accuracy: 0.7159 - val_loss: 0.5311 - val_accuracy: 0.7425\n",
            "Epoch 315/400\n",
            "5/5 [==============================] - 0s 17ms/step - loss: 0.5584 - accuracy: 0.7111 - val_loss: 0.5280 - val_accuracy: 0.7425\n",
            "Epoch 316/400\n",
            "5/5 [==============================] - 0s 15ms/step - loss: 0.5588 - accuracy: 0.7095 - val_loss: 0.5271 - val_accuracy: 0.7425\n",
            "Epoch 317/400\n",
            "5/5 [==============================] - 0s 16ms/step - loss: 0.5549 - accuracy: 0.7175 - val_loss: 0.5264 - val_accuracy: 0.7463\n",
            "Epoch 318/400\n",
            "5/5 [==============================] - 0s 20ms/step - loss: 0.5564 - accuracy: 0.7271 - val_loss: 0.5352 - val_accuracy: 0.7425\n",
            "Epoch 319/400\n",
            "5/5 [==============================] - 0s 18ms/step - loss: 0.5583 - accuracy: 0.7223 - val_loss: 0.5286 - val_accuracy: 0.7463\n",
            "Epoch 320/400\n",
            "5/5 [==============================] - 0s 19ms/step - loss: 0.5596 - accuracy: 0.7207 - val_loss: 0.5299 - val_accuracy: 0.7388\n",
            "Epoch 321/400\n",
            "5/5 [==============================] - 0s 17ms/step - loss: 0.5570 - accuracy: 0.7255 - val_loss: 0.5295 - val_accuracy: 0.7425\n",
            "Epoch 322/400\n",
            "5/5 [==============================] - 0s 16ms/step - loss: 0.5561 - accuracy: 0.7191 - val_loss: 0.5258 - val_accuracy: 0.7425\n",
            "Epoch 323/400\n",
            "5/5 [==============================] - 0s 18ms/step - loss: 0.5593 - accuracy: 0.7207 - val_loss: 0.5274 - val_accuracy: 0.7388\n",
            "Epoch 324/400\n",
            "5/5 [==============================] - 0s 18ms/step - loss: 0.5568 - accuracy: 0.7175 - val_loss: 0.5310 - val_accuracy: 0.7425\n",
            "Epoch 325/400\n",
            "5/5 [==============================] - 0s 21ms/step - loss: 0.5576 - accuracy: 0.7127 - val_loss: 0.5248 - val_accuracy: 0.7463\n",
            "Epoch 326/400\n",
            "5/5 [==============================] - 0s 20ms/step - loss: 0.5622 - accuracy: 0.7207 - val_loss: 0.5250 - val_accuracy: 0.7425\n",
            "Epoch 327/400\n",
            "5/5 [==============================] - 0s 23ms/step - loss: 0.5551 - accuracy: 0.7239 - val_loss: 0.5288 - val_accuracy: 0.7388\n",
            "Epoch 328/400\n",
            "5/5 [==============================] - 0s 18ms/step - loss: 0.5579 - accuracy: 0.7207 - val_loss: 0.5274 - val_accuracy: 0.7388\n",
            "Epoch 329/400\n",
            "5/5 [==============================] - 0s 15ms/step - loss: 0.5576 - accuracy: 0.7159 - val_loss: 0.5251 - val_accuracy: 0.7500\n",
            "Epoch 330/400\n",
            "5/5 [==============================] - 0s 20ms/step - loss: 0.5576 - accuracy: 0.7143 - val_loss: 0.5283 - val_accuracy: 0.7388\n",
            "Epoch 331/400\n",
            "5/5 [==============================] - 0s 20ms/step - loss: 0.5604 - accuracy: 0.7111 - val_loss: 0.5237 - val_accuracy: 0.7500\n",
            "Epoch 332/400\n",
            "5/5 [==============================] - 0s 19ms/step - loss: 0.5568 - accuracy: 0.7223 - val_loss: 0.5214 - val_accuracy: 0.7463\n",
            "Epoch 333/400\n",
            "5/5 [==============================] - 0s 20ms/step - loss: 0.5555 - accuracy: 0.7223 - val_loss: 0.5284 - val_accuracy: 0.7388\n",
            "Epoch 334/400\n",
            "5/5 [==============================] - 0s 18ms/step - loss: 0.5596 - accuracy: 0.7159 - val_loss: 0.5321 - val_accuracy: 0.7463\n",
            "Epoch 335/400\n",
            "5/5 [==============================] - 0s 21ms/step - loss: 0.5625 - accuracy: 0.7095 - val_loss: 0.5267 - val_accuracy: 0.7425\n",
            "Epoch 336/400\n",
            "5/5 [==============================] - 0s 20ms/step - loss: 0.5547 - accuracy: 0.7191 - val_loss: 0.5273 - val_accuracy: 0.7425\n",
            "Epoch 337/400\n",
            "5/5 [==============================] - 0s 20ms/step - loss: 0.5544 - accuracy: 0.7143 - val_loss: 0.5280 - val_accuracy: 0.7500\n",
            "Epoch 338/400\n",
            "5/5 [==============================] - 0s 24ms/step - loss: 0.5552 - accuracy: 0.7207 - val_loss: 0.5301 - val_accuracy: 0.7388\n",
            "Epoch 339/400\n",
            "5/5 [==============================] - 0s 16ms/step - loss: 0.5548 - accuracy: 0.7191 - val_loss: 0.5326 - val_accuracy: 0.7463\n",
            "Epoch 340/400\n",
            "5/5 [==============================] - 0s 18ms/step - loss: 0.5590 - accuracy: 0.7191 - val_loss: 0.5275 - val_accuracy: 0.7351\n",
            "Epoch 341/400\n",
            "5/5 [==============================] - 0s 18ms/step - loss: 0.5545 - accuracy: 0.7191 - val_loss: 0.5254 - val_accuracy: 0.7463\n",
            "Epoch 342/400\n",
            "5/5 [==============================] - 0s 17ms/step - loss: 0.5583 - accuracy: 0.7159 - val_loss: 0.5389 - val_accuracy: 0.7388\n",
            "Epoch 343/400\n",
            "5/5 [==============================] - 0s 20ms/step - loss: 0.5571 - accuracy: 0.7175 - val_loss: 0.5251 - val_accuracy: 0.7463\n",
            "Epoch 344/400\n",
            "5/5 [==============================] - 0s 19ms/step - loss: 0.5543 - accuracy: 0.7191 - val_loss: 0.5261 - val_accuracy: 0.7500\n",
            "Epoch 345/400\n",
            "5/5 [==============================] - 0s 16ms/step - loss: 0.5560 - accuracy: 0.7271 - val_loss: 0.5262 - val_accuracy: 0.7388\n",
            "Epoch 346/400\n",
            "5/5 [==============================] - 0s 17ms/step - loss: 0.5549 - accuracy: 0.7207 - val_loss: 0.5280 - val_accuracy: 0.7463\n",
            "Epoch 347/400\n",
            "5/5 [==============================] - 0s 21ms/step - loss: 0.5576 - accuracy: 0.7127 - val_loss: 0.5238 - val_accuracy: 0.7463\n",
            "Epoch 348/400\n",
            "5/5 [==============================] - 0s 19ms/step - loss: 0.5566 - accuracy: 0.7271 - val_loss: 0.5303 - val_accuracy: 0.7425\n",
            "Epoch 349/400\n",
            "5/5 [==============================] - 0s 15ms/step - loss: 0.5552 - accuracy: 0.7175 - val_loss: 0.5248 - val_accuracy: 0.7463\n",
            "Epoch 350/400\n",
            "5/5 [==============================] - 0s 22ms/step - loss: 0.5571 - accuracy: 0.7287 - val_loss: 0.5276 - val_accuracy: 0.7425\n",
            "Epoch 351/400\n",
            "5/5 [==============================] - 0s 26ms/step - loss: 0.5539 - accuracy: 0.7207 - val_loss: 0.5281 - val_accuracy: 0.7463\n",
            "Epoch 352/400\n",
            "5/5 [==============================] - 0s 23ms/step - loss: 0.5560 - accuracy: 0.7191 - val_loss: 0.5315 - val_accuracy: 0.7500\n",
            "Epoch 353/400\n",
            "5/5 [==============================] - 0s 17ms/step - loss: 0.5551 - accuracy: 0.7159 - val_loss: 0.5271 - val_accuracy: 0.7425\n",
            "Epoch 354/400\n",
            "5/5 [==============================] - 0s 19ms/step - loss: 0.5562 - accuracy: 0.7191 - val_loss: 0.5221 - val_accuracy: 0.7425\n",
            "Epoch 355/400\n",
            "5/5 [==============================] - 0s 18ms/step - loss: 0.5557 - accuracy: 0.7175 - val_loss: 0.5249 - val_accuracy: 0.7425\n",
            "Epoch 356/400\n",
            "5/5 [==============================] - 0s 17ms/step - loss: 0.5540 - accuracy: 0.7223 - val_loss: 0.5250 - val_accuracy: 0.7463\n",
            "Epoch 357/400\n",
            "5/5 [==============================] - 0s 23ms/step - loss: 0.5581 - accuracy: 0.7159 - val_loss: 0.5254 - val_accuracy: 0.7463\n",
            "Epoch 358/400\n",
            "5/5 [==============================] - 0s 20ms/step - loss: 0.5582 - accuracy: 0.7143 - val_loss: 0.5253 - val_accuracy: 0.7463\n",
            "Epoch 359/400\n",
            "5/5 [==============================] - 0s 23ms/step - loss: 0.5545 - accuracy: 0.7191 - val_loss: 0.5243 - val_accuracy: 0.7351\n",
            "Epoch 360/400\n",
            "5/5 [==============================] - 0s 18ms/step - loss: 0.5557 - accuracy: 0.7207 - val_loss: 0.5278 - val_accuracy: 0.7463\n",
            "Epoch 361/400\n",
            "5/5 [==============================] - 0s 21ms/step - loss: 0.5541 - accuracy: 0.7239 - val_loss: 0.5326 - val_accuracy: 0.7500\n",
            "Epoch 362/400\n",
            "5/5 [==============================] - 0s 18ms/step - loss: 0.5571 - accuracy: 0.7143 - val_loss: 0.5269 - val_accuracy: 0.7425\n",
            "Epoch 363/400\n",
            "5/5 [==============================] - 0s 18ms/step - loss: 0.5564 - accuracy: 0.7223 - val_loss: 0.5296 - val_accuracy: 0.7388\n",
            "Epoch 364/400\n",
            "5/5 [==============================] - 0s 19ms/step - loss: 0.5576 - accuracy: 0.7255 - val_loss: 0.5260 - val_accuracy: 0.7388\n",
            "Epoch 365/400\n",
            "5/5 [==============================] - 0s 19ms/step - loss: 0.5574 - accuracy: 0.7255 - val_loss: 0.5283 - val_accuracy: 0.7388\n",
            "Epoch 366/400\n",
            "5/5 [==============================] - 0s 18ms/step - loss: 0.5537 - accuracy: 0.7207 - val_loss: 0.5271 - val_accuracy: 0.7425\n",
            "Epoch 367/400\n",
            "5/5 [==============================] - 0s 19ms/step - loss: 0.5546 - accuracy: 0.7271 - val_loss: 0.5264 - val_accuracy: 0.7425\n",
            "Epoch 368/400\n",
            "5/5 [==============================] - 0s 18ms/step - loss: 0.5546 - accuracy: 0.7207 - val_loss: 0.5257 - val_accuracy: 0.7463\n",
            "Epoch 369/400\n",
            "5/5 [==============================] - 0s 20ms/step - loss: 0.5567 - accuracy: 0.7223 - val_loss: 0.5240 - val_accuracy: 0.7463\n",
            "Epoch 370/400\n",
            "5/5 [==============================] - 0s 20ms/step - loss: 0.5530 - accuracy: 0.7239 - val_loss: 0.5338 - val_accuracy: 0.7388\n",
            "Epoch 371/400\n",
            "5/5 [==============================] - 0s 18ms/step - loss: 0.5553 - accuracy: 0.7159 - val_loss: 0.5201 - val_accuracy: 0.7500\n",
            "Epoch 372/400\n",
            "5/5 [==============================] - 0s 16ms/step - loss: 0.5549 - accuracy: 0.7239 - val_loss: 0.5227 - val_accuracy: 0.7463\n",
            "Epoch 373/400\n",
            "5/5 [==============================] - 0s 15ms/step - loss: 0.5557 - accuracy: 0.7255 - val_loss: 0.5256 - val_accuracy: 0.7500\n",
            "Epoch 374/400\n",
            "5/5 [==============================] - 0s 11ms/step - loss: 0.5568 - accuracy: 0.7255 - val_loss: 0.5291 - val_accuracy: 0.7388\n",
            "Epoch 375/400\n",
            "5/5 [==============================] - 0s 10ms/step - loss: 0.5533 - accuracy: 0.7255 - val_loss: 0.5266 - val_accuracy: 0.7463\n",
            "Epoch 376/400\n",
            "5/5 [==============================] - 0s 13ms/step - loss: 0.5516 - accuracy: 0.7239 - val_loss: 0.5326 - val_accuracy: 0.7463\n",
            "Epoch 377/400\n",
            "5/5 [==============================] - 0s 15ms/step - loss: 0.5539 - accuracy: 0.7207 - val_loss: 0.5317 - val_accuracy: 0.7351\n",
            "Epoch 378/400\n",
            "5/5 [==============================] - 0s 11ms/step - loss: 0.5535 - accuracy: 0.7303 - val_loss: 0.5329 - val_accuracy: 0.7425\n",
            "Epoch 379/400\n",
            "5/5 [==============================] - 0s 14ms/step - loss: 0.5546 - accuracy: 0.7143 - val_loss: 0.5264 - val_accuracy: 0.7425\n",
            "Epoch 380/400\n",
            "5/5 [==============================] - 0s 11ms/step - loss: 0.5558 - accuracy: 0.7239 - val_loss: 0.5296 - val_accuracy: 0.7388\n",
            "Epoch 381/400\n",
            "5/5 [==============================] - 0s 11ms/step - loss: 0.5562 - accuracy: 0.7303 - val_loss: 0.5376 - val_accuracy: 0.7388\n",
            "Epoch 382/400\n",
            "5/5 [==============================] - 0s 15ms/step - loss: 0.5549 - accuracy: 0.7191 - val_loss: 0.5278 - val_accuracy: 0.7425\n",
            "Epoch 383/400\n",
            "5/5 [==============================] - 0s 11ms/step - loss: 0.5543 - accuracy: 0.7319 - val_loss: 0.5290 - val_accuracy: 0.7425\n",
            "Epoch 384/400\n",
            "5/5 [==============================] - 0s 11ms/step - loss: 0.5546 - accuracy: 0.7191 - val_loss: 0.5312 - val_accuracy: 0.7463\n",
            "Epoch 385/400\n",
            "5/5 [==============================] - 0s 15ms/step - loss: 0.5561 - accuracy: 0.7207 - val_loss: 0.5280 - val_accuracy: 0.7425\n",
            "Epoch 386/400\n",
            "5/5 [==============================] - 0s 10ms/step - loss: 0.5518 - accuracy: 0.7239 - val_loss: 0.5252 - val_accuracy: 0.7425\n",
            "Epoch 387/400\n",
            "5/5 [==============================] - 0s 14ms/step - loss: 0.5504 - accuracy: 0.7287 - val_loss: 0.5320 - val_accuracy: 0.7388\n",
            "Epoch 388/400\n",
            "5/5 [==============================] - 0s 15ms/step - loss: 0.5564 - accuracy: 0.7175 - val_loss: 0.5281 - val_accuracy: 0.7463\n",
            "Epoch 389/400\n",
            "5/5 [==============================] - 0s 12ms/step - loss: 0.5552 - accuracy: 0.7287 - val_loss: 0.5292 - val_accuracy: 0.7388\n",
            "Epoch 390/400\n",
            "5/5 [==============================] - 0s 15ms/step - loss: 0.5510 - accuracy: 0.7191 - val_loss: 0.5305 - val_accuracy: 0.7463\n",
            "Epoch 391/400\n",
            "5/5 [==============================] - 0s 15ms/step - loss: 0.5540 - accuracy: 0.7207 - val_loss: 0.5258 - val_accuracy: 0.7463\n",
            "Epoch 392/400\n",
            "5/5 [==============================] - 0s 15ms/step - loss: 0.5515 - accuracy: 0.7239 - val_loss: 0.5292 - val_accuracy: 0.7463\n",
            "Epoch 393/400\n",
            "5/5 [==============================] - 0s 11ms/step - loss: 0.5537 - accuracy: 0.7111 - val_loss: 0.5324 - val_accuracy: 0.7425\n",
            "Epoch 394/400\n",
            "5/5 [==============================] - 0s 11ms/step - loss: 0.5531 - accuracy: 0.7207 - val_loss: 0.5261 - val_accuracy: 0.7388\n",
            "Epoch 395/400\n",
            "5/5 [==============================] - 0s 12ms/step - loss: 0.5525 - accuracy: 0.7319 - val_loss: 0.5272 - val_accuracy: 0.7463\n",
            "Epoch 396/400\n",
            "5/5 [==============================] - 0s 12ms/step - loss: 0.5516 - accuracy: 0.7271 - val_loss: 0.5266 - val_accuracy: 0.7388\n",
            "Epoch 397/400\n",
            "5/5 [==============================] - 0s 15ms/step - loss: 0.5537 - accuracy: 0.7207 - val_loss: 0.5272 - val_accuracy: 0.7425\n",
            "Epoch 398/400\n",
            "5/5 [==============================] - 0s 12ms/step - loss: 0.5520 - accuracy: 0.7255 - val_loss: 0.5291 - val_accuracy: 0.7425\n",
            "Epoch 399/400\n",
            "5/5 [==============================] - 0s 15ms/step - loss: 0.5541 - accuracy: 0.7159 - val_loss: 0.5284 - val_accuracy: 0.7425\n",
            "Epoch 400/400\n",
            "5/5 [==============================] - 0s 12ms/step - loss: 0.5504 - accuracy: 0.7255 - val_loss: 0.5313 - val_accuracy: 0.7463\n"
          ]
        },
        {
          "output_type": "execute_result",
          "data": {
            "text/plain": [
              "'\\nfit 함수 파라미터:\\n(학습데이터, 출력, 에포크 수, 배치 크기, 학습데이터 중 검증 데이터의 비율)\\n  ** 검증 데이터의 비율이 0보다 크면 fit 함수는 학습 데이터에서 랜덤하게 해당 비율만큼의 데이터를 분리하여 검증용으로 사용.\\n'"
            ],
            "application/vnd.google.colaboratory.intrinsic+json": {
              "type": "string"
            }
          },
          "metadata": {},
          "execution_count": 63
        }
      ]
    },
    {
      "cell_type": "code",
      "source": [
        "# 학습 경과 그래프 그리기 - 학습 진행에 따른 손실값, 정확도의 변화량\n",
        "\n",
        "import matplotlib.pyplot as plt\n",
        "\n",
        "def drawHistory(hist):\n",
        "  fig = plt.figure(figsize=(15,10))                   # 10x15 크기의 figure 생성\n",
        "  loss_ax = plt.gca()                                 # figure의 기본축 가져오기 (get current axes)\n",
        "  acc_ax = loss_ax.twinx()                            # y축 단위 하나 추가: 하나의 그래프에 정확도와 손실값 모두 나타냄\n",
        "\n",
        "  # 손실변화 양상을 그래프로 표시\n",
        "  loss_ax.plot(hist.history['loss'], 'y', label='train loss')\n",
        "  loss_ax.plot(hist.history['val_loss'], 'r', label='val loss')\n",
        "  loss_ax.set_xlabel('epoch')\n",
        "  loss_ax.set_ylabel('loss')\n",
        "  loss_ax.legend(loc='lower left')\n",
        "\n",
        "  # 정확도 변화 양상을 그래프로 표시\n",
        "  acc_ax.plot(hist.history['accuracy'], 'b', label='train acc')\n",
        "  acc_ax.plot(hist.history['val_accuracy'], 'g', label='val acc')\n",
        "  acc_ax.set_ylabel('accuracy')\n",
        "  acc_ax.legend(loc='upper left')\n",
        "\n",
        "  # 그래프를 화면에 그림\n",
        "  plt.show()\n",
        "\n",
        "# 학습 경과를 그래프로 그리는 함수 호출\n",
        "drawHistory(hist)\n"
      ],
      "metadata": {
        "colab": {
          "base_uri": "https://localhost:8080/",
          "height": 850
        },
        "id": "UiWPG3Tt_cTm",
        "outputId": "e2e604ba-00ac-443f-9c18-4548be019c7b"
      },
      "execution_count": null,
      "outputs": [
        {
          "output_type": "display_data",
          "data": {
            "text/plain": [
              "<Figure size 1500x1000 with 2 Axes>"
            ],
            "image/png": "[encoded data removed]"
          },
          "metadata": {}
        }
      ]
    },
    {
      "cell_type": "code",
      "source": [
        "# 테스트 데이터로 예측\n",
        "# 테스트 데이터를 파라미터로 받아, 해당 데이터에 대한 '네트워크 출력'을 반환값으로 돌려줌\n",
        "o = model.predict(data_test_np)\n",
        "o\n",
        "# 출력노드는 2개."
      ],
      "metadata": {
        "colab": {
          "base_uri": "https://localhost:8080/"
        },
        "id": "aKIt8XOb_cRH",
        "outputId": "e2b08aff-8221-46e2-9f1a-2ad27c8a3e99"
      },
      "execution_count": null,
      "outputs": [
        {
          "output_type": "stream",
          "name": "stdout",
          "text": [
            "14/14 [==============================] - 0s 2ms/step\n"
          ]
        },
        {
          "output_type": "execute_result",
          "data": {
            "text/plain": [
              "array([[0.7939891 , 0.20601083],\n",
              "       [0.8244293 , 0.17557073],\n",
              "       [0.7963814 , 0.20361856],\n",
              "       [0.7166651 , 0.28333485],\n",
              "       [0.5391874 , 0.46081248],\n",
              "       [0.54283226, 0.4571678 ],\n",
              "       [0.7495932 , 0.2504068 ],\n",
              "       [0.56291145, 0.43708867],\n",
              "       [0.60101175, 0.39898822],\n",
              "       [0.6448802 , 0.35511982],\n",
              "       [0.7495932 , 0.2504068 ],\n",
              "       [0.53923994, 0.46075997],\n",
              "       [0.2575805 , 0.74241954],\n",
              "       [0.81239057, 0.1876094 ],\n",
              "       [0.4836044 , 0.51639557],\n",
              "       [0.62303454, 0.37696546],\n",
              "       [0.6484726 , 0.3515274 ],\n",
              "       [0.64360607, 0.35639393],\n",
              "       [0.6213315 , 0.37866852],\n",
              "       [0.85007995, 0.14992009],\n",
              "       [0.5745366 , 0.42546344],\n",
              "       [0.35325265, 0.64674735],\n",
              "       [0.40340012, 0.5965998 ],\n",
              "       [0.38371712, 0.61628294],\n",
              "       [0.42435387, 0.5756461 ],\n",
              "       [0.8349778 , 0.16502218],\n",
              "       [0.38873428, 0.61126566],\n",
              "       [0.662685  , 0.3373151 ],\n",
              "       [0.48223802, 0.51776195],\n",
              "       [0.6532127 , 0.3467873 ],\n",
              "       [0.7815599 , 0.21844015],\n",
              "       [0.65995884, 0.34004116],\n",
              "       [0.5376719 , 0.46232802],\n",
              "       [0.539423  , 0.460577  ],\n",
              "       [0.29476947, 0.70523053],\n",
              "       [0.6082908 , 0.3917091 ],\n",
              "       [0.7495932 , 0.2504068 ],\n",
              "       [0.64360607, 0.35639393],\n",
              "       [0.6933164 , 0.3066836 ],\n",
              "       [0.7495932 , 0.2504068 ],\n",
              "       [0.7532447 , 0.24675524],\n",
              "       [0.40340012, 0.5965998 ],\n",
              "       [0.8376788 , 0.16232127],\n",
              "       [0.6199548 , 0.3800451 ],\n",
              "       [0.46109077, 0.53890926],\n",
              "       [0.6933164 , 0.3066836 ],\n",
              "       [0.5274937 , 0.47250628],\n",
              "       [0.7495932 , 0.2504068 ],\n",
              "       [0.646699  , 0.35330102],\n",
              "       [0.6058045 , 0.39419553],\n",
              "       [0.262663  , 0.73733705],\n",
              "       [0.6024231 , 0.3975769 ],\n",
              "       [0.56221235, 0.4377876 ],\n",
              "       [0.28514418, 0.7148558 ],\n",
              "       [0.6199548 , 0.3800451 ],\n",
              "       [0.84213054, 0.15786947],\n",
              "       [0.79854393, 0.20145607],\n",
              "       [0.6933164 , 0.3066836 ],\n",
              "       [0.660084  , 0.33991602],\n",
              "       [0.43224475, 0.56775516],\n",
              "       [0.586323  , 0.413677  ],\n",
              "       [0.6314744 , 0.36852565],\n",
              "       [0.6010118 , 0.39898822],\n",
              "       [0.65638036, 0.34361956],\n",
              "       [0.2049181 , 0.7950819 ],\n",
              "       [0.6199548 , 0.3800451 ],\n",
              "       [0.60101175, 0.39898822],\n",
              "       [0.55132294, 0.448677  ],\n",
              "       [0.40834916, 0.5916507 ],\n",
              "       [0.5152781 , 0.48472205],\n",
              "       [0.6812485 , 0.31875154],\n",
              "       [0.64360607, 0.35639393],\n",
              "       [0.73890585, 0.26109412],\n",
              "       [0.39578354, 0.6042165 ],\n",
              "       [0.42473632, 0.5752637 ],\n",
              "       [0.41435975, 0.58564013],\n",
              "       [0.7495932 , 0.2504068 ],\n",
              "       [0.6588802 , 0.3411198 ],\n",
              "       [0.6199548 , 0.3800451 ],\n",
              "       [0.6812485 , 0.31875154],\n",
              "       [0.47988704, 0.520113  ],\n",
              "       [0.6477387 , 0.35226128],\n",
              "       [0.5721102 , 0.42788976],\n",
              "       [0.7495932 , 0.2504068 ],\n",
              "       [0.6199548 , 0.3800451 ],\n",
              "       [0.660084  , 0.33991602],\n",
              "       [0.7166651 , 0.28333485],\n",
              "       [0.60101175, 0.39898822],\n",
              "       [0.7495932 , 0.2504068 ],\n",
              "       [0.10641219, 0.8935878 ],\n",
              "       [0.5706774 , 0.42932254],\n",
              "       [0.7495932 , 0.2504068 ],\n",
              "       [0.301311  , 0.69868904],\n",
              "       [0.7495932 , 0.2504068 ],\n",
              "       [0.37821248, 0.62178755],\n",
              "       [0.6933164 , 0.30668366],\n",
              "       [0.68761986, 0.3123802 ],\n",
              "       [0.73890585, 0.26109412],\n",
              "       [0.6298293 , 0.3701707 ],\n",
              "       [0.77987003, 0.22013003],\n",
              "       [0.43873468, 0.5612654 ],\n",
              "       [0.6402003 , 0.3597997 ],\n",
              "       [0.7495932 , 0.2504068 ],\n",
              "       [0.7051252 , 0.2948748 ],\n",
              "       [0.54335636, 0.45664373],\n",
              "       [0.72792786, 0.27207217],\n",
              "       [0.64360607, 0.35639393],\n",
              "       [0.7495932 , 0.2504068 ],\n",
              "       [0.7495932 , 0.2504068 ],\n",
              "       [0.5461551 , 0.45384485],\n",
              "       [0.6791792 , 0.32082075],\n",
              "       [0.7495932 , 0.2504068 ],\n",
              "       [0.43224475, 0.56775516],\n",
              "       [0.6082908 , 0.3917091 ],\n",
              "       [0.62243253, 0.37756744],\n",
              "       [0.5557932 , 0.4442068 ],\n",
              "       [0.7495932 , 0.2504068 ],\n",
              "       [0.44568533, 0.5543147 ],\n",
              "       [0.43224475, 0.56775516],\n",
              "       [0.6514511 , 0.34854895],\n",
              "       [0.4348625 , 0.56513757],\n",
              "       [0.660084  , 0.33991602],\n",
              "       [0.3376163 , 0.6623837 ],\n",
              "       [0.72792786, 0.27207217],\n",
              "       [0.7495932 , 0.2504068 ],\n",
              "       [0.45184526, 0.5481548 ],\n",
              "       [0.65638036, 0.34361956],\n",
              "       [0.65321255, 0.34678736],\n",
              "       [0.6847155 , 0.3152845 ],\n",
              "       [0.6812485 , 0.31875154],\n",
              "       [0.7700785 , 0.22992162],\n",
              "       [0.60546637, 0.3945336 ],\n",
              "       [0.26446676, 0.73553324],\n",
              "       [0.660084  , 0.33991602],\n",
              "       [0.8439798 , 0.15602024],\n",
              "       [0.6812485 , 0.31875154],\n",
              "       [0.7109294 , 0.28907064],\n",
              "       [0.5965178 , 0.40348223],\n",
              "       [0.66893226, 0.33106774],\n",
              "       [0.6770887 , 0.3229113 ],\n",
              "       [0.9317009 , 0.06829914],\n",
              "       [0.41636908, 0.5836308 ],\n",
              "       [0.5000301 , 0.49996993],\n",
              "       [0.6082988 , 0.39170125],\n",
              "       [0.4935242 , 0.50647575],\n",
              "       [0.71886677, 0.2811332 ],\n",
              "       [0.40340012, 0.5965998 ],\n",
              "       [0.65638036, 0.34361967],\n",
              "       [0.40340012, 0.5965998 ],\n",
              "       [0.5899417 , 0.4100582 ],\n",
              "       [0.39377514, 0.6062249 ],\n",
              "       [0.7495932 , 0.2504068 ],\n",
              "       [0.74532527, 0.25467473],\n",
              "       [0.75593233, 0.24406768],\n",
              "       [0.98144114, 0.01855891],\n",
              "       [0.79424846, 0.20575157],\n",
              "       [0.30239096, 0.69760907],\n",
              "       [0.7939014 , 0.20609851],\n",
              "       [0.4520771 , 0.54792297],\n",
              "       [0.58585906, 0.41414097],\n",
              "       [0.7959646 , 0.20403528],\n",
              "       [0.30177394, 0.69822603],\n",
              "       [0.49771443, 0.50228554],\n",
              "       [0.7959646 , 0.20403528],\n",
              "       [0.58126   , 0.41873994],\n",
              "       [0.7938986 , 0.20610143],\n",
              "       [0.56320953, 0.43679056],\n",
              "       [0.9103684 , 0.08963159],\n",
              "       [0.3133674 , 0.6866326 ],\n",
              "       [0.7933406 , 0.20665929],\n",
              "       [0.7959646 , 0.20403528],\n",
              "       [0.7953116 , 0.2046884 ],\n",
              "       [0.807767  , 0.19223295],\n",
              "       [0.7959646 , 0.20403528],\n",
              "       [0.9810465 , 0.01895347],\n",
              "       [0.01271641, 0.9872836 ],\n",
              "       [0.27348036, 0.72651964],\n",
              "       [0.23070832, 0.76929164],\n",
              "       [0.04976872, 0.9502314 ],\n",
              "       [0.7901145 , 0.20988536],\n",
              "       [0.52798605, 0.47201404],\n",
              "       [0.17208108, 0.8279188 ],\n",
              "       [0.08047406, 0.91952586],\n",
              "       [0.7959646 , 0.20403528],\n",
              "       [0.12868989, 0.8713102 ],\n",
              "       [0.57647985, 0.42352012],\n",
              "       [0.09259765, 0.90740234],\n",
              "       [0.7477883 , 0.25221172],\n",
              "       [0.99669164, 0.00330826],\n",
              "       [0.57647985, 0.42352012],\n",
              "       [0.54412395, 0.45587596],\n",
              "       [0.3133674 , 0.6866326 ],\n",
              "       [0.4352042 , 0.5647958 ],\n",
              "       [0.7009775 , 0.2990225 ],\n",
              "       [0.00646541, 0.99353456],\n",
              "       [0.7919457 , 0.2080543 ],\n",
              "       [0.1287622 , 0.8712379 ],\n",
              "       [0.77433014, 0.22566982],\n",
              "       [0.38369483, 0.61630523],\n",
              "       [0.7959646 , 0.20403528],\n",
              "       [0.7959646 , 0.20403528],\n",
              "       [0.08678648, 0.91321355],\n",
              "       [0.19110075, 0.8088992 ],\n",
              "       [0.01934196, 0.9806582 ],\n",
              "       [0.46591175, 0.5340883 ],\n",
              "       [0.3133674 , 0.6866326 ],\n",
              "       [0.78850466, 0.21149528],\n",
              "       [0.42457882, 0.5754211 ],\n",
              "       [0.34512767, 0.65487224],\n",
              "       [0.79459506, 0.20540501],\n",
              "       [0.7933095 , 0.20669048],\n",
              "       [0.7959646 , 0.20403528],\n",
              "       [0.18480025, 0.8151997 ],\n",
              "       [0.720256  , 0.27974406],\n",
              "       [0.9748661 , 0.02513393],\n",
              "       [0.45207706, 0.547923  ],\n",
              "       [0.7959646 , 0.20403528],\n",
              "       [0.29963222, 0.7003678 ],\n",
              "       [0.2446413 , 0.7553587 ],\n",
              "       [0.7959646 , 0.20403528],\n",
              "       [0.48704168, 0.5129583 ],\n",
              "       [0.79222256, 0.2077774 ],\n",
              "       [0.34573576, 0.6542643 ],\n",
              "       [0.79222256, 0.20777744],\n",
              "       [0.6525454 , 0.3474546 ],\n",
              "       [0.6642955 , 0.33570445],\n",
              "       [0.7939014 , 0.20609851],\n",
              "       [0.7959646 , 0.20403528],\n",
              "       [0.7783322 , 0.2216678 ],\n",
              "       [0.55823034, 0.44176963],\n",
              "       [0.11799973, 0.8820002 ],\n",
              "       [0.22416888, 0.7758311 ],\n",
              "       [0.806805  , 0.19319502],\n",
              "       [0.7959646 , 0.20403528],\n",
              "       [0.15245023, 0.84754974],\n",
              "       [0.7890862 , 0.21091372],\n",
              "       [0.35760596, 0.642394  ],\n",
              "       [0.7890862 , 0.21091372],\n",
              "       [0.05667816, 0.94332176],\n",
              "       [0.1964243 , 0.80357575],\n",
              "       [0.68579704, 0.31420285],\n",
              "       [0.37995297, 0.62004703],\n",
              "       [0.21453579, 0.7854642 ],\n",
              "       [0.7959646 , 0.20403528],\n",
              "       [0.87503964, 0.12496033],\n",
              "       [0.16146716, 0.83853287],\n",
              "       [0.34573573, 0.65426433],\n",
              "       [0.53039855, 0.46960154],\n",
              "       [0.46270904, 0.53729093],\n",
              "       [0.80571985, 0.19428013],\n",
              "       [0.00451662, 0.9954833 ],\n",
              "       [0.7890862 , 0.21091372],\n",
              "       [0.1067413 , 0.8932587 ],\n",
              "       [0.79424846, 0.20575157],\n",
              "       [0.7926284 , 0.20737156],\n",
              "       [0.7959646 , 0.20403527],\n",
              "       [0.7959646 , 0.20403528],\n",
              "       [0.7956702 , 0.20432971],\n",
              "       [0.24006937, 0.7599306 ],\n",
              "       [0.79222256, 0.2077774 ],\n",
              "       [0.8007024 , 0.19929762],\n",
              "       [0.79222256, 0.2077774 ],\n",
              "       [0.07639941, 0.9236006 ],\n",
              "       [0.18332367, 0.81667626],\n",
              "       [0.52798605, 0.47201404],\n",
              "       [0.7959646 , 0.20403528],\n",
              "       [0.3133674 , 0.6866326 ],\n",
              "       [0.7959646 , 0.20403528],\n",
              "       [0.7959646 , 0.20403528],\n",
              "       [0.7624414 , 0.23755856],\n",
              "       [0.5259213 , 0.47407866],\n",
              "       [0.7959646 , 0.20403528],\n",
              "       [0.10353518, 0.8964648 ],\n",
              "       [0.80571985, 0.19428013],\n",
              "       [0.7959646 , 0.20403528],\n",
              "       [0.1962906 , 0.8037094 ],\n",
              "       [0.51608706, 0.48391294],\n",
              "       [0.59007466, 0.40992525],\n",
              "       [0.48704168, 0.5129583 ],\n",
              "       [0.34573573, 0.65426433],\n",
              "       [0.7939014 , 0.20609851],\n",
              "       [0.18009408, 0.819906  ],\n",
              "       [0.7959646 , 0.20403528],\n",
              "       [0.35824332, 0.64175665],\n",
              "       [0.19669078, 0.8033092 ],\n",
              "       [0.78674227, 0.21325769],\n",
              "       [0.7959646 , 0.20403527],\n",
              "       [0.09737765, 0.9026223 ],\n",
              "       [0.7959646 , 0.20403528],\n",
              "       [0.7959646 , 0.20403528],\n",
              "       [0.3133674 , 0.6866326 ],\n",
              "       [0.7959646 , 0.20403528],\n",
              "       [0.7959646 , 0.20403528],\n",
              "       [0.26414472, 0.7358553 ],\n",
              "       [0.78674227, 0.21325769],\n",
              "       [0.7949525 , 0.20504753],\n",
              "       [0.0045465 , 0.9954534 ],\n",
              "       [0.82478136, 0.17521852],\n",
              "       [0.3133674 , 0.6866326 ],\n",
              "       [0.7960285 , 0.20397148],\n",
              "       [0.7933095 , 0.20669048],\n",
              "       [0.52798605, 0.47201404],\n",
              "       [0.5391979 , 0.46080202],\n",
              "       [0.79424846, 0.20575157],\n",
              "       [0.7959646 , 0.20403528],\n",
              "       [0.4072565 , 0.5927435 ],\n",
              "       [0.16799681, 0.8320032 ],\n",
              "       [0.19358224, 0.8064177 ],\n",
              "       [0.27994925, 0.7200507 ],\n",
              "       [0.784449  , 0.21555099],\n",
              "       [0.77433014, 0.22566982],\n",
              "       [0.7933406 , 0.20665929],\n",
              "       [0.7959646 , 0.20403528],\n",
              "       [0.7849691 , 0.21503071],\n",
              "       [0.68579704, 0.31420285],\n",
              "       [0.7624414 , 0.23755856],\n",
              "       [0.25690177, 0.74309814],\n",
              "       [0.24006937, 0.7599306 ],\n",
              "       [0.7953116 , 0.20468839],\n",
              "       [0.26759237, 0.7324075 ],\n",
              "       [0.7949525 , 0.20504753],\n",
              "       [0.79459506, 0.20540501],\n",
              "       [0.49771443, 0.50228554],\n",
              "       [0.34512767, 0.65487224],\n",
              "       [0.41188174, 0.5881183 ],\n",
              "       [0.7939014 , 0.20609851],\n",
              "       [0.03712915, 0.96287084],\n",
              "       [0.5259213 , 0.47407866],\n",
              "       [0.46270904, 0.53729093],\n",
              "       [0.30857468, 0.69142526],\n",
              "       [0.4591842 , 0.5408157 ],\n",
              "       [0.41188174, 0.5881183 ],\n",
              "       [0.7959646 , 0.20403528],\n",
              "       [0.66795784, 0.33204225],\n",
              "       [0.7953116 , 0.2046884 ],\n",
              "       [0.3133674 , 0.6866326 ],\n",
              "       [0.53954184, 0.4604581 ],\n",
              "       [0.7963922 , 0.20360772],\n",
              "       [0.46591175, 0.5340883 ],\n",
              "       [0.7959646 , 0.20403528],\n",
              "       [0.21178807, 0.7882119 ],\n",
              "       [0.7933095 , 0.20669048],\n",
              "       [0.99408937, 0.00591066],\n",
              "       [0.7429866 , 0.25701335],\n",
              "       [0.8209318 , 0.17906818],\n",
              "       [0.7469524 , 0.2530476 ],\n",
              "       [0.49771443, 0.50228554],\n",
              "       [0.7831729 , 0.21682703],\n",
              "       [0.42457882, 0.5754211 ],\n",
              "       [0.5337685 , 0.4662315 ],\n",
              "       [0.52429634, 0.47570363],\n",
              "       [0.46591175, 0.5340883 ],\n",
              "       [0.21178807, 0.7882119 ],\n",
              "       [0.4735102 , 0.5264899 ],\n",
              "       [0.1058896 , 0.8941104 ],\n",
              "       [0.5997965 , 0.40020356],\n",
              "       [0.09345847, 0.90654147],\n",
              "       [0.7959646 , 0.20403528],\n",
              "       [0.7959646 , 0.20403528],\n",
              "       [0.80571985, 0.19428013],\n",
              "       [0.99725777, 0.00274228],\n",
              "       [0.11429098, 0.885709  ],\n",
              "       [0.5337685 , 0.4662315 ],\n",
              "       [0.7953116 , 0.2046884 ],\n",
              "       [0.10041445, 0.8995855 ],\n",
              "       [0.99408937, 0.00591066],\n",
              "       [0.80571985, 0.19428013],\n",
              "       [0.7933406 , 0.20665929],\n",
              "       [0.5242964 , 0.47570357],\n",
              "       [0.52215064, 0.47784945],\n",
              "       [0.21450801, 0.78549194],\n",
              "       [0.32406595, 0.6759341 ],\n",
              "       [0.5816153 , 0.4183847 ],\n",
              "       [0.59550613, 0.40449384],\n",
              "       [0.27113938, 0.7288605 ],\n",
              "       [0.50714165, 0.49285826],\n",
              "       [0.8178401 , 0.18215986],\n",
              "       [0.30857468, 0.69142526],\n",
              "       [0.68579704, 0.31420285],\n",
              "       [0.9784023 , 0.02159769],\n",
              "       [0.7959646 , 0.20403528],\n",
              "       [0.7949525 , 0.20504753],\n",
              "       [0.7959646 , 0.20403527],\n",
              "       [0.8025836 , 0.19741634],\n",
              "       [0.52798605, 0.47201404],\n",
              "       [0.03996614, 0.96003395],\n",
              "       [0.79424846, 0.20575157],\n",
              "       [0.6785166 , 0.32148337],\n",
              "       [0.79222256, 0.2077774 ],\n",
              "       [0.8007446 , 0.1992555 ],\n",
              "       [0.24186493, 0.7581351 ],\n",
              "       [0.63369566, 0.3663042 ],\n",
              "       [0.35613495, 0.6438651 ],\n",
              "       [0.60959303, 0.39040697],\n",
              "       [0.9414352 , 0.05856469],\n",
              "       [0.08047406, 0.91952586],\n",
              "       [0.79424846, 0.20575157],\n",
              "       [0.23226607, 0.7677339 ],\n",
              "       [0.7933406 , 0.20665929],\n",
              "       [0.7946669 , 0.20533323],\n",
              "       [0.3133674 , 0.6866326 ],\n",
              "       [0.5784802 , 0.4215198 ],\n",
              "       [0.2401767 , 0.7598232 ],\n",
              "       [0.19178365, 0.8082162 ],\n",
              "       [0.17090985, 0.8290902 ],\n",
              "       [0.27348036, 0.72651964],\n",
              "       [0.26328605, 0.7367139 ],\n",
              "       [0.2446413 , 0.7553587 ],\n",
              "       [0.7959646 , 0.20403528],\n",
              "       [0.21207638, 0.7879236 ],\n",
              "       [0.7959646 , 0.20403528],\n",
              "       [0.1438504 , 0.85614955],\n",
              "       [0.7956702 , 0.20432971],\n",
              "       [0.7959646 , 0.20403528],\n",
              "       [0.41188174, 0.5881183 ],\n",
              "       [0.78219885, 0.21780111],\n",
              "       [0.79596466, 0.20403528],\n",
              "       [0.8209318 , 0.17906818]], dtype=float32)"
            ]
          },
          "metadata": {},
          "execution_count": 66
        }
      ]
    },
    {
      "cell_type": "code",
      "source": [
        "o.shape"
      ],
      "metadata": {
        "colab": {
          "base_uri": "https://localhost:8080/"
        },
        "id": "qG54opS7lJRz",
        "outputId": "ede5ce4a-dac2-4c1a-9c48-9ae8136c1613"
      },
      "execution_count": null,
      "outputs": [
        {
          "output_type": "execute_result",
          "data": {
            "text/plain": [
              "(418, 2)"
            ]
          },
          "metadata": {},
          "execution_count": 67
        }
      ]
    },
    {
      "cell_type": "code",
      "source": [
        "#출력 노드 2개 중 큰 값이 있는 노드(인덱스를 출력 - 0 또는 1)가 승객의 생존 여부를 나타냄.\n",
        "o = np.argmax(o,-1)\n",
        "o"
      ],
      "metadata": {
        "colab": {
          "base_uri": "https://localhost:8080/"
        },
        "id": "trpRE-F0_cNs",
        "outputId": "274f73c1-0602-49a5-8a29-43e854ede8c4"
      },
      "execution_count": null,
      "outputs": [
        {
          "output_type": "execute_result",
          "data": {
            "text/plain": [
              "array([0, 0, 0, 0, 0, 0, 0, 0, 0, 0, 0, 0, 1, 0, 1, 0, 0, 0, 0, 0, 0, 1,\n",
              "       1, 1, 1, 0, 1, 0, 1, 0, 0, 0, 0, 0, 1, 0, 0, 0, 0, 0, 0, 1, 0, 0,\n",
              "       1, 0, 0, 0, 0, 0, 1, 0, 0, 1, 0, 0, 0, 0, 0, 1, 0, 0, 0, 0, 1, 0,\n",
              "       0, 0, 1, 0, 0, 0, 0, 1, 1, 1, 0, 0, 0, 0, 1, 0, 0, 0, 0, 0, 0, 0,\n",
              "       0, 1, 0, 0, 1, 0, 1, 0, 0, 0, 0, 0, 1, 0, 0, 0, 0, 0, 0, 0, 0, 0,\n",
              "       0, 0, 1, 0, 0, 0, 0, 1, 1, 0, 1, 0, 1, 0, 0, 1, 0, 0, 0, 0, 0, 0,\n",
              "       1, 0, 0, 0, 0, 0, 0, 0, 0, 1, 0, 0, 1, 0, 1, 0, 1, 0, 1, 0, 0, 0,\n",
              "       0, 0, 1, 0, 1, 0, 0, 1, 1, 0, 0, 0, 0, 0, 1, 0, 0, 0, 0, 0, 0, 1,\n",
              "       1, 1, 1, 0, 0, 1, 1, 0, 1, 0, 1, 0, 0, 0, 0, 1, 1, 0, 1, 0, 1, 0,\n",
              "       1, 0, 0, 1, 1, 1, 1, 1, 0, 1, 1, 0, 0, 0, 1, 0, 0, 1, 0, 1, 1, 0,\n",
              "       1, 0, 1, 0, 0, 0, 0, 0, 0, 0, 1, 1, 0, 0, 1, 0, 1, 0, 1, 1, 0, 1,\n",
              "       1, 0, 0, 1, 1, 0, 1, 0, 1, 0, 1, 0, 0, 0, 0, 0, 1, 0, 0, 0, 1, 1,\n",
              "       0, 0, 1, 0, 0, 0, 0, 0, 1, 0, 0, 1, 0, 0, 1, 1, 0, 1, 0, 1, 1, 0,\n",
              "       0, 1, 0, 0, 1, 0, 0, 1, 0, 0, 1, 0, 1, 0, 0, 0, 0, 0, 0, 1, 1, 1,\n",
              "       1, 0, 0, 0, 0, 0, 0, 0, 1, 1, 0, 1, 0, 0, 1, 1, 1, 0, 1, 0, 1, 1,\n",
              "       1, 1, 0, 0, 0, 1, 0, 0, 1, 0, 1, 0, 0, 0, 0, 0, 1, 0, 1, 0, 0, 1,\n",
              "       1, 1, 1, 0, 1, 0, 0, 0, 0, 1, 0, 0, 1, 0, 0, 0, 0, 0, 1, 1, 0, 0,\n",
              "       1, 0, 0, 1, 0, 0, 0, 0, 0, 0, 0, 1, 0, 0, 0, 0, 1, 0, 1, 0, 0, 1,\n",
              "       0, 1, 0, 0, 1, 0, 1, 1, 1, 1, 1, 1, 0, 1, 0, 1, 0, 0, 1, 0, 0, 0])"
            ]
          },
          "metadata": {},
          "execution_count": 68
        }
      ]
    },
    {
      "cell_type": "markdown",
      "source": [
        "### 최종 제출 파일"
      ],
      "metadata": {
        "id": "N4c_Vayyl88m"
      }
    }
  ]
}