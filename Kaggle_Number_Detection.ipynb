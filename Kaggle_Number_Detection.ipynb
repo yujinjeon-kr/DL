{
  "nbformat": 4,
  "nbformat_minor": 0,
  "metadata": {
    "colab": {
      "provenance": []
    },
    "kernelspec": {
      "name": "python3",
      "display_name": "Python 3"
    },
    "language_info": {
      "name": "python"
    }
  },
  "cells": [
    {
      "cell_type": "markdown",
      "source": [
        "# 7.4 합성곱 신경망과 숫자 이미지 인식"
      ],
      "metadata": {
        "id": "k9n_Qs7dRb1r"
      }
    },
    {
      "cell_type": "markdown",
      "source": [
        "## 7.4.1 MNIST 데이터셋"
      ],
      "metadata": {
        "id": "Hd2m6N50RhAB"
      }
    },
    {
      "cell_type": "code",
      "source": [
        "from google.colab import drive\n",
        "drive.mount('/content/drive')"
      ],
      "metadata": {
        "colab": {
          "base_uri": "https://localhost:8080/"
        },
        "id": "EzAuOtmLILxG",
        "outputId": "6b314a6b-56ff-48d1-fc8c-153c469ff404"
      },
      "execution_count": null,
      "outputs": [
        {
          "output_type": "stream",
          "name": "stdout",
          "text": [
            "Drive already mounted at /content/drive; to attempt to forcibly remount, call drive.mount(\"/content/drive\", force_remount=True).\n"
          ]
        }
      ]
    },
    {
      "cell_type": "code",
      "source": [
        "import pandas as pd\n",
        "import numpy as np\n",
        "\n",
        "data = pd.read_csv('./sample_data/mnist_train_small.csv', header=None)\n",
        "data = np.array(data)"
      ],
      "metadata": {
        "id": "47fkVNWOIthU"
      },
      "execution_count": null,
      "outputs": []
    },
    {
      "cell_type": "code",
      "source": [
        "print(data)\n",
        "print(data.shape)\n",
        "\n",
        "# 20000x785 크기의 배열\n",
        "# 0번째 열은 정답정보 (해당 데이터가 어느 숫자인지 0~9사이),\n",
        "# 1번째열부터 마지막열까지 이미지 데이터 28x28 이미지의 픽셀정보가 1차원상에 배열(784)"
      ],
      "metadata": {
        "colab": {
          "base_uri": "https://localhost:8080/"
        },
        "id": "ZlD9KXOuItel",
        "outputId": "e37adb71-1838-44e4-d5ce-d05bf4f82a8c"
      },
      "execution_count": null,
      "outputs": [
        {
          "output_type": "stream",
          "name": "stdout",
          "text": [
            "[[6 0 0 ... 0 0 0]\n",
            " [5 0 0 ... 0 0 0]\n",
            " [7 0 0 ... 0 0 0]\n",
            " ...\n",
            " [2 0 0 ... 0 0 0]\n",
            " [9 0 0 ... 0 0 0]\n",
            " [5 0 0 ... 0 0 0]]\n",
            "(20000, 785)\n"
          ]
        }
      ]
    },
    {
      "cell_type": "code",
      "source": [
        "# 1차원의 배경 안에 0부터 255의 값이 들어있음\n",
        "print(data[0,:])"
      ],
      "metadata": {
        "colab": {
          "base_uri": "https://localhost:8080/"
        },
        "id": "xQQp8kclItb0",
        "outputId": "7a2a9a06-5095-4935-f12c-c74c782ed799"
      },
      "execution_count": null,
      "outputs": [
        {
          "output_type": "stream",
          "name": "stdout",
          "text": [
            "[  6   0   0   0   0   0   0   0   0   0   0   0   0   0   0   0   0   0\n",
            "   0   0   0   0   0   0   0   0   0   0   0   0   0   0   0   0   0   0\n",
            "   0   0   0   0   0   0   0   0   0   0   0   0   0   0   0   0   0   0\n",
            "   0   0   0   0   0   0   0   0   0   0   0   0   0   0   0   0   0   0\n",
            "   0   0   0   0   0   0   0   0   0   0   0   0   0   0   0   0   0   0\n",
            "   0   0   0   0   0   0   0   0   0   0   0   0   0   0   0   0   0   0\n",
            "   0   0   0   0   0   0   0   0   0   0   0   0   0   0   0  24  67  67\n",
            "  18   0   0   0   0   0   0   0   0   0   0   0   0   0   0   0   0   0\n",
            "   0   0   0   0   0   0   0 131 252 252  66   0   0   0   0   0   0   0\n",
            "   0   0   0   0   0   0   0   0   0   0   0   0   0   0   0   0 159 250\n",
            " 232  30  32   0   0   0   0   0   0   0   0   0   0   0   0   0   0   0\n",
            "   0   0   0   0   0   0   0  15 222 252 108   0   0   0   0   0   0   0\n",
            "   0   0   0   0   0   0   0   0   0   0   0   0   0   0   0   0   0 147\n",
            " 252 183   5   0   0   0   0   0   0   0  20  89  89  73   0   0   0   0\n",
            "   0   0   0   0   0   0   0   0  48 247 252 159   0   0   0   0   0   0\n",
            "   0  79 236 252 252 249 198  16   0   0   0   0   0   0   0   0   0  41\n",
            " 193 252 199  22   0   0   0   0   0  12 135 248 252 252 252 252 252 100\n",
            "   0   0   0   0   0   0   0   0   0 100 252 252  88   0   0   0   0   0\n",
            "  11 171 252 252 235 175 178 252 252 224   0   0   0   0   0   0   0   0\n",
            "  15 209 252 233  12   0   0   0   0  49 177 252 252  89  26   0   2 166\n",
            " 252 252   0   0   0   0   0   0   0   0  96 253 253  59   0   0   0   0\n",
            "  11 177 255 253  92   0   0   0   0 155 253 128   0   0   0   0   0   0\n",
            "   0   0 143 252 252  10   0   0   0  12 171 252 216 110  13   0   0   0\n",
            "   3 180 232  24   0   0   0   0   0   0   0   0 143 252 170   2   0   0\n",
            "   0 135 252 209  19   0   0   0   0   0  12 252 132   0   0   0   0   0\n",
            "   0   0   0   0 249 252  96   0   0   0  21 248 246  34   0   0   0   0\n",
            "   5  61 234 152   3   0   0   0   0   0   0   0   0   0 253 252  44   0\n",
            "   0   0 145 252 104   0   0   0  46 114 184 252 149  34   0   0   0   0\n",
            "   0   0   0   0   0   0 253 252  82   0   0  31 239 252  66  39  89 165\n",
            " 243 252 233 126   5   0   0   0   0   0   0   0   0   0   0   0 249 252\n",
            " 244 126  98 143 252 252 237 240 253 252 243 174  17   0   0   0   0   0\n",
            "   0   0   0   0   0   0   0   0 119 239 252 252 252 252 252 252 252 252\n",
            " 228 179  17   0   0   0   0   0   0   0   0   0   0   0   0   0   0   0\n",
            "   0  46  66  66  66  66  66  66  66  66  29   0   0   0   0   0   0   0\n",
            "   0   0   0   0   0   0   0   0   0   0   0   0   0   0   0   0   0   0\n",
            "   0   0   0   0   0   0   0   0   0   0   0   0   0   0   0   0   0   0\n",
            "   0   0   0   0   0   0   0   0   0   0   0   0   0   0   0   0   0   0\n",
            "   0   0   0   0   0   0   0   0   0   0   0   0   0   0   0   0   0   0\n",
            "   0   0   0   0   0   0   0   0   0   0   0   0   0   0   0   0   0   0\n",
            "   0   0   0   0   0   0   0   0   0   0   0   0   0   0   0   0   0   0\n",
            "   0   0   0   0   0   0   0   0   0   0   0   0   0   0   0   0   0   0\n",
            "   0   0   0   0   0   0   0   0   0   0   0   0   0   0   0   0   0   0\n",
            "   0   0   0   0   0   0   0   0   0   0   0   0   0   0   0   0   0   0\n",
            "   0   0   0   0   0   0   0   0   0   0   0]\n"
          ]
        }
      ]
    },
    {
      "cell_type": "code",
      "source": [
        "# 1번째 열부터 x train\n",
        "x_train = data[:, 1:]\n",
        "\n",
        "# 0번째 열은 y train\n",
        "y_train = data[:,0]\n",
        "\n",
        "# 길이 784인 1차원 배열을 28x28인 2차원 배열로 변환\n",
        "x_train = x_train.reshape(-1, 28, 28)              # -1은 뒤에 숫자에 따라 가변적으로 정해짐"
      ],
      "metadata": {
        "id": "uwEftkxNItYs"
      },
      "execution_count": null,
      "outputs": []
    },
    {
      "cell_type": "code",
      "source": [
        "# 바뀐 배열의 모양 출력\n",
        "x_train.shape\n",
        "\n",
        "# 현재 3차원 (20000x28x28)"
      ],
      "metadata": {
        "colab": {
          "base_uri": "https://localhost:8080/"
        },
        "id": "kQWJMl-1ItRN",
        "outputId": "46fb6d07-ace9-420b-aec4-3f1c4c2d7660"
      },
      "execution_count": null,
      "outputs": [
        {
          "output_type": "execute_result",
          "data": {
            "text/plain": [
              "(20000, 28, 28)"
            ]
          },
          "metadata": {},
          "execution_count": 6
        }
      ]
    },
    {
      "cell_type": "code",
      "source": [
        "import matplotlib.pyplot as plt\n",
        "\n",
        "# MNIST 데이터셋의 첫 번째 데이터를 이미지로 보여주기\n",
        "plt.imshow(x_train[0,:,:])"
      ],
      "metadata": {
        "colab": {
          "base_uri": "https://localhost:8080/",
          "height": 448
        },
        "id": "ygVUJoqDNq-7",
        "outputId": "716a3e40-90fa-40e4-a16b-17a4dbf97428"
      },
      "execution_count": null,
      "outputs": [
        {
          "output_type": "execute_result",
          "data": {
            "text/plain": [
              "<matplotlib.image.AxesImage at 0x7d4516bd7f70>"
            ]
          },
          "metadata": {},
          "execution_count": 7
        },
        {
          "output_type": "display_data",
          "data": {
            "text/plain": [
              "<Figure size 640x480 with 1 Axes>"
            ],
            "image/png": "[encoded data removed]"
          },
          "metadata": {}
        }
      ]
    },
    {
      "cell_type": "markdown",
      "source": [
        "## 7.4.2 딥러닝 모델 생성과 학습"
      ],
      "metadata": {
        "id": "zJLqbN5qOKob"
      }
    },
    {
      "cell_type": "code",
      "source": [
        "# 손글씨 이미지 학습 - 합성곱 신경망의 모델 생성위해 필요한 라이브러리 설치\n",
        "import tensorflow.keras as keras\n",
        "from keras.models import Sequential\n",
        "from keras import layers\n",
        "from keras import optimizers"
      ],
      "metadata": {
        "id": "fgR4kRMDNq8L"
      },
      "execution_count": null,
      "outputs": []
    },
    {
      "cell_type": "code",
      "source": [
        "# 3차원 데이터를 4차원으로 수정 (20000 x 28 x28 x1)\n",
        "x_train = np.expand_dims(x_train,-1)\n",
        "\n",
        "# 타깃정보 one-hot-encoding\n",
        "y_train = keras.utils.to_categorical(y_train)"
      ],
      "metadata": {
        "id": "Dp737toMNq5L"
      },
      "execution_count": null,
      "outputs": []
    },
    {
      "cell_type": "code",
      "source": [
        "# 손글씨를 인식하기 위한 네트워크 구조\n",
        "model = Sequential()\n",
        "model.add(layers.Conv2D(filters=8, kernel_size=3, input_shape=(28,28,1), activation='relu'))\n",
        "model.add(layers.Conv2D(filters=16, kernel_size=3, activation='relu'))\n",
        "model.add(layers.MaxPooling2D(strides=2, padding='same'))\n",
        "model.add(layers.Flatten())\n",
        "model.add(layers.Dense(units=10, activation='softmax'))\n",
        "model.compile(loss='categorical_crossentropy', optimizer=optimizers.RMSprop(learning_rate=0.001), metrics=['accuracy'])\n",
        "\n",
        "'''\n",
        "합성곱층 기술법\n",
        "Conv2D : 이미지를 위한 2차원 합성곱층\n",
        "MaxPooling층 : MaxPooling2D\n",
        "Flatten층 : Flatten 2D-> 1D\n",
        "Dense층: 은닉층\n",
        "\n",
        "Conv2D 파라미터\n",
        "filters : 합성곱에 사용할 필터의 개수\n",
        "kernel_size : 필터의 너비/높이\n",
        "input_shape : 입력데이터의 모양(크기), 마지막 인자 흑백이면 1 컬러면 3\n",
        "activation : 활성화함수 종류\n",
        "\n",
        "MaxPooling 파라미터\n",
        "pool_size : 풀의 크기\n",
        "strides : 풀이 한번에 이동하는 크기\n",
        "* 완전 연결층을 추가하고 모델을 컴파일하는 과정은 완전 연결 신경망을 구성할 때와 동일\n",
        "\n",
        "'''"
      ],
      "metadata": {
        "id": "OLZCHMVbNq2r",
        "colab": {
          "base_uri": "https://localhost:8080/",
          "height": 90
        },
        "outputId": "a03c1ed1-eaaf-4c39-93c0-aae247478b9f"
      },
      "execution_count": null,
      "outputs": [
        {
          "output_type": "execute_result",
          "data": {
            "text/plain": [
              "'\\n합성곱층 기술법\\nConv2D : 이미지를 위한 2차원 합성곱층\\nMaxPooling층 : MaxPooling2D\\nFlatten층 : Flatten\\n\\n\\nConv2D 파라미터\\nfilters : 합성곱에 사용할 필터의 개수\\nkernel_size : 필터의 너비/높이\\ninput_shape : 입력데이터의 모양(크기)\\nactivation : 활성화함수 종류\\n\\nMaxPooling 파라미터\\npool_size : 풀의 크기\\nstrides : 풀이 한번에 이동하는 크기\\n* 완전 연결층을 추가하고 모델을 컴파일하는 과정은 완전 연결 신경망을 구성할 때와 동일\\n\\n'"
            ],
            "application/vnd.google.colaboratory.intrinsic+json": {
              "type": "string"
            }
          },
          "metadata": {},
          "execution_count": 10
        }
      ]
    },
    {
      "cell_type": "code",
      "source": [
        "# 구성된 모델 사용하여 학습 진행\n",
        "model.fit(x_train, y_train, epochs=10, batch_size=64, validation_split=0.3)"
      ],
      "metadata": {
        "colab": {
          "base_uri": "https://localhost:8080/"
        },
        "id": "tuxXa1scDPlw",
        "outputId": "477dc14b-d7c0-4dc5-e29e-3c770d6899ff"
      },
      "execution_count": null,
      "outputs": [
        {
          "output_type": "stream",
          "name": "stdout",
          "text": [
            "Epoch 1/10\n",
            "219/219 [==============================] - 10s 42ms/step - loss: 1.6361 - accuracy: 0.8403 - val_loss: 0.2673 - val_accuracy: 0.9367\n",
            "Epoch 2/10\n",
            "219/219 [==============================] - 7s 32ms/step - loss: 0.1501 - accuracy: 0.9591 - val_loss: 0.1616 - val_accuracy: 0.9548\n",
            "Epoch 3/10\n",
            "219/219 [==============================] - 9s 41ms/step - loss: 0.0642 - accuracy: 0.9804 - val_loss: 0.1480 - val_accuracy: 0.9617\n",
            "Epoch 4/10\n",
            "219/219 [==============================] - 7s 32ms/step - loss: 0.0335 - accuracy: 0.9891 - val_loss: 0.1141 - val_accuracy: 0.9697\n",
            "Epoch 5/10\n",
            "219/219 [==============================] - 10s 44ms/step - loss: 0.0194 - accuracy: 0.9933 - val_loss: 0.1123 - val_accuracy: 0.9725\n",
            "Epoch 6/10\n",
            "219/219 [==============================] - 7s 32ms/step - loss: 0.0092 - accuracy: 0.9972 - val_loss: 0.1263 - val_accuracy: 0.9762\n",
            "Epoch 7/10\n",
            "219/219 [==============================] - 9s 41ms/step - loss: 0.0062 - accuracy: 0.9977 - val_loss: 0.1453 - val_accuracy: 0.9733\n",
            "Epoch 8/10\n",
            "219/219 [==============================] - 13s 57ms/step - loss: 0.0045 - accuracy: 0.9981 - val_loss: 0.1441 - val_accuracy: 0.9778\n",
            "Epoch 9/10\n",
            "219/219 [==============================] - 7s 34ms/step - loss: 0.0021 - accuracy: 0.9994 - val_loss: 0.1484 - val_accuracy: 0.9753\n",
            "Epoch 10/10\n",
            "219/219 [==============================] - 16s 72ms/step - loss: 0.0028 - accuracy: 0.9989 - val_loss: 0.1901 - val_accuracy: 0.9737\n"
          ]
        },
        {
          "output_type": "execute_result",
          "data": {
            "text/plain": [
              "<keras.src.callbacks.History at 0x7d44a2804070>"
            ]
          },
          "metadata": {},
          "execution_count": 11
        }
      ]
    },
    {
      "cell_type": "markdown",
      "source": [
        "## 7.4.3 테스트"
      ],
      "metadata": {
        "id": "9Ey_z_ixDI8s"
      }
    },
    {
      "cell_type": "code",
      "source": [
        "data = pd.read_csv('./sample_data/mnist_test.csv', header=None)\n",
        "data = np.array(data)"
      ],
      "metadata": {
        "id": "QXOhnlwmNqwL"
      },
      "execution_count": null,
      "outputs": []
    },
    {
      "cell_type": "code",
      "source": [
        "x_test = data[:, 1:]\n",
        "y_test = data[:,0]\n",
        "x_test = x_test.reshape(-1,28,28,1)"
      ],
      "metadata": {
        "id": "Njz0uhwzEMFm"
      },
      "execution_count": null,
      "outputs": []
    },
    {
      "cell_type": "code",
      "source": [
        "o = model.predict(x_test)\n",
        "o = np.argmax(o,-1)"
      ],
      "metadata": {
        "colab": {
          "base_uri": "https://localhost:8080/"
        },
        "id": "JgcC8CucEMDA",
        "outputId": "5d9ebc16-69f9-4f2d-f812-759f02830abd"
      },
      "execution_count": null,
      "outputs": [
        {
          "output_type": "stream",
          "name": "stdout",
          "text": [
            "313/313 [==============================] - 2s 6ms/step\n"
          ]
        }
      ]
    },
    {
      "cell_type": "code",
      "source": [
        "sum(y_test == o)/len(y_test)"
      ],
      "metadata": {
        "colab": {
          "base_uri": "https://localhost:8080/"
        },
        "id": "U-sTHIuDEMAh",
        "outputId": "04547faa-9c0f-4bbe-8116-5106570fb60d"
      },
      "execution_count": null,
      "outputs": [
        {
          "output_type": "execute_result",
          "data": {
            "text/plain": [
              "0.9702"
            ]
          },
          "metadata": {},
          "execution_count": 16
        }
      ]
    },
    {
      "cell_type": "markdown",
      "source": [
        "## 7.4.4 결과 분석\n"
      ],
      "metadata": {
        "id": "TwyMC3evEoW5"
      }
    }
  ]
}